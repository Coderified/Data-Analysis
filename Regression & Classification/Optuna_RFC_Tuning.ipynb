{
  "nbformat": 4,
  "nbformat_minor": 0,
  "metadata": {
    "colab": {
      "provenance": []
    },
    "kernelspec": {
      "name": "python3",
      "display_name": "Python 3"
    },
    "language_info": {
      "name": "python"
    }
  },
  "cells": [
    {
      "cell_type": "code",
      "execution_count": 1,
      "metadata": {
        "colab": {
          "base_uri": "https://localhost:8080/"
        },
        "id": "b0z2w-xx6206",
        "outputId": "8dad8a6c-0c1f-4c60-8894-a4e4f9793e3e"
      },
      "outputs": [
        {
          "output_type": "stream",
          "name": "stdout",
          "text": [
            "Collecting optuna\n",
            "  Downloading optuna-4.3.0-py3-none-any.whl.metadata (17 kB)\n",
            "Collecting alembic>=1.5.0 (from optuna)\n",
            "  Downloading alembic-1.15.2-py3-none-any.whl.metadata (7.3 kB)\n",
            "Collecting colorlog (from optuna)\n",
            "  Downloading colorlog-6.9.0-py3-none-any.whl.metadata (10 kB)\n",
            "Requirement already satisfied: numpy in /usr/local/lib/python3.11/dist-packages (from optuna) (2.0.2)\n",
            "Requirement already satisfied: packaging>=20.0 in /usr/local/lib/python3.11/dist-packages (from optuna) (24.2)\n",
            "Requirement already satisfied: sqlalchemy>=1.4.2 in /usr/local/lib/python3.11/dist-packages (from optuna) (2.0.40)\n",
            "Requirement already satisfied: tqdm in /usr/local/lib/python3.11/dist-packages (from optuna) (4.67.1)\n",
            "Requirement already satisfied: PyYAML in /usr/local/lib/python3.11/dist-packages (from optuna) (6.0.2)\n",
            "Requirement already satisfied: Mako in /usr/lib/python3/dist-packages (from alembic>=1.5.0->optuna) (1.1.3)\n",
            "Requirement already satisfied: typing-extensions>=4.12 in /usr/local/lib/python3.11/dist-packages (from alembic>=1.5.0->optuna) (4.13.2)\n",
            "Requirement already satisfied: greenlet>=1 in /usr/local/lib/python3.11/dist-packages (from sqlalchemy>=1.4.2->optuna) (3.2.1)\n",
            "Downloading optuna-4.3.0-py3-none-any.whl (386 kB)\n",
            "\u001b[2K   \u001b[90m━━━━━━━━━━━━━━━━━━━━━━━━━━━━━━━━━━━━━━━━\u001b[0m \u001b[32m386.6/386.6 kB\u001b[0m \u001b[31m6.5 MB/s\u001b[0m eta \u001b[36m0:00:00\u001b[0m\n",
            "\u001b[?25hDownloading alembic-1.15.2-py3-none-any.whl (231 kB)\n",
            "\u001b[2K   \u001b[90m━━━━━━━━━━━━━━━━━━━━━━━━━━━━━━━━━━━━━━━━\u001b[0m \u001b[32m231.9/231.9 kB\u001b[0m \u001b[31m13.8 MB/s\u001b[0m eta \u001b[36m0:00:00\u001b[0m\n",
            "\u001b[?25hDownloading colorlog-6.9.0-py3-none-any.whl (11 kB)\n",
            "Installing collected packages: colorlog, alembic, optuna\n",
            "Successfully installed alembic-1.15.2 colorlog-6.9.0 optuna-4.3.0\n"
          ]
        }
      ],
      "source": [
        "!pip install optuna"
      ]
    },
    {
      "cell_type": "code",
      "source": [
        "import pandas as pd\n",
        "import optuna\n",
        "from sklearn.datasets import load_diabetes\n",
        "from sklearn.model_selection import train_test_split\n",
        "from sklearn.preprocessing import StandardScaler\n",
        "\n",
        "url = \"https://raw.githubusercontent.com/jbrownlee/Datasets/master/pima-indians-diabetes.data.csv\"\n",
        "columns = ['Pregnancies', 'Glucose', 'BloodPressure', 'SkinThickness', 'Insulin', 'BMI',\n",
        "           'DiabetesPedigreeFunction', 'Age', 'Outcome']\n",
        "\n",
        "df = pd.read_csv(url,names = columns)\n",
        "\n",
        "df.head()"
      ],
      "metadata": {
        "colab": {
          "base_uri": "https://localhost:8080/",
          "height": 206
        },
        "id": "OTfyOiLO69h6",
        "outputId": "bf893956-1627-4a2e-b3d7-9c0425df6e01"
      },
      "execution_count": 4,
      "outputs": [
        {
          "output_type": "execute_result",
          "data": {
            "text/plain": [
              "   Pregnancies  Glucose  BloodPressure  ...  DiabetesPedigreeFunction  Age  Outcome\n",
              "0            6      148             72  ...                     0.627   50        1\n",
              "1            1       85             66  ...                     0.351   31        0\n",
              "2            8      183             64  ...                     0.672   32        1\n",
              "3            1       89             66  ...                     0.167   21        0\n",
              "4            0      137             40  ...                     2.288   33        1\n",
              "\n",
              "[5 rows x 9 columns]"
            ],
            "text/html": [
              "\n",
              "  <div id=\"df-0d441a0f-04e4-4c9b-9ccb-f0369c2a9829\" class=\"colab-df-container\">\n",
              "    <div>\n",
              "<style scoped>\n",
              "    .dataframe tbody tr th:only-of-type {\n",
              "        vertical-align: middle;\n",
              "    }\n",
              "\n",
              "    .dataframe tbody tr th {\n",
              "        vertical-align: top;\n",
              "    }\n",
              "\n",
              "    .dataframe thead th {\n",
              "        text-align: right;\n",
              "    }\n",
              "</style>\n",
              "<table border=\"1\" class=\"dataframe\">\n",
              "  <thead>\n",
              "    <tr style=\"text-align: right;\">\n",
              "      <th></th>\n",
              "      <th>Pregnancies</th>\n",
              "      <th>Glucose</th>\n",
              "      <th>BloodPressure</th>\n",
              "      <th>SkinThickness</th>\n",
              "      <th>Insulin</th>\n",
              "      <th>BMI</th>\n",
              "      <th>DiabetesPedigreeFunction</th>\n",
              "      <th>Age</th>\n",
              "      <th>Outcome</th>\n",
              "    </tr>\n",
              "  </thead>\n",
              "  <tbody>\n",
              "    <tr>\n",
              "      <th>0</th>\n",
              "      <td>6</td>\n",
              "      <td>148</td>\n",
              "      <td>72</td>\n",
              "      <td>35</td>\n",
              "      <td>0</td>\n",
              "      <td>33.6</td>\n",
              "      <td>0.627</td>\n",
              "      <td>50</td>\n",
              "      <td>1</td>\n",
              "    </tr>\n",
              "    <tr>\n",
              "      <th>1</th>\n",
              "      <td>1</td>\n",
              "      <td>85</td>\n",
              "      <td>66</td>\n",
              "      <td>29</td>\n",
              "      <td>0</td>\n",
              "      <td>26.6</td>\n",
              "      <td>0.351</td>\n",
              "      <td>31</td>\n",
              "      <td>0</td>\n",
              "    </tr>\n",
              "    <tr>\n",
              "      <th>2</th>\n",
              "      <td>8</td>\n",
              "      <td>183</td>\n",
              "      <td>64</td>\n",
              "      <td>0</td>\n",
              "      <td>0</td>\n",
              "      <td>23.3</td>\n",
              "      <td>0.672</td>\n",
              "      <td>32</td>\n",
              "      <td>1</td>\n",
              "    </tr>\n",
              "    <tr>\n",
              "      <th>3</th>\n",
              "      <td>1</td>\n",
              "      <td>89</td>\n",
              "      <td>66</td>\n",
              "      <td>23</td>\n",
              "      <td>94</td>\n",
              "      <td>28.1</td>\n",
              "      <td>0.167</td>\n",
              "      <td>21</td>\n",
              "      <td>0</td>\n",
              "    </tr>\n",
              "    <tr>\n",
              "      <th>4</th>\n",
              "      <td>0</td>\n",
              "      <td>137</td>\n",
              "      <td>40</td>\n",
              "      <td>35</td>\n",
              "      <td>168</td>\n",
              "      <td>43.1</td>\n",
              "      <td>2.288</td>\n",
              "      <td>33</td>\n",
              "      <td>1</td>\n",
              "    </tr>\n",
              "  </tbody>\n",
              "</table>\n",
              "</div>\n",
              "    <div class=\"colab-df-buttons\">\n",
              "\n",
              "  <div class=\"colab-df-container\">\n",
              "    <button class=\"colab-df-convert\" onclick=\"convertToInteractive('df-0d441a0f-04e4-4c9b-9ccb-f0369c2a9829')\"\n",
              "            title=\"Convert this dataframe to an interactive table.\"\n",
              "            style=\"display:none;\">\n",
              "\n",
              "  <svg xmlns=\"http://www.w3.org/2000/svg\" height=\"24px\" viewBox=\"0 -960 960 960\">\n",
              "    <path d=\"M120-120v-720h720v720H120Zm60-500h600v-160H180v160Zm220 220h160v-160H400v160Zm0 220h160v-160H400v160ZM180-400h160v-160H180v160Zm440 0h160v-160H620v160ZM180-180h160v-160H180v160Zm440 0h160v-160H620v160Z\"/>\n",
              "  </svg>\n",
              "    </button>\n",
              "\n",
              "  <style>\n",
              "    .colab-df-container {\n",
              "      display:flex;\n",
              "      gap: 12px;\n",
              "    }\n",
              "\n",
              "    .colab-df-convert {\n",
              "      background-color: #E8F0FE;\n",
              "      border: none;\n",
              "      border-radius: 50%;\n",
              "      cursor: pointer;\n",
              "      display: none;\n",
              "      fill: #1967D2;\n",
              "      height: 32px;\n",
              "      padding: 0 0 0 0;\n",
              "      width: 32px;\n",
              "    }\n",
              "\n",
              "    .colab-df-convert:hover {\n",
              "      background-color: #E2EBFA;\n",
              "      box-shadow: 0px 1px 2px rgba(60, 64, 67, 0.3), 0px 1px 3px 1px rgba(60, 64, 67, 0.15);\n",
              "      fill: #174EA6;\n",
              "    }\n",
              "\n",
              "    .colab-df-buttons div {\n",
              "      margin-bottom: 4px;\n",
              "    }\n",
              "\n",
              "    [theme=dark] .colab-df-convert {\n",
              "      background-color: #3B4455;\n",
              "      fill: #D2E3FC;\n",
              "    }\n",
              "\n",
              "    [theme=dark] .colab-df-convert:hover {\n",
              "      background-color: #434B5C;\n",
              "      box-shadow: 0px 1px 3px 1px rgba(0, 0, 0, 0.15);\n",
              "      filter: drop-shadow(0px 1px 2px rgba(0, 0, 0, 0.3));\n",
              "      fill: #FFFFFF;\n",
              "    }\n",
              "  </style>\n",
              "\n",
              "    <script>\n",
              "      const buttonEl =\n",
              "        document.querySelector('#df-0d441a0f-04e4-4c9b-9ccb-f0369c2a9829 button.colab-df-convert');\n",
              "      buttonEl.style.display =\n",
              "        google.colab.kernel.accessAllowed ? 'block' : 'none';\n",
              "\n",
              "      async function convertToInteractive(key) {\n",
              "        const element = document.querySelector('#df-0d441a0f-04e4-4c9b-9ccb-f0369c2a9829');\n",
              "        const dataTable =\n",
              "          await google.colab.kernel.invokeFunction('convertToInteractive',\n",
              "                                                    [key], {});\n",
              "        if (!dataTable) return;\n",
              "\n",
              "        const docLinkHtml = 'Like what you see? Visit the ' +\n",
              "          '<a target=\"_blank\" href=https://colab.research.google.com/notebooks/data_table.ipynb>data table notebook</a>'\n",
              "          + ' to learn more about interactive tables.';\n",
              "        element.innerHTML = '';\n",
              "        dataTable['output_type'] = 'display_data';\n",
              "        await google.colab.output.renderOutput(dataTable, element);\n",
              "        const docLink = document.createElement('div');\n",
              "        docLink.innerHTML = docLinkHtml;\n",
              "        element.appendChild(docLink);\n",
              "      }\n",
              "    </script>\n",
              "  </div>\n",
              "\n",
              "\n",
              "    <div id=\"df-0bfe38c8-0a4d-409b-b43f-5ea9d6124fba\">\n",
              "      <button class=\"colab-df-quickchart\" onclick=\"quickchart('df-0bfe38c8-0a4d-409b-b43f-5ea9d6124fba')\"\n",
              "                title=\"Suggest charts\"\n",
              "                style=\"display:none;\">\n",
              "\n",
              "<svg xmlns=\"http://www.w3.org/2000/svg\" height=\"24px\"viewBox=\"0 0 24 24\"\n",
              "     width=\"24px\">\n",
              "    <g>\n",
              "        <path d=\"M19 3H5c-1.1 0-2 .9-2 2v14c0 1.1.9 2 2 2h14c1.1 0 2-.9 2-2V5c0-1.1-.9-2-2-2zM9 17H7v-7h2v7zm4 0h-2V7h2v10zm4 0h-2v-4h2v4z\"/>\n",
              "    </g>\n",
              "</svg>\n",
              "      </button>\n",
              "\n",
              "<style>\n",
              "  .colab-df-quickchart {\n",
              "      --bg-color: #E8F0FE;\n",
              "      --fill-color: #1967D2;\n",
              "      --hover-bg-color: #E2EBFA;\n",
              "      --hover-fill-color: #174EA6;\n",
              "      --disabled-fill-color: #AAA;\n",
              "      --disabled-bg-color: #DDD;\n",
              "  }\n",
              "\n",
              "  [theme=dark] .colab-df-quickchart {\n",
              "      --bg-color: #3B4455;\n",
              "      --fill-color: #D2E3FC;\n",
              "      --hover-bg-color: #434B5C;\n",
              "      --hover-fill-color: #FFFFFF;\n",
              "      --disabled-bg-color: #3B4455;\n",
              "      --disabled-fill-color: #666;\n",
              "  }\n",
              "\n",
              "  .colab-df-quickchart {\n",
              "    background-color: var(--bg-color);\n",
              "    border: none;\n",
              "    border-radius: 50%;\n",
              "    cursor: pointer;\n",
              "    display: none;\n",
              "    fill: var(--fill-color);\n",
              "    height: 32px;\n",
              "    padding: 0;\n",
              "    width: 32px;\n",
              "  }\n",
              "\n",
              "  .colab-df-quickchart:hover {\n",
              "    background-color: var(--hover-bg-color);\n",
              "    box-shadow: 0 1px 2px rgba(60, 64, 67, 0.3), 0 1px 3px 1px rgba(60, 64, 67, 0.15);\n",
              "    fill: var(--button-hover-fill-color);\n",
              "  }\n",
              "\n",
              "  .colab-df-quickchart-complete:disabled,\n",
              "  .colab-df-quickchart-complete:disabled:hover {\n",
              "    background-color: var(--disabled-bg-color);\n",
              "    fill: var(--disabled-fill-color);\n",
              "    box-shadow: none;\n",
              "  }\n",
              "\n",
              "  .colab-df-spinner {\n",
              "    border: 2px solid var(--fill-color);\n",
              "    border-color: transparent;\n",
              "    border-bottom-color: var(--fill-color);\n",
              "    animation:\n",
              "      spin 1s steps(1) infinite;\n",
              "  }\n",
              "\n",
              "  @keyframes spin {\n",
              "    0% {\n",
              "      border-color: transparent;\n",
              "      border-bottom-color: var(--fill-color);\n",
              "      border-left-color: var(--fill-color);\n",
              "    }\n",
              "    20% {\n",
              "      border-color: transparent;\n",
              "      border-left-color: var(--fill-color);\n",
              "      border-top-color: var(--fill-color);\n",
              "    }\n",
              "    30% {\n",
              "      border-color: transparent;\n",
              "      border-left-color: var(--fill-color);\n",
              "      border-top-color: var(--fill-color);\n",
              "      border-right-color: var(--fill-color);\n",
              "    }\n",
              "    40% {\n",
              "      border-color: transparent;\n",
              "      border-right-color: var(--fill-color);\n",
              "      border-top-color: var(--fill-color);\n",
              "    }\n",
              "    60% {\n",
              "      border-color: transparent;\n",
              "      border-right-color: var(--fill-color);\n",
              "    }\n",
              "    80% {\n",
              "      border-color: transparent;\n",
              "      border-right-color: var(--fill-color);\n",
              "      border-bottom-color: var(--fill-color);\n",
              "    }\n",
              "    90% {\n",
              "      border-color: transparent;\n",
              "      border-bottom-color: var(--fill-color);\n",
              "    }\n",
              "  }\n",
              "</style>\n",
              "\n",
              "      <script>\n",
              "        async function quickchart(key) {\n",
              "          const quickchartButtonEl =\n",
              "            document.querySelector('#' + key + ' button');\n",
              "          quickchartButtonEl.disabled = true;  // To prevent multiple clicks.\n",
              "          quickchartButtonEl.classList.add('colab-df-spinner');\n",
              "          try {\n",
              "            const charts = await google.colab.kernel.invokeFunction(\n",
              "                'suggestCharts', [key], {});\n",
              "          } catch (error) {\n",
              "            console.error('Error during call to suggestCharts:', error);\n",
              "          }\n",
              "          quickchartButtonEl.classList.remove('colab-df-spinner');\n",
              "          quickchartButtonEl.classList.add('colab-df-quickchart-complete');\n",
              "        }\n",
              "        (() => {\n",
              "          let quickchartButtonEl =\n",
              "            document.querySelector('#df-0bfe38c8-0a4d-409b-b43f-5ea9d6124fba button');\n",
              "          quickchartButtonEl.style.display =\n",
              "            google.colab.kernel.accessAllowed ? 'block' : 'none';\n",
              "        })();\n",
              "      </script>\n",
              "    </div>\n",
              "\n",
              "    </div>\n",
              "  </div>\n"
            ],
            "application/vnd.google.colaboratory.intrinsic+json": {
              "type": "dataframe",
              "variable_name": "df",
              "summary": "{\n  \"name\": \"df\",\n  \"rows\": 768,\n  \"fields\": [\n    {\n      \"column\": \"Pregnancies\",\n      \"properties\": {\n        \"dtype\": \"number\",\n        \"std\": 3,\n        \"min\": 0,\n        \"max\": 17,\n        \"num_unique_values\": 17,\n        \"samples\": [\n          6,\n          1,\n          3\n        ],\n        \"semantic_type\": \"\",\n        \"description\": \"\"\n      }\n    },\n    {\n      \"column\": \"Glucose\",\n      \"properties\": {\n        \"dtype\": \"number\",\n        \"std\": 31,\n        \"min\": 0,\n        \"max\": 199,\n        \"num_unique_values\": 136,\n        \"samples\": [\n          151,\n          101,\n          112\n        ],\n        \"semantic_type\": \"\",\n        \"description\": \"\"\n      }\n    },\n    {\n      \"column\": \"BloodPressure\",\n      \"properties\": {\n        \"dtype\": \"number\",\n        \"std\": 19,\n        \"min\": 0,\n        \"max\": 122,\n        \"num_unique_values\": 47,\n        \"samples\": [\n          86,\n          46,\n          85\n        ],\n        \"semantic_type\": \"\",\n        \"description\": \"\"\n      }\n    },\n    {\n      \"column\": \"SkinThickness\",\n      \"properties\": {\n        \"dtype\": \"number\",\n        \"std\": 15,\n        \"min\": 0,\n        \"max\": 99,\n        \"num_unique_values\": 51,\n        \"samples\": [\n          7,\n          12,\n          48\n        ],\n        \"semantic_type\": \"\",\n        \"description\": \"\"\n      }\n    },\n    {\n      \"column\": \"Insulin\",\n      \"properties\": {\n        \"dtype\": \"number\",\n        \"std\": 115,\n        \"min\": 0,\n        \"max\": 846,\n        \"num_unique_values\": 186,\n        \"samples\": [\n          52,\n          41,\n          183\n        ],\n        \"semantic_type\": \"\",\n        \"description\": \"\"\n      }\n    },\n    {\n      \"column\": \"BMI\",\n      \"properties\": {\n        \"dtype\": \"number\",\n        \"std\": 7.8841603203754405,\n        \"min\": 0.0,\n        \"max\": 67.1,\n        \"num_unique_values\": 248,\n        \"samples\": [\n          19.9,\n          31.0,\n          38.1\n        ],\n        \"semantic_type\": \"\",\n        \"description\": \"\"\n      }\n    },\n    {\n      \"column\": \"DiabetesPedigreeFunction\",\n      \"properties\": {\n        \"dtype\": \"number\",\n        \"std\": 0.33132859501277484,\n        \"min\": 0.078,\n        \"max\": 2.42,\n        \"num_unique_values\": 517,\n        \"samples\": [\n          1.731,\n          0.426,\n          0.138\n        ],\n        \"semantic_type\": \"\",\n        \"description\": \"\"\n      }\n    },\n    {\n      \"column\": \"Age\",\n      \"properties\": {\n        \"dtype\": \"number\",\n        \"std\": 11,\n        \"min\": 21,\n        \"max\": 81,\n        \"num_unique_values\": 52,\n        \"samples\": [\n          60,\n          47,\n          72\n        ],\n        \"semantic_type\": \"\",\n        \"description\": \"\"\n      }\n    },\n    {\n      \"column\": \"Outcome\",\n      \"properties\": {\n        \"dtype\": \"number\",\n        \"std\": 0,\n        \"min\": 0,\n        \"max\": 1,\n        \"num_unique_values\": 2,\n        \"samples\": [\n          0,\n          1\n        ],\n        \"semantic_type\": \"\",\n        \"description\": \"\"\n      }\n    }\n  ]\n}"
            }
          },
          "metadata": {},
          "execution_count": 4
        }
      ]
    },
    {
      "cell_type": "code",
      "source": [
        "for cols in df.columns:\n",
        "  print(f\"{cols} has value counts\",df[df[cols].values==0][cols].value_counts())"
      ],
      "metadata": {
        "colab": {
          "base_uri": "https://localhost:8080/"
        },
        "id": "E8lMJSda7SGO",
        "outputId": "14b8bbc5-33b6-4e0a-fb67-8164cfac2869"
      },
      "execution_count": 12,
      "outputs": [
        {
          "output_type": "stream",
          "name": "stdout",
          "text": [
            "Pregnancies has value counts Pregnancies\n",
            "0    111\n",
            "Name: count, dtype: int64\n",
            "Glucose has value counts Glucose\n",
            "0    5\n",
            "Name: count, dtype: int64\n",
            "BloodPressure has value counts BloodPressure\n",
            "0    35\n",
            "Name: count, dtype: int64\n",
            "SkinThickness has value counts SkinThickness\n",
            "0    227\n",
            "Name: count, dtype: int64\n",
            "Insulin has value counts Insulin\n",
            "0    374\n",
            "Name: count, dtype: int64\n",
            "BMI has value counts BMI\n",
            "0.0    11\n",
            "Name: count, dtype: int64\n",
            "DiabetesPedigreeFunction has value counts Series([], Name: count, dtype: int64)\n",
            "Age has value counts Series([], Name: count, dtype: int64)\n",
            "Outcome has value counts Outcome\n",
            "0    500\n",
            "Name: count, dtype: int64\n"
          ]
        }
      ]
    },
    {
      "cell_type": "code",
      "source": [
        "import numpy as np"
      ],
      "metadata": {
        "id": "0_UM53Dp88tD"
      },
      "execution_count": 13,
      "outputs": []
    },
    {
      "cell_type": "code",
      "source": [
        "cols_with_zeros = ['Glucose', 'BloodPressure', 'SkinThickness', 'Insulin', 'BMI']\n",
        "df[cols_with_zeros] = df[cols_with_zeros].replace(0, np.nan)"
      ],
      "metadata": {
        "id": "g17KA7q47nfk"
      },
      "execution_count": 14,
      "outputs": []
    },
    {
      "cell_type": "code",
      "source": [
        "df.isnull().sum()"
      ],
      "metadata": {
        "colab": {
          "base_uri": "https://localhost:8080/",
          "height": 366
        },
        "id": "wf9BkEZx8_gf",
        "outputId": "fb0644f9-3f0a-4cf9-bc23-6d18aab2080b"
      },
      "execution_count": 15,
      "outputs": [
        {
          "output_type": "execute_result",
          "data": {
            "text/plain": [
              "Pregnancies                   0\n",
              "Glucose                       5\n",
              "BloodPressure                35\n",
              "SkinThickness               227\n",
              "Insulin                     374\n",
              "BMI                          11\n",
              "DiabetesPedigreeFunction      0\n",
              "Age                           0\n",
              "Outcome                       0\n",
              "dtype: int64"
            ],
            "text/html": [
              "<div>\n",
              "<style scoped>\n",
              "    .dataframe tbody tr th:only-of-type {\n",
              "        vertical-align: middle;\n",
              "    }\n",
              "\n",
              "    .dataframe tbody tr th {\n",
              "        vertical-align: top;\n",
              "    }\n",
              "\n",
              "    .dataframe thead th {\n",
              "        text-align: right;\n",
              "    }\n",
              "</style>\n",
              "<table border=\"1\" class=\"dataframe\">\n",
              "  <thead>\n",
              "    <tr style=\"text-align: right;\">\n",
              "      <th></th>\n",
              "      <th>0</th>\n",
              "    </tr>\n",
              "  </thead>\n",
              "  <tbody>\n",
              "    <tr>\n",
              "      <th>Pregnancies</th>\n",
              "      <td>0</td>\n",
              "    </tr>\n",
              "    <tr>\n",
              "      <th>Glucose</th>\n",
              "      <td>5</td>\n",
              "    </tr>\n",
              "    <tr>\n",
              "      <th>BloodPressure</th>\n",
              "      <td>35</td>\n",
              "    </tr>\n",
              "    <tr>\n",
              "      <th>SkinThickness</th>\n",
              "      <td>227</td>\n",
              "    </tr>\n",
              "    <tr>\n",
              "      <th>Insulin</th>\n",
              "      <td>374</td>\n",
              "    </tr>\n",
              "    <tr>\n",
              "      <th>BMI</th>\n",
              "      <td>11</td>\n",
              "    </tr>\n",
              "    <tr>\n",
              "      <th>DiabetesPedigreeFunction</th>\n",
              "      <td>0</td>\n",
              "    </tr>\n",
              "    <tr>\n",
              "      <th>Age</th>\n",
              "      <td>0</td>\n",
              "    </tr>\n",
              "    <tr>\n",
              "      <th>Outcome</th>\n",
              "      <td>0</td>\n",
              "    </tr>\n",
              "  </tbody>\n",
              "</table>\n",
              "</div><br><label><b>dtype:</b> int64</label>"
            ]
          },
          "metadata": {},
          "execution_count": 15
        }
      ]
    },
    {
      "cell_type": "code",
      "source": [
        "df.fillna(df.mean(),inplace=True)"
      ],
      "metadata": {
        "id": "raN6CKEF9A8O"
      },
      "execution_count": 16,
      "outputs": []
    },
    {
      "cell_type": "code",
      "source": [
        "df.isnull().sum()"
      ],
      "metadata": {
        "colab": {
          "base_uri": "https://localhost:8080/",
          "height": 366
        },
        "id": "HalWE_b-9SEX",
        "outputId": "97f1aa3a-30bf-4f38-9d96-17d39e4428b5"
      },
      "execution_count": 17,
      "outputs": [
        {
          "output_type": "execute_result",
          "data": {
            "text/plain": [
              "Pregnancies                 0\n",
              "Glucose                     0\n",
              "BloodPressure               0\n",
              "SkinThickness               0\n",
              "Insulin                     0\n",
              "BMI                         0\n",
              "DiabetesPedigreeFunction    0\n",
              "Age                         0\n",
              "Outcome                     0\n",
              "dtype: int64"
            ],
            "text/html": [
              "<div>\n",
              "<style scoped>\n",
              "    .dataframe tbody tr th:only-of-type {\n",
              "        vertical-align: middle;\n",
              "    }\n",
              "\n",
              "    .dataframe tbody tr th {\n",
              "        vertical-align: top;\n",
              "    }\n",
              "\n",
              "    .dataframe thead th {\n",
              "        text-align: right;\n",
              "    }\n",
              "</style>\n",
              "<table border=\"1\" class=\"dataframe\">\n",
              "  <thead>\n",
              "    <tr style=\"text-align: right;\">\n",
              "      <th></th>\n",
              "      <th>0</th>\n",
              "    </tr>\n",
              "  </thead>\n",
              "  <tbody>\n",
              "    <tr>\n",
              "      <th>Pregnancies</th>\n",
              "      <td>0</td>\n",
              "    </tr>\n",
              "    <tr>\n",
              "      <th>Glucose</th>\n",
              "      <td>0</td>\n",
              "    </tr>\n",
              "    <tr>\n",
              "      <th>BloodPressure</th>\n",
              "      <td>0</td>\n",
              "    </tr>\n",
              "    <tr>\n",
              "      <th>SkinThickness</th>\n",
              "      <td>0</td>\n",
              "    </tr>\n",
              "    <tr>\n",
              "      <th>Insulin</th>\n",
              "      <td>0</td>\n",
              "    </tr>\n",
              "    <tr>\n",
              "      <th>BMI</th>\n",
              "      <td>0</td>\n",
              "    </tr>\n",
              "    <tr>\n",
              "      <th>DiabetesPedigreeFunction</th>\n",
              "      <td>0</td>\n",
              "    </tr>\n",
              "    <tr>\n",
              "      <th>Age</th>\n",
              "      <td>0</td>\n",
              "    </tr>\n",
              "    <tr>\n",
              "      <th>Outcome</th>\n",
              "      <td>0</td>\n",
              "    </tr>\n",
              "  </tbody>\n",
              "</table>\n",
              "</div><br><label><b>dtype:</b> int64</label>"
            ]
          },
          "metadata": {},
          "execution_count": 17
        }
      ]
    },
    {
      "cell_type": "code",
      "source": [
        "df.head()"
      ],
      "metadata": {
        "colab": {
          "base_uri": "https://localhost:8080/",
          "height": 206
        },
        "id": "XmS12li59TDI",
        "outputId": "16c01e01-7475-4e7b-f3d1-ebc9cb592b3b"
      },
      "execution_count": 18,
      "outputs": [
        {
          "output_type": "execute_result",
          "data": {
            "text/plain": [
              "   Pregnancies  Glucose  BloodPressure  ...  DiabetesPedigreeFunction  Age  Outcome\n",
              "0            6    148.0           72.0  ...                     0.627   50        1\n",
              "1            1     85.0           66.0  ...                     0.351   31        0\n",
              "2            8    183.0           64.0  ...                     0.672   32        1\n",
              "3            1     89.0           66.0  ...                     0.167   21        0\n",
              "4            0    137.0           40.0  ...                     2.288   33        1\n",
              "\n",
              "[5 rows x 9 columns]"
            ],
            "text/html": [
              "\n",
              "  <div id=\"df-ac3ab3d4-f7a9-4692-aa9e-640e77cefcd6\" class=\"colab-df-container\">\n",
              "    <div>\n",
              "<style scoped>\n",
              "    .dataframe tbody tr th:only-of-type {\n",
              "        vertical-align: middle;\n",
              "    }\n",
              "\n",
              "    .dataframe tbody tr th {\n",
              "        vertical-align: top;\n",
              "    }\n",
              "\n",
              "    .dataframe thead th {\n",
              "        text-align: right;\n",
              "    }\n",
              "</style>\n",
              "<table border=\"1\" class=\"dataframe\">\n",
              "  <thead>\n",
              "    <tr style=\"text-align: right;\">\n",
              "      <th></th>\n",
              "      <th>Pregnancies</th>\n",
              "      <th>Glucose</th>\n",
              "      <th>BloodPressure</th>\n",
              "      <th>SkinThickness</th>\n",
              "      <th>Insulin</th>\n",
              "      <th>BMI</th>\n",
              "      <th>DiabetesPedigreeFunction</th>\n",
              "      <th>Age</th>\n",
              "      <th>Outcome</th>\n",
              "    </tr>\n",
              "  </thead>\n",
              "  <tbody>\n",
              "    <tr>\n",
              "      <th>0</th>\n",
              "      <td>6</td>\n",
              "      <td>148.0</td>\n",
              "      <td>72.0</td>\n",
              "      <td>35.00000</td>\n",
              "      <td>155.548223</td>\n",
              "      <td>33.6</td>\n",
              "      <td>0.627</td>\n",
              "      <td>50</td>\n",
              "      <td>1</td>\n",
              "    </tr>\n",
              "    <tr>\n",
              "      <th>1</th>\n",
              "      <td>1</td>\n",
              "      <td>85.0</td>\n",
              "      <td>66.0</td>\n",
              "      <td>29.00000</td>\n",
              "      <td>155.548223</td>\n",
              "      <td>26.6</td>\n",
              "      <td>0.351</td>\n",
              "      <td>31</td>\n",
              "      <td>0</td>\n",
              "    </tr>\n",
              "    <tr>\n",
              "      <th>2</th>\n",
              "      <td>8</td>\n",
              "      <td>183.0</td>\n",
              "      <td>64.0</td>\n",
              "      <td>29.15342</td>\n",
              "      <td>155.548223</td>\n",
              "      <td>23.3</td>\n",
              "      <td>0.672</td>\n",
              "      <td>32</td>\n",
              "      <td>1</td>\n",
              "    </tr>\n",
              "    <tr>\n",
              "      <th>3</th>\n",
              "      <td>1</td>\n",
              "      <td>89.0</td>\n",
              "      <td>66.0</td>\n",
              "      <td>23.00000</td>\n",
              "      <td>94.000000</td>\n",
              "      <td>28.1</td>\n",
              "      <td>0.167</td>\n",
              "      <td>21</td>\n",
              "      <td>0</td>\n",
              "    </tr>\n",
              "    <tr>\n",
              "      <th>4</th>\n",
              "      <td>0</td>\n",
              "      <td>137.0</td>\n",
              "      <td>40.0</td>\n",
              "      <td>35.00000</td>\n",
              "      <td>168.000000</td>\n",
              "      <td>43.1</td>\n",
              "      <td>2.288</td>\n",
              "      <td>33</td>\n",
              "      <td>1</td>\n",
              "    </tr>\n",
              "  </tbody>\n",
              "</table>\n",
              "</div>\n",
              "    <div class=\"colab-df-buttons\">\n",
              "\n",
              "  <div class=\"colab-df-container\">\n",
              "    <button class=\"colab-df-convert\" onclick=\"convertToInteractive('df-ac3ab3d4-f7a9-4692-aa9e-640e77cefcd6')\"\n",
              "            title=\"Convert this dataframe to an interactive table.\"\n",
              "            style=\"display:none;\">\n",
              "\n",
              "  <svg xmlns=\"http://www.w3.org/2000/svg\" height=\"24px\" viewBox=\"0 -960 960 960\">\n",
              "    <path d=\"M120-120v-720h720v720H120Zm60-500h600v-160H180v160Zm220 220h160v-160H400v160Zm0 220h160v-160H400v160ZM180-400h160v-160H180v160Zm440 0h160v-160H620v160ZM180-180h160v-160H180v160Zm440 0h160v-160H620v160Z\"/>\n",
              "  </svg>\n",
              "    </button>\n",
              "\n",
              "  <style>\n",
              "    .colab-df-container {\n",
              "      display:flex;\n",
              "      gap: 12px;\n",
              "    }\n",
              "\n",
              "    .colab-df-convert {\n",
              "      background-color: #E8F0FE;\n",
              "      border: none;\n",
              "      border-radius: 50%;\n",
              "      cursor: pointer;\n",
              "      display: none;\n",
              "      fill: #1967D2;\n",
              "      height: 32px;\n",
              "      padding: 0 0 0 0;\n",
              "      width: 32px;\n",
              "    }\n",
              "\n",
              "    .colab-df-convert:hover {\n",
              "      background-color: #E2EBFA;\n",
              "      box-shadow: 0px 1px 2px rgba(60, 64, 67, 0.3), 0px 1px 3px 1px rgba(60, 64, 67, 0.15);\n",
              "      fill: #174EA6;\n",
              "    }\n",
              "\n",
              "    .colab-df-buttons div {\n",
              "      margin-bottom: 4px;\n",
              "    }\n",
              "\n",
              "    [theme=dark] .colab-df-convert {\n",
              "      background-color: #3B4455;\n",
              "      fill: #D2E3FC;\n",
              "    }\n",
              "\n",
              "    [theme=dark] .colab-df-convert:hover {\n",
              "      background-color: #434B5C;\n",
              "      box-shadow: 0px 1px 3px 1px rgba(0, 0, 0, 0.15);\n",
              "      filter: drop-shadow(0px 1px 2px rgba(0, 0, 0, 0.3));\n",
              "      fill: #FFFFFF;\n",
              "    }\n",
              "  </style>\n",
              "\n",
              "    <script>\n",
              "      const buttonEl =\n",
              "        document.querySelector('#df-ac3ab3d4-f7a9-4692-aa9e-640e77cefcd6 button.colab-df-convert');\n",
              "      buttonEl.style.display =\n",
              "        google.colab.kernel.accessAllowed ? 'block' : 'none';\n",
              "\n",
              "      async function convertToInteractive(key) {\n",
              "        const element = document.querySelector('#df-ac3ab3d4-f7a9-4692-aa9e-640e77cefcd6');\n",
              "        const dataTable =\n",
              "          await google.colab.kernel.invokeFunction('convertToInteractive',\n",
              "                                                    [key], {});\n",
              "        if (!dataTable) return;\n",
              "\n",
              "        const docLinkHtml = 'Like what you see? Visit the ' +\n",
              "          '<a target=\"_blank\" href=https://colab.research.google.com/notebooks/data_table.ipynb>data table notebook</a>'\n",
              "          + ' to learn more about interactive tables.';\n",
              "        element.innerHTML = '';\n",
              "        dataTable['output_type'] = 'display_data';\n",
              "        await google.colab.output.renderOutput(dataTable, element);\n",
              "        const docLink = document.createElement('div');\n",
              "        docLink.innerHTML = docLinkHtml;\n",
              "        element.appendChild(docLink);\n",
              "      }\n",
              "    </script>\n",
              "  </div>\n",
              "\n",
              "\n",
              "    <div id=\"df-b9c90da0-d2ab-4883-b561-72782238a661\">\n",
              "      <button class=\"colab-df-quickchart\" onclick=\"quickchart('df-b9c90da0-d2ab-4883-b561-72782238a661')\"\n",
              "                title=\"Suggest charts\"\n",
              "                style=\"display:none;\">\n",
              "\n",
              "<svg xmlns=\"http://www.w3.org/2000/svg\" height=\"24px\"viewBox=\"0 0 24 24\"\n",
              "     width=\"24px\">\n",
              "    <g>\n",
              "        <path d=\"M19 3H5c-1.1 0-2 .9-2 2v14c0 1.1.9 2 2 2h14c1.1 0 2-.9 2-2V5c0-1.1-.9-2-2-2zM9 17H7v-7h2v7zm4 0h-2V7h2v10zm4 0h-2v-4h2v4z\"/>\n",
              "    </g>\n",
              "</svg>\n",
              "      </button>\n",
              "\n",
              "<style>\n",
              "  .colab-df-quickchart {\n",
              "      --bg-color: #E8F0FE;\n",
              "      --fill-color: #1967D2;\n",
              "      --hover-bg-color: #E2EBFA;\n",
              "      --hover-fill-color: #174EA6;\n",
              "      --disabled-fill-color: #AAA;\n",
              "      --disabled-bg-color: #DDD;\n",
              "  }\n",
              "\n",
              "  [theme=dark] .colab-df-quickchart {\n",
              "      --bg-color: #3B4455;\n",
              "      --fill-color: #D2E3FC;\n",
              "      --hover-bg-color: #434B5C;\n",
              "      --hover-fill-color: #FFFFFF;\n",
              "      --disabled-bg-color: #3B4455;\n",
              "      --disabled-fill-color: #666;\n",
              "  }\n",
              "\n",
              "  .colab-df-quickchart {\n",
              "    background-color: var(--bg-color);\n",
              "    border: none;\n",
              "    border-radius: 50%;\n",
              "    cursor: pointer;\n",
              "    display: none;\n",
              "    fill: var(--fill-color);\n",
              "    height: 32px;\n",
              "    padding: 0;\n",
              "    width: 32px;\n",
              "  }\n",
              "\n",
              "  .colab-df-quickchart:hover {\n",
              "    background-color: var(--hover-bg-color);\n",
              "    box-shadow: 0 1px 2px rgba(60, 64, 67, 0.3), 0 1px 3px 1px rgba(60, 64, 67, 0.15);\n",
              "    fill: var(--button-hover-fill-color);\n",
              "  }\n",
              "\n",
              "  .colab-df-quickchart-complete:disabled,\n",
              "  .colab-df-quickchart-complete:disabled:hover {\n",
              "    background-color: var(--disabled-bg-color);\n",
              "    fill: var(--disabled-fill-color);\n",
              "    box-shadow: none;\n",
              "  }\n",
              "\n",
              "  .colab-df-spinner {\n",
              "    border: 2px solid var(--fill-color);\n",
              "    border-color: transparent;\n",
              "    border-bottom-color: var(--fill-color);\n",
              "    animation:\n",
              "      spin 1s steps(1) infinite;\n",
              "  }\n",
              "\n",
              "  @keyframes spin {\n",
              "    0% {\n",
              "      border-color: transparent;\n",
              "      border-bottom-color: var(--fill-color);\n",
              "      border-left-color: var(--fill-color);\n",
              "    }\n",
              "    20% {\n",
              "      border-color: transparent;\n",
              "      border-left-color: var(--fill-color);\n",
              "      border-top-color: var(--fill-color);\n",
              "    }\n",
              "    30% {\n",
              "      border-color: transparent;\n",
              "      border-left-color: var(--fill-color);\n",
              "      border-top-color: var(--fill-color);\n",
              "      border-right-color: var(--fill-color);\n",
              "    }\n",
              "    40% {\n",
              "      border-color: transparent;\n",
              "      border-right-color: var(--fill-color);\n",
              "      border-top-color: var(--fill-color);\n",
              "    }\n",
              "    60% {\n",
              "      border-color: transparent;\n",
              "      border-right-color: var(--fill-color);\n",
              "    }\n",
              "    80% {\n",
              "      border-color: transparent;\n",
              "      border-right-color: var(--fill-color);\n",
              "      border-bottom-color: var(--fill-color);\n",
              "    }\n",
              "    90% {\n",
              "      border-color: transparent;\n",
              "      border-bottom-color: var(--fill-color);\n",
              "    }\n",
              "  }\n",
              "</style>\n",
              "\n",
              "      <script>\n",
              "        async function quickchart(key) {\n",
              "          const quickchartButtonEl =\n",
              "            document.querySelector('#' + key + ' button');\n",
              "          quickchartButtonEl.disabled = true;  // To prevent multiple clicks.\n",
              "          quickchartButtonEl.classList.add('colab-df-spinner');\n",
              "          try {\n",
              "            const charts = await google.colab.kernel.invokeFunction(\n",
              "                'suggestCharts', [key], {});\n",
              "          } catch (error) {\n",
              "            console.error('Error during call to suggestCharts:', error);\n",
              "          }\n",
              "          quickchartButtonEl.classList.remove('colab-df-spinner');\n",
              "          quickchartButtonEl.classList.add('colab-df-quickchart-complete');\n",
              "        }\n",
              "        (() => {\n",
              "          let quickchartButtonEl =\n",
              "            document.querySelector('#df-b9c90da0-d2ab-4883-b561-72782238a661 button');\n",
              "          quickchartButtonEl.style.display =\n",
              "            google.colab.kernel.accessAllowed ? 'block' : 'none';\n",
              "        })();\n",
              "      </script>\n",
              "    </div>\n",
              "\n",
              "    </div>\n",
              "  </div>\n"
            ],
            "application/vnd.google.colaboratory.intrinsic+json": {
              "type": "dataframe",
              "variable_name": "df",
              "summary": "{\n  \"name\": \"df\",\n  \"rows\": 768,\n  \"fields\": [\n    {\n      \"column\": \"Pregnancies\",\n      \"properties\": {\n        \"dtype\": \"number\",\n        \"std\": 3,\n        \"min\": 0,\n        \"max\": 17,\n        \"num_unique_values\": 17,\n        \"samples\": [\n          6,\n          1,\n          3\n        ],\n        \"semantic_type\": \"\",\n        \"description\": \"\"\n      }\n    },\n    {\n      \"column\": \"Glucose\",\n      \"properties\": {\n        \"dtype\": \"number\",\n        \"std\": 30.43594886720766,\n        \"min\": 44.0,\n        \"max\": 199.0,\n        \"num_unique_values\": 136,\n        \"samples\": [\n          151.0,\n          101.0,\n          112.0\n        ],\n        \"semantic_type\": \"\",\n        \"description\": \"\"\n      }\n    },\n    {\n      \"column\": \"BloodPressure\",\n      \"properties\": {\n        \"dtype\": \"number\",\n        \"std\": 12.096346184037948,\n        \"min\": 24.0,\n        \"max\": 122.0,\n        \"num_unique_values\": 47,\n        \"samples\": [\n          86.0,\n          46.0,\n          85.0\n        ],\n        \"semantic_type\": \"\",\n        \"description\": \"\"\n      }\n    },\n    {\n      \"column\": \"SkinThickness\",\n      \"properties\": {\n        \"dtype\": \"number\",\n        \"std\": 8.79094192562453,\n        \"min\": 7.0,\n        \"max\": 99.0,\n        \"num_unique_values\": 51,\n        \"samples\": [\n          7.0,\n          12.0,\n          48.0\n        ],\n        \"semantic_type\": \"\",\n        \"description\": \"\"\n      }\n    },\n    {\n      \"column\": \"Insulin\",\n      \"properties\": {\n        \"dtype\": \"number\",\n        \"std\": 85.02110776922125,\n        \"min\": 14.0,\n        \"max\": 846.0,\n        \"num_unique_values\": 186,\n        \"samples\": [\n          52.0,\n          41.0,\n          183.0\n        ],\n        \"semantic_type\": \"\",\n        \"description\": \"\"\n      }\n    },\n    {\n      \"column\": \"BMI\",\n      \"properties\": {\n        \"dtype\": \"number\",\n        \"std\": 6.8751513275037786,\n        \"min\": 18.2,\n        \"max\": 67.1,\n        \"num_unique_values\": 248,\n        \"samples\": [\n          19.9,\n          31.0,\n          38.1\n        ],\n        \"semantic_type\": \"\",\n        \"description\": \"\"\n      }\n    },\n    {\n      \"column\": \"DiabetesPedigreeFunction\",\n      \"properties\": {\n        \"dtype\": \"number\",\n        \"std\": 0.33132859501277484,\n        \"min\": 0.078,\n        \"max\": 2.42,\n        \"num_unique_values\": 517,\n        \"samples\": [\n          1.731,\n          0.426,\n          0.138\n        ],\n        \"semantic_type\": \"\",\n        \"description\": \"\"\n      }\n    },\n    {\n      \"column\": \"Age\",\n      \"properties\": {\n        \"dtype\": \"number\",\n        \"std\": 11,\n        \"min\": 21,\n        \"max\": 81,\n        \"num_unique_values\": 52,\n        \"samples\": [\n          60,\n          47,\n          72\n        ],\n        \"semantic_type\": \"\",\n        \"description\": \"\"\n      }\n    },\n    {\n      \"column\": \"Outcome\",\n      \"properties\": {\n        \"dtype\": \"number\",\n        \"std\": 0,\n        \"min\": 0,\n        \"max\": 1,\n        \"num_unique_values\": 2,\n        \"samples\": [\n          0,\n          1\n        ],\n        \"semantic_type\": \"\",\n        \"description\": \"\"\n      }\n    }\n  ]\n}"
            }
          },
          "metadata": {},
          "execution_count": 18
        }
      ]
    },
    {
      "cell_type": "code",
      "source": [
        "X=df.drop(\"Outcome\",axis=1)\n",
        "y=df[\"Outcome\"]\n",
        "\n",
        "X_train, X_test, y_train, y_test = train_test_split(X, y, test_size=0.3, random_state=42)\n",
        "\n",
        "sc = StandardScaler()\n",
        "X_train = sc.fit_transform(X_train)\n",
        "X_test = sc.transform(X_test)"
      ],
      "metadata": {
        "id": "fFtBa8YJ9VMm"
      },
      "execution_count": 20,
      "outputs": []
    },
    {
      "cell_type": "code",
      "source": [
        "X_test.shape"
      ],
      "metadata": {
        "colab": {
          "base_uri": "https://localhost:8080/"
        },
        "id": "iwGBfVE99jVz",
        "outputId": "c4f6bb44-169b-4947-f3e9-41637e9817ef"
      },
      "execution_count": 25,
      "outputs": [
        {
          "output_type": "execute_result",
          "data": {
            "text/plain": [
              "(231, 8)"
            ]
          },
          "metadata": {},
          "execution_count": 25
        }
      ]
    },
    {
      "cell_type": "code",
      "source": [
        "from sklearn.ensemble import RandomForestClassifier\n",
        "from sklearn.model_selection import cross_val_score\n",
        "\n",
        "def objective(trial):\n",
        "  n_estimators = trial.suggest_int('n_estimators',50,200)\n",
        "  max_depth = trial.suggest_int('max_depth',1,20)\n",
        "\n",
        "  model = RandomForestClassifier(\n",
        "      n_estimators=n_estimators,\n",
        "      max_depth=max_depth,\n",
        "      random_state=42\n",
        "  )\n",
        "\n",
        "  score = cross_val_score(model,X_train,y_train,cv=5).mean()\n",
        "\n",
        "  return score"
      ],
      "metadata": {
        "id": "6I1F4VoU9pFY"
      },
      "execution_count": 54,
      "outputs": []
    },
    {
      "cell_type": "code",
      "source": [
        "study = optuna.create_study(direction = \"maximize\", sampler = optuna.samplers.TPESampler())\n",
        "study.optimize(objective,n_trials = 50)"
      ],
      "metadata": {
        "colab": {
          "base_uri": "https://localhost:8080/"
        },
        "id": "nxJzx47K-nhJ",
        "outputId": "93c2f4f7-a3fb-4cca-e390-df87ce3de39b"
      },
      "execution_count": 55,
      "outputs": [
        {
          "output_type": "stream",
          "name": "stderr",
          "text": [
            "[I 2025-05-11 11:18:32,565] A new study created in memory with name: no-name-def5e08b-ff87-4831-9fab-ba6ef9a75e1a\n",
            "[I 2025-05-11 11:18:34,159] Trial 0 finished with value: 0.7652994115610937 and parameters: {'n_estimators': 70, 'max_depth': 16}. Best is trial 0 with value: 0.7652994115610937.\n",
            "[I 2025-05-11 11:18:37,282] Trial 1 finished with value: 0.7671339563862929 and parameters: {'n_estimators': 174, 'max_depth': 11}. Best is trial 1 with value: 0.7671339563862929.\n",
            "[I 2025-05-11 11:18:38,539] Trial 2 finished with value: 0.7634129456559363 and parameters: {'n_estimators': 147, 'max_depth': 6}. Best is trial 1 with value: 0.7671339563862929.\n",
            "[I 2025-05-11 11:18:39,841] Trial 3 finished with value: 0.7634302526825891 and parameters: {'n_estimators': 143, 'max_depth': 20}. Best is trial 1 with value: 0.7671339563862929.\n",
            "[I 2025-05-11 11:18:41,111] Trial 4 finished with value: 0.7634302526825891 and parameters: {'n_estimators': 138, 'max_depth': 19}. Best is trial 1 with value: 0.7671339563862929.\n",
            "[I 2025-05-11 11:18:41,698] Trial 5 finished with value: 0.7596919349255797 and parameters: {'n_estimators': 65, 'max_depth': 5}. Best is trial 1 with value: 0.7671339563862929.\n",
            "[I 2025-05-11 11:18:42,459] Trial 6 finished with value: 0.7578573901003807 and parameters: {'n_estimators': 52, 'max_depth': 9}. Best is trial 1 with value: 0.7671339563862929.\n",
            "[I 2025-05-11 11:18:43,971] Trial 7 finished with value: 0.7690204222914503 and parameters: {'n_estimators': 106, 'max_depth': 9}. Best is trial 7 with value: 0.7690204222914503.\n",
            "[I 2025-05-11 11:18:44,757] Trial 8 finished with value: 0.7671512634129456 and parameters: {'n_estimators': 71, 'max_depth': 15}. Best is trial 7 with value: 0.7690204222914503.\n",
            "[I 2025-05-11 11:18:45,387] Trial 9 finished with value: 0.7541017653167186 and parameters: {'n_estimators': 71, 'max_depth': 7}. Best is trial 7 with value: 0.7690204222914503.\n",
            "[I 2025-05-11 11:18:46,151] Trial 10 finished with value: 0.7281066112841813 and parameters: {'n_estimators': 100, 'max_depth': 1}. Best is trial 7 with value: 0.7690204222914503.\n",
            "[I 2025-05-11 11:18:47,055] Trial 11 finished with value: 0.7596746278989269 and parameters: {'n_estimators': 96, 'max_depth': 13}. Best is trial 7 with value: 0.7690204222914503.\n",
            "[I 2025-05-11 11:18:48,020] Trial 12 finished with value: 0.7634302526825891 and parameters: {'n_estimators': 104, 'max_depth': 14}. Best is trial 7 with value: 0.7690204222914503.\n",
            "[I 2025-05-11 11:18:49,022] Trial 13 finished with value: 0.765282104534441 and parameters: {'n_estimators': 107, 'max_depth': 16}. Best is trial 7 with value: 0.7690204222914503.\n",
            "[I 2025-05-11 11:18:49,802] Trial 14 finished with value: 0.7652474904811353 and parameters: {'n_estimators': 84, 'max_depth': 10}. Best is trial 7 with value: 0.7690204222914503.\n",
            "[I 2025-05-11 11:18:50,770] Trial 15 finished with value: 0.7541363793700241 and parameters: {'n_estimators': 122, 'max_depth': 3}. Best is trial 7 with value: 0.7690204222914503.\n",
            "[I 2025-05-11 11:18:52,406] Trial 16 finished with value: 0.7633956386292835 and parameters: {'n_estimators': 180, 'max_depth': 13}. Best is trial 7 with value: 0.7690204222914503.\n",
            "[I 2025-05-11 11:18:53,221] Trial 17 finished with value: 0.7559882312218761 and parameters: {'n_estimators': 86, 'max_depth': 17}. Best is trial 7 with value: 0.7690204222914503.\n",
            "[I 2025-05-11 11:18:54,304] Trial 18 finished with value: 0.7652647975077882 and parameters: {'n_estimators': 119, 'max_depth': 8}. Best is trial 7 with value: 0.7690204222914503.\n",
            "[I 2025-05-11 11:18:57,011] Trial 19 finished with value: 0.7708376600899965 and parameters: {'n_estimators': 195, 'max_depth': 11}. Best is trial 19 with value: 0.7708376600899965.\n",
            "[I 2025-05-11 11:18:58,630] Trial 20 finished with value: 0.7522672204915196 and parameters: {'n_estimators': 200, 'max_depth': 4}. Best is trial 19 with value: 0.7708376600899965.\n",
            "[I 2025-05-11 11:19:00,122] Trial 21 finished with value: 0.7670993423329872 and parameters: {'n_estimators': 162, 'max_depth': 11}. Best is trial 19 with value: 0.7708376600899965.\n",
            "[I 2025-05-11 11:19:01,895] Trial 22 finished with value: 0.7652647975077882 and parameters: {'n_estimators': 196, 'max_depth': 14}. Best is trial 19 with value: 0.7708376600899965.\n",
            "[I 2025-05-11 11:19:02,448] Trial 23 finished with value: 0.7466078227760471 and parameters: {'n_estimators': 57, 'max_depth': 12}. Best is trial 19 with value: 0.7708376600899965.\n",
            "[I 2025-05-11 11:19:03,210] Trial 24 finished with value: 0.7615437867774316 and parameters: {'n_estimators': 83, 'max_depth': 8}. Best is trial 19 with value: 0.7708376600899965.\n",
            "[I 2025-05-11 11:19:04,406] Trial 25 finished with value: 0.7596573208722741 and parameters: {'n_estimators': 129, 'max_depth': 15}. Best is trial 19 with value: 0.7708376600899965.\n",
            "[I 2025-05-11 11:19:05,851] Trial 26 finished with value: 0.7652474904811353 and parameters: {'n_estimators': 159, 'max_depth': 10}. Best is trial 19 with value: 0.7708376600899965.\n",
            "[I 2025-05-11 11:19:07,038] Trial 27 finished with value: 0.7541017653167186 and parameters: {'n_estimators': 118, 'max_depth': 17}. Best is trial 19 with value: 0.7708376600899965.\n",
            "[I 2025-05-11 11:19:08,332] Trial 28 finished with value: 0.7559709241952233 and parameters: {'n_estimators': 89, 'max_depth': 12}. Best is trial 19 with value: 0.7708376600899965.\n",
            "[I 2025-05-11 11:19:09,368] Trial 29 finished with value: 0.7578227760470752 and parameters: {'n_estimators': 70, 'max_depth': 9}. Best is trial 19 with value: 0.7708376600899965.\n",
            "[I 2025-05-11 11:19:11,086] Trial 30 finished with value: 0.7671685704395984 and parameters: {'n_estimators': 186, 'max_depth': 17}. Best is trial 19 with value: 0.7708376600899965.\n",
            "[I 2025-05-11 11:19:12,794] Trial 31 finished with value: 0.7671685704395984 and parameters: {'n_estimators': 183, 'max_depth': 18}. Best is trial 19 with value: 0.7708376600899965.\n",
            "[I 2025-05-11 11:19:14,479] Trial 32 finished with value: 0.7653167185877466 and parameters: {'n_estimators': 184, 'max_depth': 18}. Best is trial 19 with value: 0.7708376600899965.\n",
            "[I 2025-05-11 11:19:16,242] Trial 33 finished with value: 0.7671685704395984 and parameters: {'n_estimators': 190, 'max_depth': 20}. Best is trial 19 with value: 0.7708376600899965.\n",
            "[I 2025-05-11 11:19:17,814] Trial 34 finished with value: 0.7671685704395985 and parameters: {'n_estimators': 169, 'max_depth': 18}. Best is trial 19 with value: 0.7708376600899965.\n",
            "[I 2025-05-11 11:19:19,341] Trial 35 finished with value: 0.7671512634129456 and parameters: {'n_estimators': 166, 'max_depth': 19}. Best is trial 19 with value: 0.7708376600899965.\n",
            "[I 2025-05-11 11:19:21,669] Trial 36 finished with value: 0.7596919349255798 and parameters: {'n_estimators': 170, 'max_depth': 6}. Best is trial 19 with value: 0.7708376600899965.\n",
            "[I 2025-05-11 11:19:23,154] Trial 37 finished with value: 0.7689858082381447 and parameters: {'n_estimators': 151, 'max_depth': 16}. Best is trial 19 with value: 0.7708376600899965.\n",
            "[I 2025-05-11 11:19:24,543] Trial 38 finished with value: 0.7689685012114919 and parameters: {'n_estimators': 152, 'max_depth': 15}. Best is trial 19 with value: 0.7708376600899965.\n",
            "[I 2025-05-11 11:19:25,919] Trial 39 finished with value: 0.76711664935964 and parameters: {'n_estimators': 150, 'max_depth': 15}. Best is trial 19 with value: 0.7708376600899965.\n",
            "[I 2025-05-11 11:19:27,148] Trial 40 finished with value: 0.7577881619937694 and parameters: {'n_estimators': 133, 'max_depth': 12}. Best is trial 19 with value: 0.7708376600899965.\n",
            "[I 2025-05-11 11:19:28,548] Trial 41 finished with value: 0.7615264797507788 and parameters: {'n_estimators': 151, 'max_depth': 18}. Best is trial 19 with value: 0.7708376600899965.\n",
            "[I 2025-05-11 11:19:30,149] Trial 42 finished with value: 0.7690031152647976 and parameters: {'n_estimators': 175, 'max_depth': 16}. Best is trial 19 with value: 0.7708376600899965.\n",
            "[I 2025-05-11 11:19:31,780] Trial 43 finished with value: 0.7708722741433023 and parameters: {'n_estimators': 176, 'max_depth': 16}. Best is trial 43 with value: 0.7708722741433023.\n",
            "[I 2025-05-11 11:19:34,256] Trial 44 finished with value: 0.7727414330218069 and parameters: {'n_estimators': 174, 'max_depth': 16}. Best is trial 44 with value: 0.7727414330218069.\n",
            "[I 2025-05-11 11:19:35,954] Trial 45 finished with value: 0.7671512634129456 and parameters: {'n_estimators': 177, 'max_depth': 14}. Best is trial 44 with value: 0.7727414330218069.\n",
            "[I 2025-05-11 11:19:37,686] Trial 46 finished with value: 0.7690377293181031 and parameters: {'n_estimators': 190, 'max_depth': 9}. Best is trial 44 with value: 0.7727414330218069.\n",
            "[I 2025-05-11 11:19:39,398] Trial 47 finished with value: 0.7690377293181031 and parameters: {'n_estimators': 191, 'max_depth': 9}. Best is trial 44 with value: 0.7727414330218069.\n",
            "[I 2025-05-11 11:19:41,077] Trial 48 finished with value: 0.7615784008307372 and parameters: {'n_estimators': 192, 'max_depth': 7}. Best is trial 44 with value: 0.7727414330218069.\n",
            "[I 2025-05-11 11:19:42,915] Trial 49 finished with value: 0.7652474904811353 and parameters: {'n_estimators': 199, 'max_depth': 10}. Best is trial 44 with value: 0.7727414330218069.\n"
          ]
        }
      ]
    },
    {
      "cell_type": "code",
      "source": [
        "print(study.best_trial)\n",
        "print(study.best_trial.value)\n",
        "print(study.best_trial.params)"
      ],
      "metadata": {
        "colab": {
          "base_uri": "https://localhost:8080/"
        },
        "id": "iBQP2itj-7Uq",
        "outputId": "bbb6cb60-c408-4b51-b1b4-13be3b0e9b74"
      },
      "execution_count": 56,
      "outputs": [
        {
          "output_type": "stream",
          "name": "stdout",
          "text": [
            "FrozenTrial(number=44, state=1, values=[0.7727414330218069], datetime_start=datetime.datetime(2025, 5, 11, 11, 19, 31, 781525), datetime_complete=datetime.datetime(2025, 5, 11, 11, 19, 34, 256013), params={'n_estimators': 174, 'max_depth': 16}, user_attrs={}, system_attrs={}, intermediate_values={}, distributions={'n_estimators': IntDistribution(high=200, log=False, low=50, step=1), 'max_depth': IntDistribution(high=20, log=False, low=1, step=1)}, trial_id=44, value=None)\n",
            "0.7727414330218069\n",
            "{'n_estimators': 174, 'max_depth': 16}\n"
          ]
        }
      ]
    },
    {
      "cell_type": "code",
      "source": [
        "from sklearn.metrics import accuracy_score"
      ],
      "metadata": {
        "id": "-5M23DmsAbEQ"
      },
      "execution_count": 35,
      "outputs": []
    },
    {
      "cell_type": "code",
      "source": [
        "best_model = RandomForestClassifier(n_estimators=150,max_depth=9,random_state=42)\n",
        "best_model.fit(X_train,y_train)\n",
        "y_pred=best_model.predict(X_test)\n",
        "\n",
        "print(f\"AccuracyScore is :{accuracy_score(y_pred,y_test)}\")"
      ],
      "metadata": {
        "colab": {
          "base_uri": "https://localhost:8080/"
        },
        "id": "Wh-F6l96_jrc",
        "outputId": "948e2ad1-64ed-448e-dc65-52207056cf74"
      },
      "execution_count": 57,
      "outputs": [
        {
          "output_type": "stream",
          "name": "stdout",
          "text": [
            "AccuracyScore is :0.7619047619047619\n"
          ]
        }
      ]
    },
    {
      "cell_type": "markdown",
      "source": [
        "Different Sampler"
      ],
      "metadata": {
        "id": "U9vCno4RAm5s"
      }
    },
    {
      "cell_type": "code",
      "source": [
        "from sklearn.ensemble import RandomForestClassifier\n",
        "from sklearn.model_selection import cross_val_score\n",
        "\n",
        "def objective(trial):\n",
        "  n_estimators = trial.suggest_int('n_estimators',50,200)\n",
        "  max_depth = trial.suggest_int('max_depth',1,20)\n",
        "\n",
        "  model = RandomForestClassifier(\n",
        "      n_estimators=n_estimators,\n",
        "      max_depth=max_depth,\n",
        "      random_state=42\n",
        "  )\n",
        "\n",
        "  score = cross_val_score(model,X_train,y_train,cv=5).mean()\n",
        "\n",
        "  return score"
      ],
      "metadata": {
        "id": "sf38vbFZAf3h"
      },
      "execution_count": 37,
      "outputs": []
    },
    {
      "cell_type": "code",
      "source": [
        "study = optuna.create_study(direction = \"maximize\", sampler=optuna.samplers.RandomSampler())\n",
        "study.optimize(objective,n_trials = 60)"
      ],
      "metadata": {
        "colab": {
          "base_uri": "https://localhost:8080/"
        },
        "id": "0mXhes5cAlrc",
        "outputId": "409017bd-2308-4133-85a4-96ec3cb7243e"
      },
      "execution_count": 38,
      "outputs": [
        {
          "output_type": "stream",
          "name": "stderr",
          "text": [
            "[I 2025-05-11 11:03:08,237] A new study created in memory with name: no-name-a2c9f407-09ba-4618-a32c-214786fe68c3\n",
            "[I 2025-05-11 11:03:10,337] Trial 0 finished with value: 0.7577881619937694 and parameters: {'n_estimators': 117, 'max_depth': 14}. Best is trial 0 with value: 0.7577881619937694.\n",
            "[I 2025-05-11 11:03:12,011] Trial 1 finished with value: 0.7522672204915196 and parameters: {'n_estimators': 54, 'max_depth': 3}. Best is trial 0 with value: 0.7577881619937694.\n",
            "[I 2025-05-11 11:03:13,584] Trial 2 finished with value: 0.7485808238144687 and parameters: {'n_estimators': 175, 'max_depth': 2}. Best is trial 0 with value: 0.7577881619937694.\n",
            "[I 2025-05-11 11:03:15,337] Trial 3 finished with value: 0.7689685012114919 and parameters: {'n_estimators': 191, 'max_depth': 11}. Best is trial 3 with value: 0.7689685012114919.\n",
            "[I 2025-05-11 11:03:16,124] Trial 4 finished with value: 0.757822776047075 and parameters: {'n_estimators': 86, 'max_depth': 13}. Best is trial 3 with value: 0.7689685012114919.\n",
            "[I 2025-05-11 11:03:16,814] Trial 5 finished with value: 0.7410868812737972 and parameters: {'n_estimators': 89, 'max_depth': 2}. Best is trial 3 with value: 0.7689685012114919.\n",
            "[I 2025-05-11 11:03:17,701] Trial 6 finished with value: 0.7504153686396677 and parameters: {'n_estimators': 104, 'max_depth': 5}. Best is trial 3 with value: 0.7689685012114919.\n",
            "[I 2025-05-11 11:03:18,173] Trial 7 finished with value: 0.7578227760470752 and parameters: {'n_estimators': 51, 'max_depth': 12}. Best is trial 3 with value: 0.7689685012114919.\n",
            "[I 2025-05-11 11:03:19,580] Trial 8 finished with value: 0.7615610938040844 and parameters: {'n_estimators': 158, 'max_depth': 8}. Best is trial 3 with value: 0.7689685012114919.\n",
            "[I 2025-05-11 11:03:21,022] Trial 9 finished with value: 0.7262374524056767 and parameters: {'n_estimators': 200, 'max_depth': 1}. Best is trial 3 with value: 0.7689685012114919.\n",
            "[I 2025-05-11 11:03:22,206] Trial 10 finished with value: 0.7522672204915196 and parameters: {'n_estimators': 152, 'max_depth': 3}. Best is trial 3 with value: 0.7689685012114919.\n",
            "[I 2025-05-11 11:03:23,758] Trial 11 finished with value: 0.7596400138456213 and parameters: {'n_estimators': 124, 'max_depth': 11}. Best is trial 3 with value: 0.7689685012114919.\n",
            "[I 2025-05-11 11:03:25,740] Trial 12 finished with value: 0.7541190723433715 and parameters: {'n_estimators': 176, 'max_depth': 5}. Best is trial 3 with value: 0.7689685012114919.\n",
            "[I 2025-05-11 11:03:27,124] Trial 13 finished with value: 0.7504153686396676 and parameters: {'n_estimators': 172, 'max_depth': 4}. Best is trial 3 with value: 0.7689685012114919.\n",
            "[I 2025-05-11 11:03:28,765] Trial 14 finished with value: 0.7671685704395984 and parameters: {'n_estimators': 181, 'max_depth': 17}. Best is trial 3 with value: 0.7689685012114919.\n",
            "[I 2025-05-11 11:03:29,697] Trial 15 finished with value: 0.7708549671166494 and parameters: {'n_estimators': 103, 'max_depth': 9}. Best is trial 15 with value: 0.7708549671166494.\n",
            "[I 2025-05-11 11:03:30,492] Trial 16 finished with value: 0.7448251990308065 and parameters: {'n_estimators': 105, 'max_depth': 2}. Best is trial 15 with value: 0.7708549671166494.\n",
            "[I 2025-05-11 11:03:31,764] Trial 17 finished with value: 0.7485808238144687 and parameters: {'n_estimators': 169, 'max_depth': 2}. Best is trial 15 with value: 0.7708549671166494.\n",
            "[I 2025-05-11 11:03:32,582] Trial 18 finished with value: 0.7262547594323295 and parameters: {'n_estimators': 112, 'max_depth': 1}. Best is trial 15 with value: 0.7708549671166494.\n",
            "[I 2025-05-11 11:03:33,943] Trial 19 finished with value: 0.7504499826929732 and parameters: {'n_estimators': 182, 'max_depth': 2}. Best is trial 15 with value: 0.7708549671166494.\n",
            "[I 2025-05-11 11:03:34,948] Trial 20 finished with value: 0.7634475597092419 and parameters: {'n_estimators': 115, 'max_depth': 7}. Best is trial 15 with value: 0.7708549671166494.\n",
            "[I 2025-05-11 11:03:36,796] Trial 21 finished with value: 0.7652647975077882 and parameters: {'n_estimators': 143, 'max_depth': 6}. Best is trial 15 with value: 0.7708549671166494.\n",
            "[I 2025-05-11 11:03:38,394] Trial 22 finished with value: 0.750380754586362 and parameters: {'n_estimators': 150, 'max_depth': 5}. Best is trial 15 with value: 0.7708549671166494.\n",
            "[I 2025-05-11 11:03:39,955] Trial 23 finished with value: 0.7596919349255797 and parameters: {'n_estimators': 169, 'max_depth': 15}. Best is trial 15 with value: 0.7708549671166494.\n",
            "[I 2025-05-11 11:03:40,947] Trial 24 finished with value: 0.7745932848736587 and parameters: {'n_estimators': 110, 'max_depth': 9}. Best is trial 24 with value: 0.7745932848736587.\n",
            "[I 2025-05-11 11:03:41,790] Trial 25 finished with value: 0.7652474904811353 and parameters: {'n_estimators': 93, 'max_depth': 9}. Best is trial 24 with value: 0.7745932848736587.\n",
            "[I 2025-05-11 11:03:43,155] Trial 26 finished with value: 0.7652821045344409 and parameters: {'n_estimators': 150, 'max_depth': 20}. Best is trial 24 with value: 0.7745932848736587.\n",
            "[I 2025-05-11 11:03:44,259] Trial 27 finished with value: 0.7671339563862929 and parameters: {'n_estimators': 95, 'max_depth': 9}. Best is trial 24 with value: 0.7745932848736587.\n",
            "[I 2025-05-11 11:03:47,010] Trial 28 finished with value: 0.7652994115610937 and parameters: {'n_estimators': 196, 'max_depth': 15}. Best is trial 24 with value: 0.7745932848736587.\n",
            "[I 2025-05-11 11:03:50,869] Trial 29 finished with value: 0.7652474904811353 and parameters: {'n_estimators': 150, 'max_depth': 13}. Best is trial 24 with value: 0.7745932848736587.\n",
            "[I 2025-05-11 11:03:51,886] Trial 30 finished with value: 0.7095015576323986 and parameters: {'n_estimators': 64, 'max_depth': 1}. Best is trial 24 with value: 0.7745932848736587.\n",
            "[I 2025-05-11 11:03:54,510] Trial 31 finished with value: 0.7690204222914503 and parameters: {'n_estimators': 106, 'max_depth': 9}. Best is trial 24 with value: 0.7745932848736587.\n",
            "[I 2025-05-11 11:03:55,994] Trial 32 finished with value: 0.7504326756663204 and parameters: {'n_estimators': 87, 'max_depth': 4}. Best is trial 24 with value: 0.7745932848736587.\n",
            "[I 2025-05-11 11:03:58,279] Trial 33 finished with value: 0.7577708549671166 and parameters: {'n_estimators': 139, 'max_depth': 12}. Best is trial 24 with value: 0.7745932848736587.\n",
            "[I 2025-05-11 11:03:59,927] Trial 34 finished with value: 0.7597092419522327 and parameters: {'n_estimators': 128, 'max_depth': 20}. Best is trial 24 with value: 0.7745932848736587.\n",
            "[I 2025-05-11 11:04:04,701] Trial 35 finished with value: 0.7485808238144687 and parameters: {'n_estimators': 169, 'max_depth': 2}. Best is trial 24 with value: 0.7745932848736587.\n",
            "[I 2025-05-11 11:04:06,326] Trial 36 finished with value: 0.7634475597092419 and parameters: {'n_estimators': 132, 'max_depth': 20}. Best is trial 24 with value: 0.7745932848736587.\n",
            "[I 2025-05-11 11:04:07,020] Trial 37 finished with value: 0.757840083073728 and parameters: {'n_estimators': 64, 'max_depth': 9}. Best is trial 24 with value: 0.7745932848736587.\n",
            "[I 2025-05-11 11:04:08,769] Trial 38 finished with value: 0.7634302526825891 and parameters: {'n_estimators': 138, 'max_depth': 7}. Best is trial 24 with value: 0.7745932848736587.\n",
            "[I 2025-05-11 11:04:09,944] Trial 39 finished with value: 0.7504153686396676 and parameters: {'n_estimators': 74, 'max_depth': 5}. Best is trial 24 with value: 0.7745932848736587.\n",
            "[I 2025-05-11 11:04:12,614] Trial 40 finished with value: 0.7522672204915196 and parameters: {'n_estimators': 184, 'max_depth': 3}. Best is trial 24 with value: 0.7745932848736587.\n",
            "[I 2025-05-11 11:04:15,756] Trial 41 finished with value: 0.763430252682589 and parameters: {'n_estimators': 185, 'max_depth': 8}. Best is trial 24 with value: 0.7745932848736587.\n",
            "[I 2025-05-11 11:04:18,727] Trial 42 finished with value: 0.7671166493596401 and parameters: {'n_estimators': 197, 'max_depth': 14}. Best is trial 24 with value: 0.7745932848736587.\n",
            "[I 2025-05-11 11:04:19,588] Trial 43 finished with value: 0.7596746278989268 and parameters: {'n_estimators': 94, 'max_depth': 16}. Best is trial 24 with value: 0.7745932848736587.\n",
            "[I 2025-05-11 11:04:20,987] Trial 44 finished with value: 0.7503980616130148 and parameters: {'n_estimators': 171, 'max_depth': 5}. Best is trial 24 with value: 0.7745932848736587.\n",
            "[I 2025-05-11 11:04:22,495] Trial 45 finished with value: 0.765282104534441 and parameters: {'n_estimators': 178, 'max_depth': 6}. Best is trial 24 with value: 0.7745932848736587.\n",
            "[I 2025-05-11 11:04:23,419] Trial 46 finished with value: 0.7633956386292835 and parameters: {'n_estimators': 102, 'max_depth': 11}. Best is trial 24 with value: 0.7745932848736587.\n",
            "[I 2025-05-11 11:04:24,431] Trial 47 finished with value: 0.7746105919003116 and parameters: {'n_estimators': 112, 'max_depth': 9}. Best is trial 47 with value: 0.7746105919003116.\n",
            "[I 2025-05-11 11:04:25,180] Trial 48 finished with value: 0.7596919349255797 and parameters: {'n_estimators': 80, 'max_depth': 11}. Best is trial 47 with value: 0.7746105919003116.\n",
            "[I 2025-05-11 11:04:26,719] Trial 49 finished with value: 0.7615610938040844 and parameters: {'n_estimators': 166, 'max_depth': 6}. Best is trial 47 with value: 0.7746105919003116.\n",
            "[I 2025-05-11 11:04:27,548] Trial 50 finished with value: 0.7485289027345102 and parameters: {'n_estimators': 59, 'max_depth': 9}. Best is trial 47 with value: 0.7746105919003116.\n",
            "[I 2025-05-11 11:04:29,322] Trial 51 finished with value: 0.770889581169955 and parameters: {'n_estimators': 140, 'max_depth': 9}. Best is trial 47 with value: 0.7746105919003116.\n",
            "[I 2025-05-11 11:04:30,168] Trial 52 finished with value: 0.7615264797507788 and parameters: {'n_estimators': 91, 'max_depth': 13}. Best is trial 47 with value: 0.7746105919003116.\n",
            "[I 2025-05-11 11:04:30,730] Trial 53 finished with value: 0.7540671512634128 and parameters: {'n_estimators': 62, 'max_depth': 10}. Best is trial 47 with value: 0.7746105919003116.\n",
            "[I 2025-05-11 11:04:32,012] Trial 54 finished with value: 0.7596919349255798 and parameters: {'n_estimators': 139, 'max_depth': 18}. Best is trial 47 with value: 0.7746105919003116.\n",
            "[I 2025-05-11 11:04:33,341] Trial 55 finished with value: 0.7671512634129456 and parameters: {'n_estimators': 146, 'max_depth': 16}. Best is trial 47 with value: 0.7746105919003116.\n",
            "[I 2025-05-11 11:04:34,981] Trial 56 finished with value: 0.7690031152647976 and parameters: {'n_estimators': 180, 'max_depth': 16}. Best is trial 47 with value: 0.7746105919003116.\n",
            "[I 2025-05-11 11:04:36,224] Trial 57 finished with value: 0.7615610938040844 and parameters: {'n_estimators': 142, 'max_depth': 7}. Best is trial 47 with value: 0.7746105919003116.\n",
            "[I 2025-05-11 11:04:37,186] Trial 58 finished with value: 0.7615610938040844 and parameters: {'n_estimators': 105, 'max_depth': 20}. Best is trial 47 with value: 0.7746105919003116.\n",
            "[I 2025-05-11 11:04:38,515] Trial 59 finished with value: 0.7262374524056767 and parameters: {'n_estimators': 183, 'max_depth': 1}. Best is trial 47 with value: 0.7746105919003116.\n"
          ]
        }
      ]
    },
    {
      "cell_type": "markdown",
      "source": [],
      "metadata": {
        "id": "rd4-Ds4qAmAb"
      }
    },
    {
      "cell_type": "code",
      "source": [
        "print(study.best_trial)\n",
        "print(study.best_trial.value)\n",
        "print(study.best_trial.params)"
      ],
      "metadata": {
        "colab": {
          "base_uri": "https://localhost:8080/"
        },
        "id": "ReXgGgPqA97U",
        "outputId": "4db7cc36-b5a9-4a1b-8811-17689826a94a"
      },
      "execution_count": 39,
      "outputs": [
        {
          "output_type": "stream",
          "name": "stdout",
          "text": [
            "FrozenTrial(number=47, state=1, values=[0.7746105919003116], datetime_start=datetime.datetime(2025, 5, 11, 11, 4, 23, 420877), datetime_complete=datetime.datetime(2025, 5, 11, 11, 4, 24, 431220), params={'n_estimators': 112, 'max_depth': 9}, user_attrs={}, system_attrs={}, intermediate_values={}, distributions={'n_estimators': IntDistribution(high=200, log=False, low=50, step=1), 'max_depth': IntDistribution(high=20, log=False, low=1, step=1)}, trial_id=47, value=None)\n",
            "0.7746105919003116\n",
            "{'n_estimators': 112, 'max_depth': 9}\n"
          ]
        }
      ]
    },
    {
      "cell_type": "code",
      "source": [
        "best_ransample_model = RandomForestClassifier(**study.best_trial.params,random_state=42)\n",
        "best_ransample_model.fit(X_train,y_train)\n",
        "y_pred=best_ransample_model.predict(X_test)\n",
        "\n",
        "print(f\"AccuracyScore is :{accuracy_score(y_pred,y_test)}\")"
      ],
      "metadata": {
        "colab": {
          "base_uri": "https://localhost:8080/"
        },
        "id": "TZLdUtfAA9v9",
        "outputId": "99528f3c-7203-46e3-e35f-546b01194cfb"
      },
      "execution_count": 40,
      "outputs": [
        {
          "output_type": "stream",
          "name": "stdout",
          "text": [
            "AccuracyScore is :0.7489177489177489\n"
          ]
        }
      ]
    },
    {
      "cell_type": "markdown",
      "source": [
        "# Grid Search"
      ],
      "metadata": {
        "id": "-BjAxzoPBgFc"
      }
    },
    {
      "cell_type": "code",
      "source": [
        "search_space = {\n",
        "    'n_estimators': [50, 100, 150, 200,250,300,350,400],\n",
        "    'max_depth': [5, 10, 15, 20,25,30]\n",
        "}"
      ],
      "metadata": {
        "id": "M4loGIykBRir"
      },
      "execution_count": 45,
      "outputs": []
    },
    {
      "cell_type": "code",
      "source": [
        "study = optuna.create_study(direction = \"maximize\", sampler=optuna.samplers.GridSampler(search_space))\n",
        "study.optimize(objective,n_trials = 70)"
      ],
      "metadata": {
        "colab": {
          "base_uri": "https://localhost:8080/"
        },
        "id": "h4OiFsmHBjTM",
        "outputId": "cca5961a-6a0a-4821-e01b-d9d01ebb445c"
      },
      "execution_count": 46,
      "outputs": [
        {
          "output_type": "stream",
          "name": "stderr",
          "text": [
            "[I 2025-05-11 11:08:52,428] A new study created in memory with name: no-name-097237da-49c0-4328-92f4-7d5d95e14220\n",
            "/usr/local/lib/python3.11/dist-packages/optuna/samplers/_grid.py:199: UserWarning: The value `300` is out of range of the parameter `n_estimators`. The value will be used but the actual distribution is: `IntDistribution(high=200, log=False, low=50, step=1)`.\n",
            "  warnings.warn(\n",
            "[I 2025-05-11 11:08:55,257] Trial 0 finished with value: 0.7690377293181031 and parameters: {'n_estimators': 300, 'max_depth': 20}. Best is trial 0 with value: 0.7690377293181031.\n",
            "/usr/local/lib/python3.11/dist-packages/optuna/samplers/_grid.py:199: UserWarning: The value `250` is out of range of the parameter `n_estimators`. The value will be used but the actual distribution is: `IntDistribution(high=200, log=False, low=50, step=1)`.\n",
            "  warnings.warn(\n",
            "[I 2025-05-11 11:08:57,350] Trial 1 finished with value: 0.7541017653167186 and parameters: {'n_estimators': 250, 'max_depth': 5}. Best is trial 0 with value: 0.7690377293181031.\n",
            "[I 2025-05-11 11:08:58,740] Trial 2 finished with value: 0.7652821045344409 and parameters: {'n_estimators': 150, 'max_depth': 20}. Best is trial 0 with value: 0.7690377293181031.\n",
            "/usr/local/lib/python3.11/dist-packages/optuna/samplers/_grid.py:199: UserWarning: The value `350` is out of range of the parameter `n_estimators`. The value will be used but the actual distribution is: `IntDistribution(high=200, log=False, low=50, step=1)`.\n",
            "  warnings.warn(\n",
            "[I 2025-05-11 11:09:02,835] Trial 3 finished with value: 0.770889581169955 and parameters: {'n_estimators': 350, 'max_depth': 20}. Best is trial 3 with value: 0.770889581169955.\n",
            "/usr/local/lib/python3.11/dist-packages/optuna/samplers/_grid.py:199: UserWarning: The value `25` is out of range of the parameter `max_depth`. The value will be used but the actual distribution is: `IntDistribution(high=20, log=False, low=1, step=1)`.\n",
            "  warnings.warn(\n",
            "[I 2025-05-11 11:09:03,322] Trial 4 finished with value: 0.7671685704395985 and parameters: {'n_estimators': 50, 'max_depth': 25}. Best is trial 3 with value: 0.770889581169955.\n",
            "/usr/local/lib/python3.11/dist-packages/optuna/samplers/_grid.py:199: UserWarning: The value `300` is out of range of the parameter `n_estimators`. The value will be used but the actual distribution is: `IntDistribution(high=200, log=False, low=50, step=1)`.\n",
            "  warnings.warn(\n",
            "/usr/local/lib/python3.11/dist-packages/optuna/samplers/_grid.py:199: UserWarning: The value `25` is out of range of the parameter `max_depth`. The value will be used but the actual distribution is: `IntDistribution(high=20, log=False, low=1, step=1)`.\n",
            "  warnings.warn(\n",
            "[I 2025-05-11 11:09:06,069] Trial 5 finished with value: 0.7690377293181031 and parameters: {'n_estimators': 300, 'max_depth': 25}. Best is trial 3 with value: 0.770889581169955.\n",
            "/usr/local/lib/python3.11/dist-packages/optuna/samplers/_grid.py:199: UserWarning: The value `25` is out of range of the parameter `max_depth`. The value will be used but the actual distribution is: `IntDistribution(high=20, log=False, low=1, step=1)`.\n",
            "  warnings.warn(\n",
            "[I 2025-05-11 11:09:07,444] Trial 6 finished with value: 0.7652821045344409 and parameters: {'n_estimators': 150, 'max_depth': 25}. Best is trial 3 with value: 0.770889581169955.\n",
            "/usr/local/lib/python3.11/dist-packages/optuna/samplers/_grid.py:199: UserWarning: The value `30` is out of range of the parameter `max_depth`. The value will be used but the actual distribution is: `IntDistribution(high=20, log=False, low=1, step=1)`.\n",
            "  warnings.warn(\n",
            "[I 2025-05-11 11:09:07,914] Trial 7 finished with value: 0.7671685704395985 and parameters: {'n_estimators': 50, 'max_depth': 30}. Best is trial 3 with value: 0.770889581169955.\n",
            "/usr/local/lib/python3.11/dist-packages/optuna/samplers/_grid.py:199: UserWarning: The value `400` is out of range of the parameter `n_estimators`. The value will be used but the actual distribution is: `IntDistribution(high=200, log=False, low=50, step=1)`.\n",
            "  warnings.warn(\n",
            "[I 2025-05-11 11:09:11,251] Trial 8 finished with value: 0.7522152994115612 and parameters: {'n_estimators': 400, 'max_depth': 5}. Best is trial 3 with value: 0.770889581169955.\n",
            "[I 2025-05-11 11:09:12,824] Trial 9 finished with value: 0.7633956386292835 and parameters: {'n_estimators': 150, 'max_depth': 10}. Best is trial 3 with value: 0.770889581169955.\n",
            "[I 2025-05-11 11:09:15,336] Trial 10 finished with value: 0.7652474904811353 and parameters: {'n_estimators': 200, 'max_depth': 10}. Best is trial 3 with value: 0.770889581169955.\n",
            "/usr/local/lib/python3.11/dist-packages/optuna/samplers/_grid.py:199: UserWarning: The value `400` is out of range of the parameter `n_estimators`. The value will be used but the actual distribution is: `IntDistribution(high=200, log=False, low=50, step=1)`.\n",
            "  warnings.warn(\n",
            "[I 2025-05-11 11:09:18,988] Trial 11 finished with value: 0.7690377293181031 and parameters: {'n_estimators': 400, 'max_depth': 20}. Best is trial 3 with value: 0.770889581169955.\n",
            "/usr/local/lib/python3.11/dist-packages/optuna/samplers/_grid.py:199: UserWarning: The value `25` is out of range of the parameter `max_depth`. The value will be used but the actual distribution is: `IntDistribution(high=20, log=False, low=1, step=1)`.\n",
            "  warnings.warn(\n",
            "[I 2025-05-11 11:09:19,916] Trial 12 finished with value: 0.7615957078573901 and parameters: {'n_estimators': 100, 'max_depth': 25}. Best is trial 3 with value: 0.770889581169955.\n",
            "[I 2025-05-11 11:09:21,745] Trial 13 finished with value: 0.7708722741433023 and parameters: {'n_estimators': 200, 'max_depth': 20}. Best is trial 3 with value: 0.770889581169955.\n",
            "/usr/local/lib/python3.11/dist-packages/optuna/samplers/_grid.py:199: UserWarning: The value `400` is out of range of the parameter `n_estimators`. The value will be used but the actual distribution is: `IntDistribution(high=200, log=False, low=50, step=1)`.\n",
            "  warnings.warn(\n",
            "/usr/local/lib/python3.11/dist-packages/optuna/samplers/_grid.py:199: UserWarning: The value `30` is out of range of the parameter `max_depth`. The value will be used but the actual distribution is: `IntDistribution(high=20, log=False, low=1, step=1)`.\n",
            "  warnings.warn(\n",
            "[I 2025-05-11 11:09:25,760] Trial 14 finished with value: 0.7690377293181031 and parameters: {'n_estimators': 400, 'max_depth': 30}. Best is trial 3 with value: 0.770889581169955.\n",
            "[I 2025-05-11 11:09:27,568] Trial 15 finished with value: 0.750380754586362 and parameters: {'n_estimators': 150, 'max_depth': 5}. Best is trial 3 with value: 0.770889581169955.\n",
            "/usr/local/lib/python3.11/dist-packages/optuna/samplers/_grid.py:199: UserWarning: The value `350` is out of range of the parameter `n_estimators`. The value will be used but the actual distribution is: `IntDistribution(high=200, log=False, low=50, step=1)`.\n",
            "  warnings.warn(\n",
            "/usr/local/lib/python3.11/dist-packages/optuna/samplers/_grid.py:199: UserWarning: The value `30` is out of range of the parameter `max_depth`. The value will be used but the actual distribution is: `IntDistribution(high=20, log=False, low=1, step=1)`.\n",
            "  warnings.warn(\n",
            "[I 2025-05-11 11:09:30,754] Trial 16 finished with value: 0.770889581169955 and parameters: {'n_estimators': 350, 'max_depth': 30}. Best is trial 3 with value: 0.770889581169955.\n",
            "[I 2025-05-11 11:09:32,135] Trial 17 finished with value: 0.76711664935964 and parameters: {'n_estimators': 150, 'max_depth': 15}. Best is trial 3 with value: 0.770889581169955.\n",
            "/usr/local/lib/python3.11/dist-packages/optuna/samplers/_grid.py:199: UserWarning: The value `400` is out of range of the parameter `n_estimators`. The value will be used but the actual distribution is: `IntDistribution(high=200, log=False, low=50, step=1)`.\n",
            "  warnings.warn(\n",
            "[I 2025-05-11 11:09:35,703] Trial 18 finished with value: 0.7652647975077882 and parameters: {'n_estimators': 400, 'max_depth': 10}. Best is trial 3 with value: 0.770889581169955.\n",
            "/usr/local/lib/python3.11/dist-packages/optuna/samplers/_grid.py:199: UserWarning: The value `250` is out of range of the parameter `n_estimators`. The value will be used but the actual distribution is: `IntDistribution(high=200, log=False, low=50, step=1)`.\n",
            "  warnings.warn(\n",
            "[I 2025-05-11 11:09:38,406] Trial 19 finished with value: 0.7690204222914503 and parameters: {'n_estimators': 250, 'max_depth': 20}. Best is trial 3 with value: 0.770889581169955.\n",
            "/usr/local/lib/python3.11/dist-packages/optuna/samplers/_grid.py:199: UserWarning: The value `350` is out of range of the parameter `n_estimators`. The value will be used but the actual distribution is: `IntDistribution(high=200, log=False, low=50, step=1)`.\n",
            "  warnings.warn(\n",
            "[I 2025-05-11 11:09:42,122] Trial 20 finished with value: 0.7690204222914503 and parameters: {'n_estimators': 350, 'max_depth': 15}. Best is trial 3 with value: 0.770889581169955.\n",
            "[I 2025-05-11 11:09:42,600] Trial 21 finished with value: 0.7634129456559362 and parameters: {'n_estimators': 50, 'max_depth': 15}. Best is trial 3 with value: 0.770889581169955.\n",
            "/usr/local/lib/python3.11/dist-packages/optuna/samplers/_grid.py:199: UserWarning: The value `30` is out of range of the parameter `max_depth`. The value will be used but the actual distribution is: `IntDistribution(high=20, log=False, low=1, step=1)`.\n",
            "  warnings.warn(\n",
            "[I 2025-05-11 11:09:43,522] Trial 22 finished with value: 0.7615957078573901 and parameters: {'n_estimators': 100, 'max_depth': 30}. Best is trial 3 with value: 0.770889581169955.\n",
            "/usr/local/lib/python3.11/dist-packages/optuna/samplers/_grid.py:199: UserWarning: The value `250` is out of range of the parameter `n_estimators`. The value will be used but the actual distribution is: `IntDistribution(high=200, log=False, low=50, step=1)`.\n",
            "  warnings.warn(\n",
            "[I 2025-05-11 11:09:45,798] Trial 23 finished with value: 0.7652994115610938 and parameters: {'n_estimators': 250, 'max_depth': 15}. Best is trial 3 with value: 0.770889581169955.\n",
            "/usr/local/lib/python3.11/dist-packages/optuna/samplers/_grid.py:199: UserWarning: The value `30` is out of range of the parameter `max_depth`. The value will be used but the actual distribution is: `IntDistribution(high=20, log=False, low=1, step=1)`.\n",
            "  warnings.warn(\n",
            "[I 2025-05-11 11:09:47,167] Trial 24 finished with value: 0.7652821045344409 and parameters: {'n_estimators': 150, 'max_depth': 30}. Best is trial 3 with value: 0.770889581169955.\n",
            "[I 2025-05-11 11:09:47,644] Trial 25 finished with value: 0.7522499134648667 and parameters: {'n_estimators': 50, 'max_depth': 10}. Best is trial 3 with value: 0.770889581169955.\n",
            "/usr/local/lib/python3.11/dist-packages/optuna/samplers/_grid.py:199: UserWarning: The value `300` is out of range of the parameter `n_estimators`. The value will be used but the actual distribution is: `IntDistribution(high=200, log=False, low=50, step=1)`.\n",
            "  warnings.warn(\n",
            "[I 2025-05-11 11:09:50,629] Trial 26 finished with value: 0.7596746278989268 and parameters: {'n_estimators': 300, 'max_depth': 10}. Best is trial 3 with value: 0.770889581169955.\n",
            "[I 2025-05-11 11:09:52,134] Trial 27 finished with value: 0.7615957078573901 and parameters: {'n_estimators': 100, 'max_depth': 20}. Best is trial 3 with value: 0.770889581169955.\n",
            "/usr/local/lib/python3.11/dist-packages/optuna/samplers/_grid.py:199: UserWarning: The value `300` is out of range of the parameter `n_estimators`. The value will be used but the actual distribution is: `IntDistribution(high=200, log=False, low=50, step=1)`.\n",
            "  warnings.warn(\n",
            "[I 2025-05-11 11:09:54,664] Trial 28 finished with value: 0.7578054690204222 and parameters: {'n_estimators': 300, 'max_depth': 5}. Best is trial 3 with value: 0.770889581169955.\n",
            "[I 2025-05-11 11:09:55,586] Trial 29 finished with value: 0.7597092419522324 and parameters: {'n_estimators': 100, 'max_depth': 15}. Best is trial 3 with value: 0.770889581169955.\n",
            "/usr/local/lib/python3.11/dist-packages/optuna/samplers/_grid.py:199: UserWarning: The value `25` is out of range of the parameter `max_depth`. The value will be used but the actual distribution is: `IntDistribution(high=20, log=False, low=1, step=1)`.\n",
            "  warnings.warn(\n",
            "[I 2025-05-11 11:09:57,419] Trial 30 finished with value: 0.7708722741433023 and parameters: {'n_estimators': 200, 'max_depth': 25}. Best is trial 3 with value: 0.770889581169955.\n",
            "/usr/local/lib/python3.11/dist-packages/optuna/samplers/_grid.py:199: UserWarning: The value `350` is out of range of the parameter `n_estimators`. The value will be used but the actual distribution is: `IntDistribution(high=200, log=False, low=50, step=1)`.\n",
            "  warnings.warn(\n",
            "[I 2025-05-11 11:10:00,569] Trial 31 finished with value: 0.7578227760470752 and parameters: {'n_estimators': 350, 'max_depth': 10}. Best is trial 3 with value: 0.770889581169955.\n",
            "/usr/local/lib/python3.11/dist-packages/optuna/samplers/_grid.py:199: UserWarning: The value `350` is out of range of the parameter `n_estimators`. The value will be used but the actual distribution is: `IntDistribution(high=200, log=False, low=50, step=1)`.\n",
            "  warnings.warn(\n",
            "/usr/local/lib/python3.11/dist-packages/optuna/samplers/_grid.py:199: UserWarning: The value `25` is out of range of the parameter `max_depth`. The value will be used but the actual distribution is: `IntDistribution(high=20, log=False, low=1, step=1)`.\n",
            "  warnings.warn(\n",
            "[I 2025-05-11 11:10:04,618] Trial 32 finished with value: 0.770889581169955 and parameters: {'n_estimators': 350, 'max_depth': 25}. Best is trial 3 with value: 0.770889581169955.\n",
            "[I 2025-05-11 11:10:05,536] Trial 33 finished with value: 0.7541190723433715 and parameters: {'n_estimators': 100, 'max_depth': 5}. Best is trial 3 with value: 0.770889581169955.\n",
            "/usr/local/lib/python3.11/dist-packages/optuna/samplers/_grid.py:199: UserWarning: The value `250` is out of range of the parameter `n_estimators`. The value will be used but the actual distribution is: `IntDistribution(high=200, log=False, low=50, step=1)`.\n",
            "  warnings.warn(\n",
            "[I 2025-05-11 11:10:07,777] Trial 34 finished with value: 0.7596919349255797 and parameters: {'n_estimators': 250, 'max_depth': 10}. Best is trial 3 with value: 0.770889581169955.\n",
            "/usr/local/lib/python3.11/dist-packages/optuna/samplers/_grid.py:199: UserWarning: The value `30` is out of range of the parameter `max_depth`. The value will be used but the actual distribution is: `IntDistribution(high=20, log=False, low=1, step=1)`.\n",
            "  warnings.warn(\n",
            "[I 2025-05-11 11:10:09,619] Trial 35 finished with value: 0.7708722741433023 and parameters: {'n_estimators': 200, 'max_depth': 30}. Best is trial 3 with value: 0.770889581169955.\n",
            "[I 2025-05-11 11:10:10,095] Trial 36 finished with value: 0.7690204222914503 and parameters: {'n_estimators': 50, 'max_depth': 20}. Best is trial 3 with value: 0.770889581169955.\n",
            "/usr/local/lib/python3.11/dist-packages/optuna/samplers/_grid.py:199: UserWarning: The value `350` is out of range of the parameter `n_estimators`. The value will be used but the actual distribution is: `IntDistribution(high=200, log=False, low=50, step=1)`.\n",
            "  warnings.warn(\n",
            "[I 2025-05-11 11:10:13,016] Trial 37 finished with value: 0.7540844582900658 and parameters: {'n_estimators': 350, 'max_depth': 5}. Best is trial 3 with value: 0.770889581169955.\n",
            "/usr/local/lib/python3.11/dist-packages/optuna/samplers/_grid.py:199: UserWarning: The value `400` is out of range of the parameter `n_estimators`. The value will be used but the actual distribution is: `IntDistribution(high=200, log=False, low=50, step=1)`.\n",
            "  warnings.warn(\n",
            "[I 2025-05-11 11:10:17,593] Trial 38 finished with value: 0.7690204222914503 and parameters: {'n_estimators': 400, 'max_depth': 15}. Best is trial 3 with value: 0.770889581169955.\n",
            "/usr/local/lib/python3.11/dist-packages/optuna/samplers/_grid.py:199: UserWarning: The value `250` is out of range of the parameter `n_estimators`. The value will be used but the actual distribution is: `IntDistribution(high=200, log=False, low=50, step=1)`.\n",
            "  warnings.warn(\n",
            "/usr/local/lib/python3.11/dist-packages/optuna/samplers/_grid.py:199: UserWarning: The value `25` is out of range of the parameter `max_depth`. The value will be used but the actual distribution is: `IntDistribution(high=20, log=False, low=1, step=1)`.\n",
            "  warnings.warn(\n",
            "[I 2025-05-11 11:10:19,884] Trial 39 finished with value: 0.7690204222914503 and parameters: {'n_estimators': 250, 'max_depth': 25}. Best is trial 3 with value: 0.770889581169955.\n",
            "/usr/local/lib/python3.11/dist-packages/optuna/samplers/_grid.py:199: UserWarning: The value `300` is out of range of the parameter `n_estimators`. The value will be used but the actual distribution is: `IntDistribution(high=200, log=False, low=50, step=1)`.\n",
            "  warnings.warn(\n",
            "[I 2025-05-11 11:10:22,625] Trial 40 finished with value: 0.7652821045344409 and parameters: {'n_estimators': 300, 'max_depth': 15}. Best is trial 3 with value: 0.770889581169955.\n",
            "[I 2025-05-11 11:10:24,458] Trial 41 finished with value: 0.7652994115610937 and parameters: {'n_estimators': 200, 'max_depth': 15}. Best is trial 3 with value: 0.770889581169955.\n",
            "[I 2025-05-11 11:10:25,375] Trial 42 finished with value: 0.7708549671166494 and parameters: {'n_estimators': 100, 'max_depth': 10}. Best is trial 3 with value: 0.770889581169955.\n",
            "/usr/local/lib/python3.11/dist-packages/optuna/samplers/_grid.py:199: UserWarning: The value `400` is out of range of the parameter `n_estimators`. The value will be used but the actual distribution is: `IntDistribution(high=200, log=False, low=50, step=1)`.\n",
            "  warnings.warn(\n",
            "/usr/local/lib/python3.11/dist-packages/optuna/samplers/_grid.py:199: UserWarning: The value `25` is out of range of the parameter `max_depth`. The value will be used but the actual distribution is: `IntDistribution(high=20, log=False, low=1, step=1)`.\n",
            "  warnings.warn(\n",
            "[I 2025-05-11 11:10:29,902] Trial 43 finished with value: 0.7690377293181031 and parameters: {'n_estimators': 400, 'max_depth': 25}. Best is trial 3 with value: 0.770889581169955.\n",
            "/usr/local/lib/python3.11/dist-packages/optuna/samplers/_grid.py:199: UserWarning: The value `300` is out of range of the parameter `n_estimators`. The value will be used but the actual distribution is: `IntDistribution(high=200, log=False, low=50, step=1)`.\n",
            "  warnings.warn(\n",
            "/usr/local/lib/python3.11/dist-packages/optuna/samplers/_grid.py:199: UserWarning: The value `30` is out of range of the parameter `max_depth`. The value will be used but the actual distribution is: `IntDistribution(high=20, log=False, low=1, step=1)`.\n",
            "  warnings.warn(\n",
            "[I 2025-05-11 11:10:32,637] Trial 44 finished with value: 0.7690377293181031 and parameters: {'n_estimators': 300, 'max_depth': 30}. Best is trial 3 with value: 0.770889581169955.\n",
            "[I 2025-05-11 11:10:34,283] Trial 45 finished with value: 0.7541017653167186 and parameters: {'n_estimators': 200, 'max_depth': 5}. Best is trial 3 with value: 0.770889581169955.\n",
            "[I 2025-05-11 11:10:34,727] Trial 46 finished with value: 0.7597265489788854 and parameters: {'n_estimators': 50, 'max_depth': 5}. Best is trial 3 with value: 0.770889581169955.\n",
            "/usr/local/lib/python3.11/dist-packages/optuna/samplers/_grid.py:199: UserWarning: The value `250` is out of range of the parameter `n_estimators`. The value will be used but the actual distribution is: `IntDistribution(high=200, log=False, low=50, step=1)`.\n",
            "  warnings.warn(\n",
            "/usr/local/lib/python3.11/dist-packages/optuna/samplers/_grid.py:199: UserWarning: The value `30` is out of range of the parameter `max_depth`. The value will be used but the actual distribution is: `IntDistribution(high=20, log=False, low=1, step=1)`.\n",
            "  warnings.warn(\n",
            "[I 2025-05-11 11:10:37,003] Trial 47 finished with value: 0.7690204222914503 and parameters: {'n_estimators': 250, 'max_depth': 30}. Best is trial 3 with value: 0.770889581169955.\n"
          ]
        }
      ]
    },
    {
      "cell_type": "code",
      "source": [
        "print(study.best_trial)\n",
        "print(study.best_trial.value)\n",
        "print(study.best_trial.params)"
      ],
      "metadata": {
        "colab": {
          "base_uri": "https://localhost:8080/"
        },
        "id": "1X0em6phBkW3",
        "outputId": "3720e53b-d48c-4c63-c29c-cee4e228b535"
      },
      "execution_count": 47,
      "outputs": [
        {
          "output_type": "stream",
          "name": "stdout",
          "text": [
            "FrozenTrial(number=3, state=1, values=[0.770889581169955], datetime_start=datetime.datetime(2025, 5, 11, 11, 8, 58, 741269), datetime_complete=datetime.datetime(2025, 5, 11, 11, 9, 2, 834832), params={'n_estimators': 350, 'max_depth': 20}, user_attrs={}, system_attrs={'search_space': {'max_depth': [5, 10, 15, 20, 25, 30], 'n_estimators': [50, 100, 150, 200, 250, 300, 350, 400]}, 'grid_id': 3}, intermediate_values={}, distributions={'n_estimators': IntDistribution(high=200, log=False, low=50, step=1), 'max_depth': IntDistribution(high=20, log=False, low=1, step=1)}, trial_id=3, value=None)\n",
            "0.770889581169955\n",
            "{'n_estimators': 350, 'max_depth': 20}\n"
          ]
        }
      ]
    },
    {
      "cell_type": "code",
      "source": [
        "best_gridsample_model = RandomForestClassifier(**study.best_trial.params,random_state=42)\n",
        "best_gridsample_model.fit(X_train,y_train)\n",
        "y_pred=best_gridsample_model.predict(X_test)\n",
        "\n",
        "print(f\"AccuracyScore is :{accuracy_score(y_pred,y_test)}\")"
      ],
      "metadata": {
        "colab": {
          "base_uri": "https://localhost:8080/"
        },
        "id": "QCGfkr9_B9Sl",
        "outputId": "44cbf198-e0bd-4956-f14f-8e33c8a9ddc4"
      },
      "execution_count": 48,
      "outputs": [
        {
          "output_type": "stream",
          "name": "stdout",
          "text": [
            "AccuracyScore is :0.7402597402597403\n"
          ]
        }
      ]
    },
    {
      "cell_type": "code",
      "source": [
        "from optuna.visualization import plot_optimization_history, plot_parallel_coordinate,plot_param_importances,plot_timeline,plot_slice"
      ],
      "metadata": {
        "id": "XsOnfppaCsRG"
      },
      "execution_count": 49,
      "outputs": []
    },
    {
      "cell_type": "markdown",
      "source": [
        "# Grid Search Plots"
      ],
      "metadata": {
        "id": "ZPIuVP7qExGU"
      }
    },
    {
      "cell_type": "code",
      "source": [
        "# prompt: use all thse plots and show in subplots\n",
        "\n",
        "import matplotlib.pyplot as plt\n",
        "\n",
        "\n",
        "plot_optimization_history(study).show()\n",
        "plot_parallel_coordinate(study).show()\n",
        "plot_slice(study).show()\n",
        "\n",
        "plt.tight_layout()\n",
        "plt.show()\n"
      ],
      "metadata": {
        "colab": {
          "base_uri": "https://localhost:8080/",
          "height": 1000
        },
        "id": "OH1fCpIsDAog",
        "outputId": "a5fe238c-21c4-485e-ace8-ee22dcc916a6"
      },
      "execution_count": 53,
      "outputs": [
        {
          "output_type": "display_data",
          "data": {
            "text/html": [
              "<html>\n",
              "<head><meta charset=\"utf-8\" /></head>\n",
              "<body>\n",
              "    <div>            <script src=\"https://cdnjs.cloudflare.com/ajax/libs/mathjax/2.7.5/MathJax.js?config=TeX-AMS-MML_SVG\"></script><script type=\"text/javascript\">if (window.MathJax && window.MathJax.Hub && window.MathJax.Hub.Config) {window.MathJax.Hub.Config({SVG: {font: \"STIX-Web\"}});}</script>                <script type=\"text/javascript\">window.PlotlyConfig = {MathJaxConfig: 'local'};</script>\n",
              "        <script charset=\"utf-8\" src=\"https://cdn.plot.ly/plotly-2.35.2.min.js\"></script>                <div id=\"f7bb17c0-533a-4334-bbab-1612bd989b2e\" class=\"plotly-graph-div\" style=\"height:525px; width:100%;\"></div>            <script type=\"text/javascript\">                                    window.PLOTLYENV=window.PLOTLYENV || {};                                    if (document.getElementById(\"f7bb17c0-533a-4334-bbab-1612bd989b2e\")) {                    Plotly.newPlot(                        \"f7bb17c0-533a-4334-bbab-1612bd989b2e\",                        [{\"mode\":\"markers\",\"name\":\"Objective Value\",\"x\":[0,1,2,3,4,5,6,7,8,9,10,11,12,13,14,15,16,17,18,19,20,21,22,23,24,25,26,27,28,29,30,31,32,33,34,35,36,37,38,39,40,41,42,43,44,45,46,47],\"y\":[0.7690377293181031,0.7541017653167186,0.7652821045344409,0.770889581169955,0.7671685704395985,0.7690377293181031,0.7652821045344409,0.7671685704395985,0.7522152994115612,0.7633956386292835,0.7652474904811353,0.7690377293181031,0.7615957078573901,0.7708722741433023,0.7690377293181031,0.750380754586362,0.770889581169955,0.76711664935964,0.7652647975077882,0.7690204222914503,0.7690204222914503,0.7634129456559362,0.7615957078573901,0.7652994115610938,0.7652821045344409,0.7522499134648667,0.7596746278989268,0.7615957078573901,0.7578054690204222,0.7597092419522324,0.7708722741433023,0.7578227760470752,0.770889581169955,0.7541190723433715,0.7596919349255797,0.7708722741433023,0.7690204222914503,0.7540844582900658,0.7690204222914503,0.7690204222914503,0.7652821045344409,0.7652994115610937,0.7708549671166494,0.7690377293181031,0.7690377293181031,0.7541017653167186,0.7597265489788854,0.7690204222914503],\"type\":\"scatter\"},{\"mode\":\"lines\",\"name\":\"Best Value\",\"x\":[0,1,2,3,4,5,6,7,8,9,10,11,12,13,14,15,16,17,18,19,20,21,22,23,24,25,26,27,28,29,30,31,32,33,34,35,36,37,38,39,40,41,42,43,44,45,46,47],\"y\":[0.7690377293181031,0.7690377293181031,0.7690377293181031,0.770889581169955,0.770889581169955,0.770889581169955,0.770889581169955,0.770889581169955,0.770889581169955,0.770889581169955,0.770889581169955,0.770889581169955,0.770889581169955,0.770889581169955,0.770889581169955,0.770889581169955,0.770889581169955,0.770889581169955,0.770889581169955,0.770889581169955,0.770889581169955,0.770889581169955,0.770889581169955,0.770889581169955,0.770889581169955,0.770889581169955,0.770889581169955,0.770889581169955,0.770889581169955,0.770889581169955,0.770889581169955,0.770889581169955,0.770889581169955,0.770889581169955,0.770889581169955,0.770889581169955,0.770889581169955,0.770889581169955,0.770889581169955,0.770889581169955,0.770889581169955,0.770889581169955,0.770889581169955,0.770889581169955,0.770889581169955,0.770889581169955,0.770889581169955,0.770889581169955],\"type\":\"scatter\"},{\"marker\":{\"color\":\"#cccccc\"},\"mode\":\"markers\",\"name\":\"Infeasible Trial\",\"showlegend\":false,\"x\":[],\"y\":[],\"type\":\"scatter\"}],                        {\"title\":{\"text\":\"Optimization History Plot\"},\"xaxis\":{\"title\":{\"text\":\"Trial\"}},\"yaxis\":{\"title\":{\"text\":\"Objective Value\"}},\"template\":{\"data\":{\"histogram2dcontour\":[{\"type\":\"histogram2dcontour\",\"colorbar\":{\"outlinewidth\":0,\"ticks\":\"\"},\"colorscale\":[[0.0,\"#0d0887\"],[0.1111111111111111,\"#46039f\"],[0.2222222222222222,\"#7201a8\"],[0.3333333333333333,\"#9c179e\"],[0.4444444444444444,\"#bd3786\"],[0.5555555555555556,\"#d8576b\"],[0.6666666666666666,\"#ed7953\"],[0.7777777777777778,\"#fb9f3a\"],[0.8888888888888888,\"#fdca26\"],[1.0,\"#f0f921\"]]}],\"choropleth\":[{\"type\":\"choropleth\",\"colorbar\":{\"outlinewidth\":0,\"ticks\":\"\"}}],\"histogram2d\":[{\"type\":\"histogram2d\",\"colorbar\":{\"outlinewidth\":0,\"ticks\":\"\"},\"colorscale\":[[0.0,\"#0d0887\"],[0.1111111111111111,\"#46039f\"],[0.2222222222222222,\"#7201a8\"],[0.3333333333333333,\"#9c179e\"],[0.4444444444444444,\"#bd3786\"],[0.5555555555555556,\"#d8576b\"],[0.6666666666666666,\"#ed7953\"],[0.7777777777777778,\"#fb9f3a\"],[0.8888888888888888,\"#fdca26\"],[1.0,\"#f0f921\"]]}],\"heatmap\":[{\"type\":\"heatmap\",\"colorbar\":{\"outlinewidth\":0,\"ticks\":\"\"},\"colorscale\":[[0.0,\"#0d0887\"],[0.1111111111111111,\"#46039f\"],[0.2222222222222222,\"#7201a8\"],[0.3333333333333333,\"#9c179e\"],[0.4444444444444444,\"#bd3786\"],[0.5555555555555556,\"#d8576b\"],[0.6666666666666666,\"#ed7953\"],[0.7777777777777778,\"#fb9f3a\"],[0.8888888888888888,\"#fdca26\"],[1.0,\"#f0f921\"]]}],\"heatmapgl\":[{\"type\":\"heatmapgl\",\"colorbar\":{\"outlinewidth\":0,\"ticks\":\"\"},\"colorscale\":[[0.0,\"#0d0887\"],[0.1111111111111111,\"#46039f\"],[0.2222222222222222,\"#7201a8\"],[0.3333333333333333,\"#9c179e\"],[0.4444444444444444,\"#bd3786\"],[0.5555555555555556,\"#d8576b\"],[0.6666666666666666,\"#ed7953\"],[0.7777777777777778,\"#fb9f3a\"],[0.8888888888888888,\"#fdca26\"],[1.0,\"#f0f921\"]]}],\"contourcarpet\":[{\"type\":\"contourcarpet\",\"colorbar\":{\"outlinewidth\":0,\"ticks\":\"\"}}],\"contour\":[{\"type\":\"contour\",\"colorbar\":{\"outlinewidth\":0,\"ticks\":\"\"},\"colorscale\":[[0.0,\"#0d0887\"],[0.1111111111111111,\"#46039f\"],[0.2222222222222222,\"#7201a8\"],[0.3333333333333333,\"#9c179e\"],[0.4444444444444444,\"#bd3786\"],[0.5555555555555556,\"#d8576b\"],[0.6666666666666666,\"#ed7953\"],[0.7777777777777778,\"#fb9f3a\"],[0.8888888888888888,\"#fdca26\"],[1.0,\"#f0f921\"]]}],\"surface\":[{\"type\":\"surface\",\"colorbar\":{\"outlinewidth\":0,\"ticks\":\"\"},\"colorscale\":[[0.0,\"#0d0887\"],[0.1111111111111111,\"#46039f\"],[0.2222222222222222,\"#7201a8\"],[0.3333333333333333,\"#9c179e\"],[0.4444444444444444,\"#bd3786\"],[0.5555555555555556,\"#d8576b\"],[0.6666666666666666,\"#ed7953\"],[0.7777777777777778,\"#fb9f3a\"],[0.8888888888888888,\"#fdca26\"],[1.0,\"#f0f921\"]]}],\"mesh3d\":[{\"type\":\"mesh3d\",\"colorbar\":{\"outlinewidth\":0,\"ticks\":\"\"}}],\"scatter\":[{\"fillpattern\":{\"fillmode\":\"overlay\",\"size\":10,\"solidity\":0.2},\"type\":\"scatter\"}],\"parcoords\":[{\"type\":\"parcoords\",\"line\":{\"colorbar\":{\"outlinewidth\":0,\"ticks\":\"\"}}}],\"scatterpolargl\":[{\"type\":\"scatterpolargl\",\"marker\":{\"colorbar\":{\"outlinewidth\":0,\"ticks\":\"\"}}}],\"bar\":[{\"error_x\":{\"color\":\"#2a3f5f\"},\"error_y\":{\"color\":\"#2a3f5f\"},\"marker\":{\"line\":{\"color\":\"#E5ECF6\",\"width\":0.5},\"pattern\":{\"fillmode\":\"overlay\",\"size\":10,\"solidity\":0.2}},\"type\":\"bar\"}],\"scattergeo\":[{\"type\":\"scattergeo\",\"marker\":{\"colorbar\":{\"outlinewidth\":0,\"ticks\":\"\"}}}],\"scatterpolar\":[{\"type\":\"scatterpolar\",\"marker\":{\"colorbar\":{\"outlinewidth\":0,\"ticks\":\"\"}}}],\"histogram\":[{\"marker\":{\"pattern\":{\"fillmode\":\"overlay\",\"size\":10,\"solidity\":0.2}},\"type\":\"histogram\"}],\"scattergl\":[{\"type\":\"scattergl\",\"marker\":{\"colorbar\":{\"outlinewidth\":0,\"ticks\":\"\"}}}],\"scatter3d\":[{\"type\":\"scatter3d\",\"line\":{\"colorbar\":{\"outlinewidth\":0,\"ticks\":\"\"}},\"marker\":{\"colorbar\":{\"outlinewidth\":0,\"ticks\":\"\"}}}],\"scattermapbox\":[{\"type\":\"scattermapbox\",\"marker\":{\"colorbar\":{\"outlinewidth\":0,\"ticks\":\"\"}}}],\"scatterternary\":[{\"type\":\"scatterternary\",\"marker\":{\"colorbar\":{\"outlinewidth\":0,\"ticks\":\"\"}}}],\"scattercarpet\":[{\"type\":\"scattercarpet\",\"marker\":{\"colorbar\":{\"outlinewidth\":0,\"ticks\":\"\"}}}],\"carpet\":[{\"aaxis\":{\"endlinecolor\":\"#2a3f5f\",\"gridcolor\":\"white\",\"linecolor\":\"white\",\"minorgridcolor\":\"white\",\"startlinecolor\":\"#2a3f5f\"},\"baxis\":{\"endlinecolor\":\"#2a3f5f\",\"gridcolor\":\"white\",\"linecolor\":\"white\",\"minorgridcolor\":\"white\",\"startlinecolor\":\"#2a3f5f\"},\"type\":\"carpet\"}],\"table\":[{\"cells\":{\"fill\":{\"color\":\"#EBF0F8\"},\"line\":{\"color\":\"white\"}},\"header\":{\"fill\":{\"color\":\"#C8D4E3\"},\"line\":{\"color\":\"white\"}},\"type\":\"table\"}],\"barpolar\":[{\"marker\":{\"line\":{\"color\":\"#E5ECF6\",\"width\":0.5},\"pattern\":{\"fillmode\":\"overlay\",\"size\":10,\"solidity\":0.2}},\"type\":\"barpolar\"}],\"pie\":[{\"automargin\":true,\"type\":\"pie\"}]},\"layout\":{\"autotypenumbers\":\"strict\",\"colorway\":[\"#636efa\",\"#EF553B\",\"#00cc96\",\"#ab63fa\",\"#FFA15A\",\"#19d3f3\",\"#FF6692\",\"#B6E880\",\"#FF97FF\",\"#FECB52\"],\"font\":{\"color\":\"#2a3f5f\"},\"hovermode\":\"closest\",\"hoverlabel\":{\"align\":\"left\"},\"paper_bgcolor\":\"white\",\"plot_bgcolor\":\"#E5ECF6\",\"polar\":{\"bgcolor\":\"#E5ECF6\",\"angularaxis\":{\"gridcolor\":\"white\",\"linecolor\":\"white\",\"ticks\":\"\"},\"radialaxis\":{\"gridcolor\":\"white\",\"linecolor\":\"white\",\"ticks\":\"\"}},\"ternary\":{\"bgcolor\":\"#E5ECF6\",\"aaxis\":{\"gridcolor\":\"white\",\"linecolor\":\"white\",\"ticks\":\"\"},\"baxis\":{\"gridcolor\":\"white\",\"linecolor\":\"white\",\"ticks\":\"\"},\"caxis\":{\"gridcolor\":\"white\",\"linecolor\":\"white\",\"ticks\":\"\"}},\"coloraxis\":{\"colorbar\":{\"outlinewidth\":0,\"ticks\":\"\"}},\"colorscale\":{\"sequential\":[[0.0,\"#0d0887\"],[0.1111111111111111,\"#46039f\"],[0.2222222222222222,\"#7201a8\"],[0.3333333333333333,\"#9c179e\"],[0.4444444444444444,\"#bd3786\"],[0.5555555555555556,\"#d8576b\"],[0.6666666666666666,\"#ed7953\"],[0.7777777777777778,\"#fb9f3a\"],[0.8888888888888888,\"#fdca26\"],[1.0,\"#f0f921\"]],\"sequentialminus\":[[0.0,\"#0d0887\"],[0.1111111111111111,\"#46039f\"],[0.2222222222222222,\"#7201a8\"],[0.3333333333333333,\"#9c179e\"],[0.4444444444444444,\"#bd3786\"],[0.5555555555555556,\"#d8576b\"],[0.6666666666666666,\"#ed7953\"],[0.7777777777777778,\"#fb9f3a\"],[0.8888888888888888,\"#fdca26\"],[1.0,\"#f0f921\"]],\"diverging\":[[0,\"#8e0152\"],[0.1,\"#c51b7d\"],[0.2,\"#de77ae\"],[0.3,\"#f1b6da\"],[0.4,\"#fde0ef\"],[0.5,\"#f7f7f7\"],[0.6,\"#e6f5d0\"],[0.7,\"#b8e186\"],[0.8,\"#7fbc41\"],[0.9,\"#4d9221\"],[1,\"#276419\"]]},\"xaxis\":{\"gridcolor\":\"white\",\"linecolor\":\"white\",\"ticks\":\"\",\"title\":{\"standoff\":15},\"zerolinecolor\":\"white\",\"automargin\":true,\"zerolinewidth\":2},\"yaxis\":{\"gridcolor\":\"white\",\"linecolor\":\"white\",\"ticks\":\"\",\"title\":{\"standoff\":15},\"zerolinecolor\":\"white\",\"automargin\":true,\"zerolinewidth\":2},\"scene\":{\"xaxis\":{\"backgroundcolor\":\"#E5ECF6\",\"gridcolor\":\"white\",\"linecolor\":\"white\",\"showbackground\":true,\"ticks\":\"\",\"zerolinecolor\":\"white\",\"gridwidth\":2},\"yaxis\":{\"backgroundcolor\":\"#E5ECF6\",\"gridcolor\":\"white\",\"linecolor\":\"white\",\"showbackground\":true,\"ticks\":\"\",\"zerolinecolor\":\"white\",\"gridwidth\":2},\"zaxis\":{\"backgroundcolor\":\"#E5ECF6\",\"gridcolor\":\"white\",\"linecolor\":\"white\",\"showbackground\":true,\"ticks\":\"\",\"zerolinecolor\":\"white\",\"gridwidth\":2}},\"shapedefaults\":{\"line\":{\"color\":\"#2a3f5f\"}},\"annotationdefaults\":{\"arrowcolor\":\"#2a3f5f\",\"arrowhead\":0,\"arrowwidth\":1},\"geo\":{\"bgcolor\":\"white\",\"landcolor\":\"#E5ECF6\",\"subunitcolor\":\"white\",\"showland\":true,\"showlakes\":true,\"lakecolor\":\"white\"},\"title\":{\"x\":0.05},\"mapbox\":{\"style\":\"light\"}}}},                        {\"responsive\": true}                    ).then(function(){\n",
              "                            \n",
              "var gd = document.getElementById('f7bb17c0-533a-4334-bbab-1612bd989b2e');\n",
              "var x = new MutationObserver(function (mutations, observer) {{\n",
              "        var display = window.getComputedStyle(gd).display;\n",
              "        if (!display || display === 'none') {{\n",
              "            console.log([gd, 'removed!']);\n",
              "            Plotly.purge(gd);\n",
              "            observer.disconnect();\n",
              "        }}\n",
              "}});\n",
              "\n",
              "// Listen for the removal of the full notebook cells\n",
              "var notebookContainer = gd.closest('#notebook-container');\n",
              "if (notebookContainer) {{\n",
              "    x.observe(notebookContainer, {childList: true});\n",
              "}}\n",
              "\n",
              "// Listen for the clearing of the current output cell\n",
              "var outputEl = gd.closest('.output');\n",
              "if (outputEl) {{\n",
              "    x.observe(outputEl, {childList: true});\n",
              "}}\n",
              "\n",
              "                        })                };                            </script>        </div>\n",
              "</body>\n",
              "</html>"
            ]
          },
          "metadata": {}
        },
        {
          "output_type": "display_data",
          "data": {
            "text/html": [
              "<html>\n",
              "<head><meta charset=\"utf-8\" /></head>\n",
              "<body>\n",
              "    <div>            <script src=\"https://cdnjs.cloudflare.com/ajax/libs/mathjax/2.7.5/MathJax.js?config=TeX-AMS-MML_SVG\"></script><script type=\"text/javascript\">if (window.MathJax && window.MathJax.Hub && window.MathJax.Hub.Config) {window.MathJax.Hub.Config({SVG: {font: \"STIX-Web\"}});}</script>                <script type=\"text/javascript\">window.PlotlyConfig = {MathJaxConfig: 'local'};</script>\n",
              "        <script charset=\"utf-8\" src=\"https://cdn.plot.ly/plotly-2.35.2.min.js\"></script>                <div id=\"e98d97c9-350d-4934-8369-421ed6ebce87\" class=\"plotly-graph-div\" style=\"height:525px; width:100%;\"></div>            <script type=\"text/javascript\">                                    window.PLOTLYENV=window.PLOTLYENV || {};                                    if (document.getElementById(\"e98d97c9-350d-4934-8369-421ed6ebce87\")) {                    Plotly.newPlot(                        \"e98d97c9-350d-4934-8369-421ed6ebce87\",                        [{\"dimensions\":[{\"label\":\"Objective Value\",\"range\":[0.750380754586362,0.770889581169955],\"values\":[0.7690377293181031,0.7541017653167186,0.7652821045344409,0.770889581169955,0.7671685704395985,0.7690377293181031,0.7652821045344409,0.7671685704395985,0.7522152994115612,0.7633956386292835,0.7652474904811353,0.7690377293181031,0.7615957078573901,0.7708722741433023,0.7690377293181031,0.750380754586362,0.770889581169955,0.76711664935964,0.7652647975077882,0.7690204222914503,0.7690204222914503,0.7634129456559362,0.7615957078573901,0.7652994115610938,0.7652821045344409,0.7522499134648667,0.7596746278989268,0.7615957078573901,0.7578054690204222,0.7597092419522324,0.7708722741433023,0.7578227760470752,0.770889581169955,0.7541190723433715,0.7596919349255797,0.7708722741433023,0.7690204222914503,0.7540844582900658,0.7690204222914503,0.7690204222914503,0.7652821045344409,0.7652994115610937,0.7708549671166494,0.7690377293181031,0.7690377293181031,0.7541017653167186,0.7597265489788854,0.7690204222914503]},{\"label\":\"max_depth\",\"range\":[5,30],\"values\":[20,5,20,20,25,25,25,30,5,10,10,20,25,20,30,5,30,15,10,20,15,15,30,15,30,10,10,20,5,15,25,10,25,5,10,30,20,5,15,25,15,15,10,25,30,5,5,30]},{\"label\":\"n_estimators\",\"range\":[50,400],\"values\":[300,250,150,350,50,300,150,50,400,150,200,400,100,200,400,150,350,150,400,250,350,50,100,250,150,50,300,100,300,100,200,350,350,100,250,200,50,350,400,250,300,200,100,400,300,200,50,250]}],\"labelangle\":30,\"labelside\":\"bottom\",\"line\":{\"color\":[0.7690377293181031,0.7541017653167186,0.7652821045344409,0.770889581169955,0.7671685704395985,0.7690377293181031,0.7652821045344409,0.7671685704395985,0.7522152994115612,0.7633956386292835,0.7652474904811353,0.7690377293181031,0.7615957078573901,0.7708722741433023,0.7690377293181031,0.750380754586362,0.770889581169955,0.76711664935964,0.7652647975077882,0.7690204222914503,0.7690204222914503,0.7634129456559362,0.7615957078573901,0.7652994115610938,0.7652821045344409,0.7522499134648667,0.7596746278989268,0.7615957078573901,0.7578054690204222,0.7597092419522324,0.7708722741433023,0.7578227760470752,0.770889581169955,0.7541190723433715,0.7596919349255797,0.7708722741433023,0.7690204222914503,0.7540844582900658,0.7690204222914503,0.7690204222914503,0.7652821045344409,0.7652994115610937,0.7708549671166494,0.7690377293181031,0.7690377293181031,0.7541017653167186,0.7597265489788854,0.7690204222914503],\"colorbar\":{\"title\":{\"text\":\"Objective Value\"}},\"colorscale\":[[0.0,\"rgb(247,251,255)\"],[0.125,\"rgb(222,235,247)\"],[0.25,\"rgb(198,219,239)\"],[0.375,\"rgb(158,202,225)\"],[0.5,\"rgb(107,174,214)\"],[0.625,\"rgb(66,146,198)\"],[0.75,\"rgb(33,113,181)\"],[0.875,\"rgb(8,81,156)\"],[1.0,\"rgb(8,48,107)\"]],\"reversescale\":false,\"showscale\":true},\"type\":\"parcoords\"}],                        {\"title\":{\"text\":\"Parallel Coordinate Plot\"},\"template\":{\"data\":{\"histogram2dcontour\":[{\"type\":\"histogram2dcontour\",\"colorbar\":{\"outlinewidth\":0,\"ticks\":\"\"},\"colorscale\":[[0.0,\"#0d0887\"],[0.1111111111111111,\"#46039f\"],[0.2222222222222222,\"#7201a8\"],[0.3333333333333333,\"#9c179e\"],[0.4444444444444444,\"#bd3786\"],[0.5555555555555556,\"#d8576b\"],[0.6666666666666666,\"#ed7953\"],[0.7777777777777778,\"#fb9f3a\"],[0.8888888888888888,\"#fdca26\"],[1.0,\"#f0f921\"]]}],\"choropleth\":[{\"type\":\"choropleth\",\"colorbar\":{\"outlinewidth\":0,\"ticks\":\"\"}}],\"histogram2d\":[{\"type\":\"histogram2d\",\"colorbar\":{\"outlinewidth\":0,\"ticks\":\"\"},\"colorscale\":[[0.0,\"#0d0887\"],[0.1111111111111111,\"#46039f\"],[0.2222222222222222,\"#7201a8\"],[0.3333333333333333,\"#9c179e\"],[0.4444444444444444,\"#bd3786\"],[0.5555555555555556,\"#d8576b\"],[0.6666666666666666,\"#ed7953\"],[0.7777777777777778,\"#fb9f3a\"],[0.8888888888888888,\"#fdca26\"],[1.0,\"#f0f921\"]]}],\"heatmap\":[{\"type\":\"heatmap\",\"colorbar\":{\"outlinewidth\":0,\"ticks\":\"\"},\"colorscale\":[[0.0,\"#0d0887\"],[0.1111111111111111,\"#46039f\"],[0.2222222222222222,\"#7201a8\"],[0.3333333333333333,\"#9c179e\"],[0.4444444444444444,\"#bd3786\"],[0.5555555555555556,\"#d8576b\"],[0.6666666666666666,\"#ed7953\"],[0.7777777777777778,\"#fb9f3a\"],[0.8888888888888888,\"#fdca26\"],[1.0,\"#f0f921\"]]}],\"heatmapgl\":[{\"type\":\"heatmapgl\",\"colorbar\":{\"outlinewidth\":0,\"ticks\":\"\"},\"colorscale\":[[0.0,\"#0d0887\"],[0.1111111111111111,\"#46039f\"],[0.2222222222222222,\"#7201a8\"],[0.3333333333333333,\"#9c179e\"],[0.4444444444444444,\"#bd3786\"],[0.5555555555555556,\"#d8576b\"],[0.6666666666666666,\"#ed7953\"],[0.7777777777777778,\"#fb9f3a\"],[0.8888888888888888,\"#fdca26\"],[1.0,\"#f0f921\"]]}],\"contourcarpet\":[{\"type\":\"contourcarpet\",\"colorbar\":{\"outlinewidth\":0,\"ticks\":\"\"}}],\"contour\":[{\"type\":\"contour\",\"colorbar\":{\"outlinewidth\":0,\"ticks\":\"\"},\"colorscale\":[[0.0,\"#0d0887\"],[0.1111111111111111,\"#46039f\"],[0.2222222222222222,\"#7201a8\"],[0.3333333333333333,\"#9c179e\"],[0.4444444444444444,\"#bd3786\"],[0.5555555555555556,\"#d8576b\"],[0.6666666666666666,\"#ed7953\"],[0.7777777777777778,\"#fb9f3a\"],[0.8888888888888888,\"#fdca26\"],[1.0,\"#f0f921\"]]}],\"surface\":[{\"type\":\"surface\",\"colorbar\":{\"outlinewidth\":0,\"ticks\":\"\"},\"colorscale\":[[0.0,\"#0d0887\"],[0.1111111111111111,\"#46039f\"],[0.2222222222222222,\"#7201a8\"],[0.3333333333333333,\"#9c179e\"],[0.4444444444444444,\"#bd3786\"],[0.5555555555555556,\"#d8576b\"],[0.6666666666666666,\"#ed7953\"],[0.7777777777777778,\"#fb9f3a\"],[0.8888888888888888,\"#fdca26\"],[1.0,\"#f0f921\"]]}],\"mesh3d\":[{\"type\":\"mesh3d\",\"colorbar\":{\"outlinewidth\":0,\"ticks\":\"\"}}],\"scatter\":[{\"fillpattern\":{\"fillmode\":\"overlay\",\"size\":10,\"solidity\":0.2},\"type\":\"scatter\"}],\"parcoords\":[{\"type\":\"parcoords\",\"line\":{\"colorbar\":{\"outlinewidth\":0,\"ticks\":\"\"}}}],\"scatterpolargl\":[{\"type\":\"scatterpolargl\",\"marker\":{\"colorbar\":{\"outlinewidth\":0,\"ticks\":\"\"}}}],\"bar\":[{\"error_x\":{\"color\":\"#2a3f5f\"},\"error_y\":{\"color\":\"#2a3f5f\"},\"marker\":{\"line\":{\"color\":\"#E5ECF6\",\"width\":0.5},\"pattern\":{\"fillmode\":\"overlay\",\"size\":10,\"solidity\":0.2}},\"type\":\"bar\"}],\"scattergeo\":[{\"type\":\"scattergeo\",\"marker\":{\"colorbar\":{\"outlinewidth\":0,\"ticks\":\"\"}}}],\"scatterpolar\":[{\"type\":\"scatterpolar\",\"marker\":{\"colorbar\":{\"outlinewidth\":0,\"ticks\":\"\"}}}],\"histogram\":[{\"marker\":{\"pattern\":{\"fillmode\":\"overlay\",\"size\":10,\"solidity\":0.2}},\"type\":\"histogram\"}],\"scattergl\":[{\"type\":\"scattergl\",\"marker\":{\"colorbar\":{\"outlinewidth\":0,\"ticks\":\"\"}}}],\"scatter3d\":[{\"type\":\"scatter3d\",\"line\":{\"colorbar\":{\"outlinewidth\":0,\"ticks\":\"\"}},\"marker\":{\"colorbar\":{\"outlinewidth\":0,\"ticks\":\"\"}}}],\"scattermapbox\":[{\"type\":\"scattermapbox\",\"marker\":{\"colorbar\":{\"outlinewidth\":0,\"ticks\":\"\"}}}],\"scatterternary\":[{\"type\":\"scatterternary\",\"marker\":{\"colorbar\":{\"outlinewidth\":0,\"ticks\":\"\"}}}],\"scattercarpet\":[{\"type\":\"scattercarpet\",\"marker\":{\"colorbar\":{\"outlinewidth\":0,\"ticks\":\"\"}}}],\"carpet\":[{\"aaxis\":{\"endlinecolor\":\"#2a3f5f\",\"gridcolor\":\"white\",\"linecolor\":\"white\",\"minorgridcolor\":\"white\",\"startlinecolor\":\"#2a3f5f\"},\"baxis\":{\"endlinecolor\":\"#2a3f5f\",\"gridcolor\":\"white\",\"linecolor\":\"white\",\"minorgridcolor\":\"white\",\"startlinecolor\":\"#2a3f5f\"},\"type\":\"carpet\"}],\"table\":[{\"cells\":{\"fill\":{\"color\":\"#EBF0F8\"},\"line\":{\"color\":\"white\"}},\"header\":{\"fill\":{\"color\":\"#C8D4E3\"},\"line\":{\"color\":\"white\"}},\"type\":\"table\"}],\"barpolar\":[{\"marker\":{\"line\":{\"color\":\"#E5ECF6\",\"width\":0.5},\"pattern\":{\"fillmode\":\"overlay\",\"size\":10,\"solidity\":0.2}},\"type\":\"barpolar\"}],\"pie\":[{\"automargin\":true,\"type\":\"pie\"}]},\"layout\":{\"autotypenumbers\":\"strict\",\"colorway\":[\"#636efa\",\"#EF553B\",\"#00cc96\",\"#ab63fa\",\"#FFA15A\",\"#19d3f3\",\"#FF6692\",\"#B6E880\",\"#FF97FF\",\"#FECB52\"],\"font\":{\"color\":\"#2a3f5f\"},\"hovermode\":\"closest\",\"hoverlabel\":{\"align\":\"left\"},\"paper_bgcolor\":\"white\",\"plot_bgcolor\":\"#E5ECF6\",\"polar\":{\"bgcolor\":\"#E5ECF6\",\"angularaxis\":{\"gridcolor\":\"white\",\"linecolor\":\"white\",\"ticks\":\"\"},\"radialaxis\":{\"gridcolor\":\"white\",\"linecolor\":\"white\",\"ticks\":\"\"}},\"ternary\":{\"bgcolor\":\"#E5ECF6\",\"aaxis\":{\"gridcolor\":\"white\",\"linecolor\":\"white\",\"ticks\":\"\"},\"baxis\":{\"gridcolor\":\"white\",\"linecolor\":\"white\",\"ticks\":\"\"},\"caxis\":{\"gridcolor\":\"white\",\"linecolor\":\"white\",\"ticks\":\"\"}},\"coloraxis\":{\"colorbar\":{\"outlinewidth\":0,\"ticks\":\"\"}},\"colorscale\":{\"sequential\":[[0.0,\"#0d0887\"],[0.1111111111111111,\"#46039f\"],[0.2222222222222222,\"#7201a8\"],[0.3333333333333333,\"#9c179e\"],[0.4444444444444444,\"#bd3786\"],[0.5555555555555556,\"#d8576b\"],[0.6666666666666666,\"#ed7953\"],[0.7777777777777778,\"#fb9f3a\"],[0.8888888888888888,\"#fdca26\"],[1.0,\"#f0f921\"]],\"sequentialminus\":[[0.0,\"#0d0887\"],[0.1111111111111111,\"#46039f\"],[0.2222222222222222,\"#7201a8\"],[0.3333333333333333,\"#9c179e\"],[0.4444444444444444,\"#bd3786\"],[0.5555555555555556,\"#d8576b\"],[0.6666666666666666,\"#ed7953\"],[0.7777777777777778,\"#fb9f3a\"],[0.8888888888888888,\"#fdca26\"],[1.0,\"#f0f921\"]],\"diverging\":[[0,\"#8e0152\"],[0.1,\"#c51b7d\"],[0.2,\"#de77ae\"],[0.3,\"#f1b6da\"],[0.4,\"#fde0ef\"],[0.5,\"#f7f7f7\"],[0.6,\"#e6f5d0\"],[0.7,\"#b8e186\"],[0.8,\"#7fbc41\"],[0.9,\"#4d9221\"],[1,\"#276419\"]]},\"xaxis\":{\"gridcolor\":\"white\",\"linecolor\":\"white\",\"ticks\":\"\",\"title\":{\"standoff\":15},\"zerolinecolor\":\"white\",\"automargin\":true,\"zerolinewidth\":2},\"yaxis\":{\"gridcolor\":\"white\",\"linecolor\":\"white\",\"ticks\":\"\",\"title\":{\"standoff\":15},\"zerolinecolor\":\"white\",\"automargin\":true,\"zerolinewidth\":2},\"scene\":{\"xaxis\":{\"backgroundcolor\":\"#E5ECF6\",\"gridcolor\":\"white\",\"linecolor\":\"white\",\"showbackground\":true,\"ticks\":\"\",\"zerolinecolor\":\"white\",\"gridwidth\":2},\"yaxis\":{\"backgroundcolor\":\"#E5ECF6\",\"gridcolor\":\"white\",\"linecolor\":\"white\",\"showbackground\":true,\"ticks\":\"\",\"zerolinecolor\":\"white\",\"gridwidth\":2},\"zaxis\":{\"backgroundcolor\":\"#E5ECF6\",\"gridcolor\":\"white\",\"linecolor\":\"white\",\"showbackground\":true,\"ticks\":\"\",\"zerolinecolor\":\"white\",\"gridwidth\":2}},\"shapedefaults\":{\"line\":{\"color\":\"#2a3f5f\"}},\"annotationdefaults\":{\"arrowcolor\":\"#2a3f5f\",\"arrowhead\":0,\"arrowwidth\":1},\"geo\":{\"bgcolor\":\"white\",\"landcolor\":\"#E5ECF6\",\"subunitcolor\":\"white\",\"showland\":true,\"showlakes\":true,\"lakecolor\":\"white\"},\"title\":{\"x\":0.05},\"mapbox\":{\"style\":\"light\"}}}},                        {\"responsive\": true}                    ).then(function(){\n",
              "                            \n",
              "var gd = document.getElementById('e98d97c9-350d-4934-8369-421ed6ebce87');\n",
              "var x = new MutationObserver(function (mutations, observer) {{\n",
              "        var display = window.getComputedStyle(gd).display;\n",
              "        if (!display || display === 'none') {{\n",
              "            console.log([gd, 'removed!']);\n",
              "            Plotly.purge(gd);\n",
              "            observer.disconnect();\n",
              "        }}\n",
              "}});\n",
              "\n",
              "// Listen for the removal of the full notebook cells\n",
              "var notebookContainer = gd.closest('#notebook-container');\n",
              "if (notebookContainer) {{\n",
              "    x.observe(notebookContainer, {childList: true});\n",
              "}}\n",
              "\n",
              "// Listen for the clearing of the current output cell\n",
              "var outputEl = gd.closest('.output');\n",
              "if (outputEl) {{\n",
              "    x.observe(outputEl, {childList: true});\n",
              "}}\n",
              "\n",
              "                        })                };                            </script>        </div>\n",
              "</body>\n",
              "</html>"
            ]
          },
          "metadata": {}
        },
        {
          "output_type": "display_data",
          "data": {
            "text/html": [
              "<html>\n",
              "<head><meta charset=\"utf-8\" /></head>\n",
              "<body>\n",
              "    <div>            <script src=\"https://cdnjs.cloudflare.com/ajax/libs/mathjax/2.7.5/MathJax.js?config=TeX-AMS-MML_SVG\"></script><script type=\"text/javascript\">if (window.MathJax && window.MathJax.Hub && window.MathJax.Hub.Config) {window.MathJax.Hub.Config({SVG: {font: \"STIX-Web\"}});}</script>                <script type=\"text/javascript\">window.PlotlyConfig = {MathJaxConfig: 'local'};</script>\n",
              "        <script charset=\"utf-8\" src=\"https://cdn.plot.ly/plotly-2.35.2.min.js\"></script>                <div id=\"d87ed3b0-bd8d-45e3-8ba3-334ac6f17f78\" class=\"plotly-graph-div\" style=\"height:525px; width:100%;\"></div>            <script type=\"text/javascript\">                                    window.PLOTLYENV=window.PLOTLYENV || {};                                    if (document.getElementById(\"d87ed3b0-bd8d-45e3-8ba3-334ac6f17f78\")) {                    Plotly.newPlot(                        \"d87ed3b0-bd8d-45e3-8ba3-334ac6f17f78\",                        [{\"marker\":{\"color\":[0,1,2,3,4,5,6,7,8,9,10,11,12,13,14,15,16,17,18,19,20,21,22,23,24,25,26,27,28,29,30,31,32,33,34,35,36,37,38,39,40,41,42,43,44,45,46,47],\"colorbar\":{\"title\":{\"text\":\"Trial\"},\"x\":1.0,\"xpad\":40},\"colorscale\":[[0.0,\"rgb(247,251,255)\"],[0.125,\"rgb(222,235,247)\"],[0.25,\"rgb(198,219,239)\"],[0.375,\"rgb(158,202,225)\"],[0.5,\"rgb(107,174,214)\"],[0.625,\"rgb(66,146,198)\"],[0.75,\"rgb(33,113,181)\"],[0.875,\"rgb(8,81,156)\"],[1.0,\"rgb(8,48,107)\"]],\"line\":{\"color\":\"Grey\",\"width\":0.5},\"showscale\":true},\"mode\":\"markers\",\"name\":\"Feasible Trial\",\"showlegend\":false,\"x\":[20,5,20,20,25,25,25,30,5,10,10,20,25,20,30,5,30,15,10,20,15,15,30,15,30,10,10,20,5,15,25,10,25,5,10,30,20,5,15,25,15,15,10,25,30,5,5,30],\"y\":[0.7690377293181031,0.7541017653167186,0.7652821045344409,0.770889581169955,0.7671685704395985,0.7690377293181031,0.7652821045344409,0.7671685704395985,0.7522152994115612,0.7633956386292835,0.7652474904811353,0.7690377293181031,0.7615957078573901,0.7708722741433023,0.7690377293181031,0.750380754586362,0.770889581169955,0.76711664935964,0.7652647975077882,0.7690204222914503,0.7690204222914503,0.7634129456559362,0.7615957078573901,0.7652994115610938,0.7652821045344409,0.7522499134648667,0.7596746278989268,0.7615957078573901,0.7578054690204222,0.7597092419522324,0.7708722741433023,0.7578227760470752,0.770889581169955,0.7541190723433715,0.7596919349255797,0.7708722741433023,0.7690204222914503,0.7540844582900658,0.7690204222914503,0.7690204222914503,0.7652821045344409,0.7652994115610937,0.7708549671166494,0.7690377293181031,0.7690377293181031,0.7541017653167186,0.7597265489788854,0.7690204222914503],\"type\":\"scatter\",\"xaxis\":\"x\",\"yaxis\":\"y\"},{\"marker\":{\"color\":[0,1,2,3,4,5,6,7,8,9,10,11,12,13,14,15,16,17,18,19,20,21,22,23,24,25,26,27,28,29,30,31,32,33,34,35,36,37,38,39,40,41,42,43,44,45,46,47],\"colorbar\":{\"title\":{\"text\":\"Trial\"},\"x\":1.0,\"xpad\":40},\"colorscale\":[[0.0,\"rgb(247,251,255)\"],[0.125,\"rgb(222,235,247)\"],[0.25,\"rgb(198,219,239)\"],[0.375,\"rgb(158,202,225)\"],[0.5,\"rgb(107,174,214)\"],[0.625,\"rgb(66,146,198)\"],[0.75,\"rgb(33,113,181)\"],[0.875,\"rgb(8,81,156)\"],[1.0,\"rgb(8,48,107)\"]],\"line\":{\"color\":\"Grey\",\"width\":0.5},\"showscale\":false},\"mode\":\"markers\",\"name\":\"Feasible Trial\",\"showlegend\":false,\"x\":[300,250,150,350,50,300,150,50,400,150,200,400,100,200,400,150,350,150,400,250,350,50,100,250,150,50,300,100,300,100,200,350,350,100,250,200,50,350,400,250,300,200,100,400,300,200,50,250],\"y\":[0.7690377293181031,0.7541017653167186,0.7652821045344409,0.770889581169955,0.7671685704395985,0.7690377293181031,0.7652821045344409,0.7671685704395985,0.7522152994115612,0.7633956386292835,0.7652474904811353,0.7690377293181031,0.7615957078573901,0.7708722741433023,0.7690377293181031,0.750380754586362,0.770889581169955,0.76711664935964,0.7652647975077882,0.7690204222914503,0.7690204222914503,0.7634129456559362,0.7615957078573901,0.7652994115610938,0.7652821045344409,0.7522499134648667,0.7596746278989268,0.7615957078573901,0.7578054690204222,0.7597092419522324,0.7708722741433023,0.7578227760470752,0.770889581169955,0.7541190723433715,0.7596919349255797,0.7708722741433023,0.7690204222914503,0.7540844582900658,0.7690204222914503,0.7690204222914503,0.7652821045344409,0.7652994115610937,0.7708549671166494,0.7690377293181031,0.7690377293181031,0.7541017653167186,0.7597265489788854,0.7690204222914503],\"type\":\"scatter\",\"xaxis\":\"x2\",\"yaxis\":\"y2\"}],                        {\"template\":{\"data\":{\"histogram2dcontour\":[{\"type\":\"histogram2dcontour\",\"colorbar\":{\"outlinewidth\":0,\"ticks\":\"\"},\"colorscale\":[[0.0,\"#0d0887\"],[0.1111111111111111,\"#46039f\"],[0.2222222222222222,\"#7201a8\"],[0.3333333333333333,\"#9c179e\"],[0.4444444444444444,\"#bd3786\"],[0.5555555555555556,\"#d8576b\"],[0.6666666666666666,\"#ed7953\"],[0.7777777777777778,\"#fb9f3a\"],[0.8888888888888888,\"#fdca26\"],[1.0,\"#f0f921\"]]}],\"choropleth\":[{\"type\":\"choropleth\",\"colorbar\":{\"outlinewidth\":0,\"ticks\":\"\"}}],\"histogram2d\":[{\"type\":\"histogram2d\",\"colorbar\":{\"outlinewidth\":0,\"ticks\":\"\"},\"colorscale\":[[0.0,\"#0d0887\"],[0.1111111111111111,\"#46039f\"],[0.2222222222222222,\"#7201a8\"],[0.3333333333333333,\"#9c179e\"],[0.4444444444444444,\"#bd3786\"],[0.5555555555555556,\"#d8576b\"],[0.6666666666666666,\"#ed7953\"],[0.7777777777777778,\"#fb9f3a\"],[0.8888888888888888,\"#fdca26\"],[1.0,\"#f0f921\"]]}],\"heatmap\":[{\"type\":\"heatmap\",\"colorbar\":{\"outlinewidth\":0,\"ticks\":\"\"},\"colorscale\":[[0.0,\"#0d0887\"],[0.1111111111111111,\"#46039f\"],[0.2222222222222222,\"#7201a8\"],[0.3333333333333333,\"#9c179e\"],[0.4444444444444444,\"#bd3786\"],[0.5555555555555556,\"#d8576b\"],[0.6666666666666666,\"#ed7953\"],[0.7777777777777778,\"#fb9f3a\"],[0.8888888888888888,\"#fdca26\"],[1.0,\"#f0f921\"]]}],\"heatmapgl\":[{\"type\":\"heatmapgl\",\"colorbar\":{\"outlinewidth\":0,\"ticks\":\"\"},\"colorscale\":[[0.0,\"#0d0887\"],[0.1111111111111111,\"#46039f\"],[0.2222222222222222,\"#7201a8\"],[0.3333333333333333,\"#9c179e\"],[0.4444444444444444,\"#bd3786\"],[0.5555555555555556,\"#d8576b\"],[0.6666666666666666,\"#ed7953\"],[0.7777777777777778,\"#fb9f3a\"],[0.8888888888888888,\"#fdca26\"],[1.0,\"#f0f921\"]]}],\"contourcarpet\":[{\"type\":\"contourcarpet\",\"colorbar\":{\"outlinewidth\":0,\"ticks\":\"\"}}],\"contour\":[{\"type\":\"contour\",\"colorbar\":{\"outlinewidth\":0,\"ticks\":\"\"},\"colorscale\":[[0.0,\"#0d0887\"],[0.1111111111111111,\"#46039f\"],[0.2222222222222222,\"#7201a8\"],[0.3333333333333333,\"#9c179e\"],[0.4444444444444444,\"#bd3786\"],[0.5555555555555556,\"#d8576b\"],[0.6666666666666666,\"#ed7953\"],[0.7777777777777778,\"#fb9f3a\"],[0.8888888888888888,\"#fdca26\"],[1.0,\"#f0f921\"]]}],\"surface\":[{\"type\":\"surface\",\"colorbar\":{\"outlinewidth\":0,\"ticks\":\"\"},\"colorscale\":[[0.0,\"#0d0887\"],[0.1111111111111111,\"#46039f\"],[0.2222222222222222,\"#7201a8\"],[0.3333333333333333,\"#9c179e\"],[0.4444444444444444,\"#bd3786\"],[0.5555555555555556,\"#d8576b\"],[0.6666666666666666,\"#ed7953\"],[0.7777777777777778,\"#fb9f3a\"],[0.8888888888888888,\"#fdca26\"],[1.0,\"#f0f921\"]]}],\"mesh3d\":[{\"type\":\"mesh3d\",\"colorbar\":{\"outlinewidth\":0,\"ticks\":\"\"}}],\"scatter\":[{\"fillpattern\":{\"fillmode\":\"overlay\",\"size\":10,\"solidity\":0.2},\"type\":\"scatter\"}],\"parcoords\":[{\"type\":\"parcoords\",\"line\":{\"colorbar\":{\"outlinewidth\":0,\"ticks\":\"\"}}}],\"scatterpolargl\":[{\"type\":\"scatterpolargl\",\"marker\":{\"colorbar\":{\"outlinewidth\":0,\"ticks\":\"\"}}}],\"bar\":[{\"error_x\":{\"color\":\"#2a3f5f\"},\"error_y\":{\"color\":\"#2a3f5f\"},\"marker\":{\"line\":{\"color\":\"#E5ECF6\",\"width\":0.5},\"pattern\":{\"fillmode\":\"overlay\",\"size\":10,\"solidity\":0.2}},\"type\":\"bar\"}],\"scattergeo\":[{\"type\":\"scattergeo\",\"marker\":{\"colorbar\":{\"outlinewidth\":0,\"ticks\":\"\"}}}],\"scatterpolar\":[{\"type\":\"scatterpolar\",\"marker\":{\"colorbar\":{\"outlinewidth\":0,\"ticks\":\"\"}}}],\"histogram\":[{\"marker\":{\"pattern\":{\"fillmode\":\"overlay\",\"size\":10,\"solidity\":0.2}},\"type\":\"histogram\"}],\"scattergl\":[{\"type\":\"scattergl\",\"marker\":{\"colorbar\":{\"outlinewidth\":0,\"ticks\":\"\"}}}],\"scatter3d\":[{\"type\":\"scatter3d\",\"line\":{\"colorbar\":{\"outlinewidth\":0,\"ticks\":\"\"}},\"marker\":{\"colorbar\":{\"outlinewidth\":0,\"ticks\":\"\"}}}],\"scattermapbox\":[{\"type\":\"scattermapbox\",\"marker\":{\"colorbar\":{\"outlinewidth\":0,\"ticks\":\"\"}}}],\"scatterternary\":[{\"type\":\"scatterternary\",\"marker\":{\"colorbar\":{\"outlinewidth\":0,\"ticks\":\"\"}}}],\"scattercarpet\":[{\"type\":\"scattercarpet\",\"marker\":{\"colorbar\":{\"outlinewidth\":0,\"ticks\":\"\"}}}],\"carpet\":[{\"aaxis\":{\"endlinecolor\":\"#2a3f5f\",\"gridcolor\":\"white\",\"linecolor\":\"white\",\"minorgridcolor\":\"white\",\"startlinecolor\":\"#2a3f5f\"},\"baxis\":{\"endlinecolor\":\"#2a3f5f\",\"gridcolor\":\"white\",\"linecolor\":\"white\",\"minorgridcolor\":\"white\",\"startlinecolor\":\"#2a3f5f\"},\"type\":\"carpet\"}],\"table\":[{\"cells\":{\"fill\":{\"color\":\"#EBF0F8\"},\"line\":{\"color\":\"white\"}},\"header\":{\"fill\":{\"color\":\"#C8D4E3\"},\"line\":{\"color\":\"white\"}},\"type\":\"table\"}],\"barpolar\":[{\"marker\":{\"line\":{\"color\":\"#E5ECF6\",\"width\":0.5},\"pattern\":{\"fillmode\":\"overlay\",\"size\":10,\"solidity\":0.2}},\"type\":\"barpolar\"}],\"pie\":[{\"automargin\":true,\"type\":\"pie\"}]},\"layout\":{\"autotypenumbers\":\"strict\",\"colorway\":[\"#636efa\",\"#EF553B\",\"#00cc96\",\"#ab63fa\",\"#FFA15A\",\"#19d3f3\",\"#FF6692\",\"#B6E880\",\"#FF97FF\",\"#FECB52\"],\"font\":{\"color\":\"#2a3f5f\"},\"hovermode\":\"closest\",\"hoverlabel\":{\"align\":\"left\"},\"paper_bgcolor\":\"white\",\"plot_bgcolor\":\"#E5ECF6\",\"polar\":{\"bgcolor\":\"#E5ECF6\",\"angularaxis\":{\"gridcolor\":\"white\",\"linecolor\":\"white\",\"ticks\":\"\"},\"radialaxis\":{\"gridcolor\":\"white\",\"linecolor\":\"white\",\"ticks\":\"\"}},\"ternary\":{\"bgcolor\":\"#E5ECF6\",\"aaxis\":{\"gridcolor\":\"white\",\"linecolor\":\"white\",\"ticks\":\"\"},\"baxis\":{\"gridcolor\":\"white\",\"linecolor\":\"white\",\"ticks\":\"\"},\"caxis\":{\"gridcolor\":\"white\",\"linecolor\":\"white\",\"ticks\":\"\"}},\"coloraxis\":{\"colorbar\":{\"outlinewidth\":0,\"ticks\":\"\"}},\"colorscale\":{\"sequential\":[[0.0,\"#0d0887\"],[0.1111111111111111,\"#46039f\"],[0.2222222222222222,\"#7201a8\"],[0.3333333333333333,\"#9c179e\"],[0.4444444444444444,\"#bd3786\"],[0.5555555555555556,\"#d8576b\"],[0.6666666666666666,\"#ed7953\"],[0.7777777777777778,\"#fb9f3a\"],[0.8888888888888888,\"#fdca26\"],[1.0,\"#f0f921\"]],\"sequentialminus\":[[0.0,\"#0d0887\"],[0.1111111111111111,\"#46039f\"],[0.2222222222222222,\"#7201a8\"],[0.3333333333333333,\"#9c179e\"],[0.4444444444444444,\"#bd3786\"],[0.5555555555555556,\"#d8576b\"],[0.6666666666666666,\"#ed7953\"],[0.7777777777777778,\"#fb9f3a\"],[0.8888888888888888,\"#fdca26\"],[1.0,\"#f0f921\"]],\"diverging\":[[0,\"#8e0152\"],[0.1,\"#c51b7d\"],[0.2,\"#de77ae\"],[0.3,\"#f1b6da\"],[0.4,\"#fde0ef\"],[0.5,\"#f7f7f7\"],[0.6,\"#e6f5d0\"],[0.7,\"#b8e186\"],[0.8,\"#7fbc41\"],[0.9,\"#4d9221\"],[1,\"#276419\"]]},\"xaxis\":{\"gridcolor\":\"white\",\"linecolor\":\"white\",\"ticks\":\"\",\"title\":{\"standoff\":15},\"zerolinecolor\":\"white\",\"automargin\":true,\"zerolinewidth\":2},\"yaxis\":{\"gridcolor\":\"white\",\"linecolor\":\"white\",\"ticks\":\"\",\"title\":{\"standoff\":15},\"zerolinecolor\":\"white\",\"automargin\":true,\"zerolinewidth\":2},\"scene\":{\"xaxis\":{\"backgroundcolor\":\"#E5ECF6\",\"gridcolor\":\"white\",\"linecolor\":\"white\",\"showbackground\":true,\"ticks\":\"\",\"zerolinecolor\":\"white\",\"gridwidth\":2},\"yaxis\":{\"backgroundcolor\":\"#E5ECF6\",\"gridcolor\":\"white\",\"linecolor\":\"white\",\"showbackground\":true,\"ticks\":\"\",\"zerolinecolor\":\"white\",\"gridwidth\":2},\"zaxis\":{\"backgroundcolor\":\"#E5ECF6\",\"gridcolor\":\"white\",\"linecolor\":\"white\",\"showbackground\":true,\"ticks\":\"\",\"zerolinecolor\":\"white\",\"gridwidth\":2}},\"shapedefaults\":{\"line\":{\"color\":\"#2a3f5f\"}},\"annotationdefaults\":{\"arrowcolor\":\"#2a3f5f\",\"arrowhead\":0,\"arrowwidth\":1},\"geo\":{\"bgcolor\":\"white\",\"landcolor\":\"#E5ECF6\",\"subunitcolor\":\"white\",\"showland\":true,\"showlakes\":true,\"lakecolor\":\"white\"},\"title\":{\"x\":0.05},\"mapbox\":{\"style\":\"light\"}}},\"xaxis\":{\"anchor\":\"y\",\"domain\":[0.0,0.45],\"title\":{\"text\":\"max_depth\"}},\"yaxis\":{\"anchor\":\"x\",\"domain\":[0.0,1.0],\"title\":{\"text\":\"Objective Value\"}},\"xaxis2\":{\"anchor\":\"y2\",\"domain\":[0.55,1.0],\"title\":{\"text\":\"n_estimators\"}},\"yaxis2\":{\"anchor\":\"x2\",\"domain\":[0.0,1.0],\"matches\":\"y\",\"showticklabels\":false},\"title\":{\"text\":\"Slice Plot\"}},                        {\"responsive\": true}                    ).then(function(){\n",
              "                            \n",
              "var gd = document.getElementById('d87ed3b0-bd8d-45e3-8ba3-334ac6f17f78');\n",
              "var x = new MutationObserver(function (mutations, observer) {{\n",
              "        var display = window.getComputedStyle(gd).display;\n",
              "        if (!display || display === 'none') {{\n",
              "            console.log([gd, 'removed!']);\n",
              "            Plotly.purge(gd);\n",
              "            observer.disconnect();\n",
              "        }}\n",
              "}});\n",
              "\n",
              "// Listen for the removal of the full notebook cells\n",
              "var notebookContainer = gd.closest('#notebook-container');\n",
              "if (notebookContainer) {{\n",
              "    x.observe(notebookContainer, {childList: true});\n",
              "}}\n",
              "\n",
              "// Listen for the clearing of the current output cell\n",
              "var outputEl = gd.closest('.output');\n",
              "if (outputEl) {{\n",
              "    x.observe(outputEl, {childList: true});\n",
              "}}\n",
              "\n",
              "                        })                };                            </script>        </div>\n",
              "</body>\n",
              "</html>"
            ]
          },
          "metadata": {}
        },
        {
          "output_type": "display_data",
          "data": {
            "text/plain": [
              "<Figure size 640x480 with 0 Axes>"
            ]
          },
          "metadata": {}
        }
      ]
    },
    {
      "cell_type": "markdown",
      "source": [
        "# TPE Plots"
      ],
      "metadata": {
        "id": "lF_eLE-gE0Rd"
      }
    },
    {
      "cell_type": "code",
      "source": [
        "# prompt: use all thse plots and show in subplots\n",
        "\n",
        "import matplotlib.pyplot as plt\n",
        "\n",
        "\n",
        "plot_optimization_history(study).show()\n",
        "plot_parallel_coordinate(study).show()\n",
        "plot_slice(study).show()\n",
        "\n",
        "plt.tight_layout()\n",
        "plt.show()\n"
      ],
      "metadata": {
        "colab": {
          "base_uri": "https://localhost:8080/",
          "height": 1000
        },
        "id": "huQkbzrUDJOy",
        "outputId": "9b8ee762-d3bd-4548-def9-a7ce9578b5c4"
      },
      "execution_count": 58,
      "outputs": [
        {
          "output_type": "display_data",
          "data": {
            "text/html": [
              "<html>\n",
              "<head><meta charset=\"utf-8\" /></head>\n",
              "<body>\n",
              "    <div>            <script src=\"https://cdnjs.cloudflare.com/ajax/libs/mathjax/2.7.5/MathJax.js?config=TeX-AMS-MML_SVG\"></script><script type=\"text/javascript\">if (window.MathJax && window.MathJax.Hub && window.MathJax.Hub.Config) {window.MathJax.Hub.Config({SVG: {font: \"STIX-Web\"}});}</script>                <script type=\"text/javascript\">window.PlotlyConfig = {MathJaxConfig: 'local'};</script>\n",
              "        <script charset=\"utf-8\" src=\"https://cdn.plot.ly/plotly-2.35.2.min.js\"></script>                <div id=\"7aee15f1-dfca-485c-8bf1-81bbda40b3ac\" class=\"plotly-graph-div\" style=\"height:525px; width:100%;\"></div>            <script type=\"text/javascript\">                                    window.PLOTLYENV=window.PLOTLYENV || {};                                    if (document.getElementById(\"7aee15f1-dfca-485c-8bf1-81bbda40b3ac\")) {                    Plotly.newPlot(                        \"7aee15f1-dfca-485c-8bf1-81bbda40b3ac\",                        [{\"mode\":\"markers\",\"name\":\"Objective Value\",\"x\":[0,1,2,3,4,5,6,7,8,9,10,11,12,13,14,15,16,17,18,19,20,21,22,23,24,25,26,27,28,29,30,31,32,33,34,35,36,37,38,39,40,41,42,43,44,45,46,47,48,49],\"y\":[0.7652994115610937,0.7671339563862929,0.7634129456559363,0.7634302526825891,0.7634302526825891,0.7596919349255797,0.7578573901003807,0.7690204222914503,0.7671512634129456,0.7541017653167186,0.7281066112841813,0.7596746278989269,0.7634302526825891,0.765282104534441,0.7652474904811353,0.7541363793700241,0.7633956386292835,0.7559882312218761,0.7652647975077882,0.7708376600899965,0.7522672204915196,0.7670993423329872,0.7652647975077882,0.7466078227760471,0.7615437867774316,0.7596573208722741,0.7652474904811353,0.7541017653167186,0.7559709241952233,0.7578227760470752,0.7671685704395984,0.7671685704395984,0.7653167185877466,0.7671685704395984,0.7671685704395985,0.7671512634129456,0.7596919349255798,0.7689858082381447,0.7689685012114919,0.76711664935964,0.7577881619937694,0.7615264797507788,0.7690031152647976,0.7708722741433023,0.7727414330218069,0.7671512634129456,0.7690377293181031,0.7690377293181031,0.7615784008307372,0.7652474904811353],\"type\":\"scatter\"},{\"mode\":\"lines\",\"name\":\"Best Value\",\"x\":[0,1,2,3,4,5,6,7,8,9,10,11,12,13,14,15,16,17,18,19,20,21,22,23,24,25,26,27,28,29,30,31,32,33,34,35,36,37,38,39,40,41,42,43,44,45,46,47,48,49],\"y\":[0.7652994115610937,0.7671339563862929,0.7671339563862929,0.7671339563862929,0.7671339563862929,0.7671339563862929,0.7671339563862929,0.7690204222914503,0.7690204222914503,0.7690204222914503,0.7690204222914503,0.7690204222914503,0.7690204222914503,0.7690204222914503,0.7690204222914503,0.7690204222914503,0.7690204222914503,0.7690204222914503,0.7690204222914503,0.7708376600899965,0.7708376600899965,0.7708376600899965,0.7708376600899965,0.7708376600899965,0.7708376600899965,0.7708376600899965,0.7708376600899965,0.7708376600899965,0.7708376600899965,0.7708376600899965,0.7708376600899965,0.7708376600899965,0.7708376600899965,0.7708376600899965,0.7708376600899965,0.7708376600899965,0.7708376600899965,0.7708376600899965,0.7708376600899965,0.7708376600899965,0.7708376600899965,0.7708376600899965,0.7708376600899965,0.7708722741433023,0.7727414330218069,0.7727414330218069,0.7727414330218069,0.7727414330218069,0.7727414330218069,0.7727414330218069],\"type\":\"scatter\"},{\"marker\":{\"color\":\"#cccccc\"},\"mode\":\"markers\",\"name\":\"Infeasible Trial\",\"showlegend\":false,\"x\":[],\"y\":[],\"type\":\"scatter\"}],                        {\"title\":{\"text\":\"Optimization History Plot\"},\"xaxis\":{\"title\":{\"text\":\"Trial\"}},\"yaxis\":{\"title\":{\"text\":\"Objective Value\"}},\"template\":{\"data\":{\"histogram2dcontour\":[{\"type\":\"histogram2dcontour\",\"colorbar\":{\"outlinewidth\":0,\"ticks\":\"\"},\"colorscale\":[[0.0,\"#0d0887\"],[0.1111111111111111,\"#46039f\"],[0.2222222222222222,\"#7201a8\"],[0.3333333333333333,\"#9c179e\"],[0.4444444444444444,\"#bd3786\"],[0.5555555555555556,\"#d8576b\"],[0.6666666666666666,\"#ed7953\"],[0.7777777777777778,\"#fb9f3a\"],[0.8888888888888888,\"#fdca26\"],[1.0,\"#f0f921\"]]}],\"choropleth\":[{\"type\":\"choropleth\",\"colorbar\":{\"outlinewidth\":0,\"ticks\":\"\"}}],\"histogram2d\":[{\"type\":\"histogram2d\",\"colorbar\":{\"outlinewidth\":0,\"ticks\":\"\"},\"colorscale\":[[0.0,\"#0d0887\"],[0.1111111111111111,\"#46039f\"],[0.2222222222222222,\"#7201a8\"],[0.3333333333333333,\"#9c179e\"],[0.4444444444444444,\"#bd3786\"],[0.5555555555555556,\"#d8576b\"],[0.6666666666666666,\"#ed7953\"],[0.7777777777777778,\"#fb9f3a\"],[0.8888888888888888,\"#fdca26\"],[1.0,\"#f0f921\"]]}],\"heatmap\":[{\"type\":\"heatmap\",\"colorbar\":{\"outlinewidth\":0,\"ticks\":\"\"},\"colorscale\":[[0.0,\"#0d0887\"],[0.1111111111111111,\"#46039f\"],[0.2222222222222222,\"#7201a8\"],[0.3333333333333333,\"#9c179e\"],[0.4444444444444444,\"#bd3786\"],[0.5555555555555556,\"#d8576b\"],[0.6666666666666666,\"#ed7953\"],[0.7777777777777778,\"#fb9f3a\"],[0.8888888888888888,\"#fdca26\"],[1.0,\"#f0f921\"]]}],\"heatmapgl\":[{\"type\":\"heatmapgl\",\"colorbar\":{\"outlinewidth\":0,\"ticks\":\"\"},\"colorscale\":[[0.0,\"#0d0887\"],[0.1111111111111111,\"#46039f\"],[0.2222222222222222,\"#7201a8\"],[0.3333333333333333,\"#9c179e\"],[0.4444444444444444,\"#bd3786\"],[0.5555555555555556,\"#d8576b\"],[0.6666666666666666,\"#ed7953\"],[0.7777777777777778,\"#fb9f3a\"],[0.8888888888888888,\"#fdca26\"],[1.0,\"#f0f921\"]]}],\"contourcarpet\":[{\"type\":\"contourcarpet\",\"colorbar\":{\"outlinewidth\":0,\"ticks\":\"\"}}],\"contour\":[{\"type\":\"contour\",\"colorbar\":{\"outlinewidth\":0,\"ticks\":\"\"},\"colorscale\":[[0.0,\"#0d0887\"],[0.1111111111111111,\"#46039f\"],[0.2222222222222222,\"#7201a8\"],[0.3333333333333333,\"#9c179e\"],[0.4444444444444444,\"#bd3786\"],[0.5555555555555556,\"#d8576b\"],[0.6666666666666666,\"#ed7953\"],[0.7777777777777778,\"#fb9f3a\"],[0.8888888888888888,\"#fdca26\"],[1.0,\"#f0f921\"]]}],\"surface\":[{\"type\":\"surface\",\"colorbar\":{\"outlinewidth\":0,\"ticks\":\"\"},\"colorscale\":[[0.0,\"#0d0887\"],[0.1111111111111111,\"#46039f\"],[0.2222222222222222,\"#7201a8\"],[0.3333333333333333,\"#9c179e\"],[0.4444444444444444,\"#bd3786\"],[0.5555555555555556,\"#d8576b\"],[0.6666666666666666,\"#ed7953\"],[0.7777777777777778,\"#fb9f3a\"],[0.8888888888888888,\"#fdca26\"],[1.0,\"#f0f921\"]]}],\"mesh3d\":[{\"type\":\"mesh3d\",\"colorbar\":{\"outlinewidth\":0,\"ticks\":\"\"}}],\"scatter\":[{\"fillpattern\":{\"fillmode\":\"overlay\",\"size\":10,\"solidity\":0.2},\"type\":\"scatter\"}],\"parcoords\":[{\"type\":\"parcoords\",\"line\":{\"colorbar\":{\"outlinewidth\":0,\"ticks\":\"\"}}}],\"scatterpolargl\":[{\"type\":\"scatterpolargl\",\"marker\":{\"colorbar\":{\"outlinewidth\":0,\"ticks\":\"\"}}}],\"bar\":[{\"error_x\":{\"color\":\"#2a3f5f\"},\"error_y\":{\"color\":\"#2a3f5f\"},\"marker\":{\"line\":{\"color\":\"#E5ECF6\",\"width\":0.5},\"pattern\":{\"fillmode\":\"overlay\",\"size\":10,\"solidity\":0.2}},\"type\":\"bar\"}],\"scattergeo\":[{\"type\":\"scattergeo\",\"marker\":{\"colorbar\":{\"outlinewidth\":0,\"ticks\":\"\"}}}],\"scatterpolar\":[{\"type\":\"scatterpolar\",\"marker\":{\"colorbar\":{\"outlinewidth\":0,\"ticks\":\"\"}}}],\"histogram\":[{\"marker\":{\"pattern\":{\"fillmode\":\"overlay\",\"size\":10,\"solidity\":0.2}},\"type\":\"histogram\"}],\"scattergl\":[{\"type\":\"scattergl\",\"marker\":{\"colorbar\":{\"outlinewidth\":0,\"ticks\":\"\"}}}],\"scatter3d\":[{\"type\":\"scatter3d\",\"line\":{\"colorbar\":{\"outlinewidth\":0,\"ticks\":\"\"}},\"marker\":{\"colorbar\":{\"outlinewidth\":0,\"ticks\":\"\"}}}],\"scattermapbox\":[{\"type\":\"scattermapbox\",\"marker\":{\"colorbar\":{\"outlinewidth\":0,\"ticks\":\"\"}}}],\"scatterternary\":[{\"type\":\"scatterternary\",\"marker\":{\"colorbar\":{\"outlinewidth\":0,\"ticks\":\"\"}}}],\"scattercarpet\":[{\"type\":\"scattercarpet\",\"marker\":{\"colorbar\":{\"outlinewidth\":0,\"ticks\":\"\"}}}],\"carpet\":[{\"aaxis\":{\"endlinecolor\":\"#2a3f5f\",\"gridcolor\":\"white\",\"linecolor\":\"white\",\"minorgridcolor\":\"white\",\"startlinecolor\":\"#2a3f5f\"},\"baxis\":{\"endlinecolor\":\"#2a3f5f\",\"gridcolor\":\"white\",\"linecolor\":\"white\",\"minorgridcolor\":\"white\",\"startlinecolor\":\"#2a3f5f\"},\"type\":\"carpet\"}],\"table\":[{\"cells\":{\"fill\":{\"color\":\"#EBF0F8\"},\"line\":{\"color\":\"white\"}},\"header\":{\"fill\":{\"color\":\"#C8D4E3\"},\"line\":{\"color\":\"white\"}},\"type\":\"table\"}],\"barpolar\":[{\"marker\":{\"line\":{\"color\":\"#E5ECF6\",\"width\":0.5},\"pattern\":{\"fillmode\":\"overlay\",\"size\":10,\"solidity\":0.2}},\"type\":\"barpolar\"}],\"pie\":[{\"automargin\":true,\"type\":\"pie\"}]},\"layout\":{\"autotypenumbers\":\"strict\",\"colorway\":[\"#636efa\",\"#EF553B\",\"#00cc96\",\"#ab63fa\",\"#FFA15A\",\"#19d3f3\",\"#FF6692\",\"#B6E880\",\"#FF97FF\",\"#FECB52\"],\"font\":{\"color\":\"#2a3f5f\"},\"hovermode\":\"closest\",\"hoverlabel\":{\"align\":\"left\"},\"paper_bgcolor\":\"white\",\"plot_bgcolor\":\"#E5ECF6\",\"polar\":{\"bgcolor\":\"#E5ECF6\",\"angularaxis\":{\"gridcolor\":\"white\",\"linecolor\":\"white\",\"ticks\":\"\"},\"radialaxis\":{\"gridcolor\":\"white\",\"linecolor\":\"white\",\"ticks\":\"\"}},\"ternary\":{\"bgcolor\":\"#E5ECF6\",\"aaxis\":{\"gridcolor\":\"white\",\"linecolor\":\"white\",\"ticks\":\"\"},\"baxis\":{\"gridcolor\":\"white\",\"linecolor\":\"white\",\"ticks\":\"\"},\"caxis\":{\"gridcolor\":\"white\",\"linecolor\":\"white\",\"ticks\":\"\"}},\"coloraxis\":{\"colorbar\":{\"outlinewidth\":0,\"ticks\":\"\"}},\"colorscale\":{\"sequential\":[[0.0,\"#0d0887\"],[0.1111111111111111,\"#46039f\"],[0.2222222222222222,\"#7201a8\"],[0.3333333333333333,\"#9c179e\"],[0.4444444444444444,\"#bd3786\"],[0.5555555555555556,\"#d8576b\"],[0.6666666666666666,\"#ed7953\"],[0.7777777777777778,\"#fb9f3a\"],[0.8888888888888888,\"#fdca26\"],[1.0,\"#f0f921\"]],\"sequentialminus\":[[0.0,\"#0d0887\"],[0.1111111111111111,\"#46039f\"],[0.2222222222222222,\"#7201a8\"],[0.3333333333333333,\"#9c179e\"],[0.4444444444444444,\"#bd3786\"],[0.5555555555555556,\"#d8576b\"],[0.6666666666666666,\"#ed7953\"],[0.7777777777777778,\"#fb9f3a\"],[0.8888888888888888,\"#fdca26\"],[1.0,\"#f0f921\"]],\"diverging\":[[0,\"#8e0152\"],[0.1,\"#c51b7d\"],[0.2,\"#de77ae\"],[0.3,\"#f1b6da\"],[0.4,\"#fde0ef\"],[0.5,\"#f7f7f7\"],[0.6,\"#e6f5d0\"],[0.7,\"#b8e186\"],[0.8,\"#7fbc41\"],[0.9,\"#4d9221\"],[1,\"#276419\"]]},\"xaxis\":{\"gridcolor\":\"white\",\"linecolor\":\"white\",\"ticks\":\"\",\"title\":{\"standoff\":15},\"zerolinecolor\":\"white\",\"automargin\":true,\"zerolinewidth\":2},\"yaxis\":{\"gridcolor\":\"white\",\"linecolor\":\"white\",\"ticks\":\"\",\"title\":{\"standoff\":15},\"zerolinecolor\":\"white\",\"automargin\":true,\"zerolinewidth\":2},\"scene\":{\"xaxis\":{\"backgroundcolor\":\"#E5ECF6\",\"gridcolor\":\"white\",\"linecolor\":\"white\",\"showbackground\":true,\"ticks\":\"\",\"zerolinecolor\":\"white\",\"gridwidth\":2},\"yaxis\":{\"backgroundcolor\":\"#E5ECF6\",\"gridcolor\":\"white\",\"linecolor\":\"white\",\"showbackground\":true,\"ticks\":\"\",\"zerolinecolor\":\"white\",\"gridwidth\":2},\"zaxis\":{\"backgroundcolor\":\"#E5ECF6\",\"gridcolor\":\"white\",\"linecolor\":\"white\",\"showbackground\":true,\"ticks\":\"\",\"zerolinecolor\":\"white\",\"gridwidth\":2}},\"shapedefaults\":{\"line\":{\"color\":\"#2a3f5f\"}},\"annotationdefaults\":{\"arrowcolor\":\"#2a3f5f\",\"arrowhead\":0,\"arrowwidth\":1},\"geo\":{\"bgcolor\":\"white\",\"landcolor\":\"#E5ECF6\",\"subunitcolor\":\"white\",\"showland\":true,\"showlakes\":true,\"lakecolor\":\"white\"},\"title\":{\"x\":0.05},\"mapbox\":{\"style\":\"light\"}}}},                        {\"responsive\": true}                    ).then(function(){\n",
              "                            \n",
              "var gd = document.getElementById('7aee15f1-dfca-485c-8bf1-81bbda40b3ac');\n",
              "var x = new MutationObserver(function (mutations, observer) {{\n",
              "        var display = window.getComputedStyle(gd).display;\n",
              "        if (!display || display === 'none') {{\n",
              "            console.log([gd, 'removed!']);\n",
              "            Plotly.purge(gd);\n",
              "            observer.disconnect();\n",
              "        }}\n",
              "}});\n",
              "\n",
              "// Listen for the removal of the full notebook cells\n",
              "var notebookContainer = gd.closest('#notebook-container');\n",
              "if (notebookContainer) {{\n",
              "    x.observe(notebookContainer, {childList: true});\n",
              "}}\n",
              "\n",
              "// Listen for the clearing of the current output cell\n",
              "var outputEl = gd.closest('.output');\n",
              "if (outputEl) {{\n",
              "    x.observe(outputEl, {childList: true});\n",
              "}}\n",
              "\n",
              "                        })                };                            </script>        </div>\n",
              "</body>\n",
              "</html>"
            ]
          },
          "metadata": {}
        },
        {
          "output_type": "display_data",
          "data": {
            "text/html": [
              "<html>\n",
              "<head><meta charset=\"utf-8\" /></head>\n",
              "<body>\n",
              "    <div>            <script src=\"https://cdnjs.cloudflare.com/ajax/libs/mathjax/2.7.5/MathJax.js?config=TeX-AMS-MML_SVG\"></script><script type=\"text/javascript\">if (window.MathJax && window.MathJax.Hub && window.MathJax.Hub.Config) {window.MathJax.Hub.Config({SVG: {font: \"STIX-Web\"}});}</script>                <script type=\"text/javascript\">window.PlotlyConfig = {MathJaxConfig: 'local'};</script>\n",
              "        <script charset=\"utf-8\" src=\"https://cdn.plot.ly/plotly-2.35.2.min.js\"></script>                <div id=\"08548663-2652-4201-b769-59e09f3b1dbd\" class=\"plotly-graph-div\" style=\"height:525px; width:100%;\"></div>            <script type=\"text/javascript\">                                    window.PLOTLYENV=window.PLOTLYENV || {};                                    if (document.getElementById(\"08548663-2652-4201-b769-59e09f3b1dbd\")) {                    Plotly.newPlot(                        \"08548663-2652-4201-b769-59e09f3b1dbd\",                        [{\"dimensions\":[{\"label\":\"Objective Value\",\"range\":[0.7281066112841813,0.7727414330218069],\"values\":[0.7652994115610937,0.7671339563862929,0.7634129456559363,0.7634302526825891,0.7634302526825891,0.7596919349255797,0.7578573901003807,0.7690204222914503,0.7671512634129456,0.7541017653167186,0.7281066112841813,0.7596746278989269,0.7634302526825891,0.765282104534441,0.7652474904811353,0.7541363793700241,0.7633956386292835,0.7559882312218761,0.7652647975077882,0.7708376600899965,0.7522672204915196,0.7670993423329872,0.7652647975077882,0.7466078227760471,0.7615437867774316,0.7596573208722741,0.7652474904811353,0.7541017653167186,0.7559709241952233,0.7578227760470752,0.7671685704395984,0.7671685704395984,0.7653167185877466,0.7671685704395984,0.7671685704395985,0.7671512634129456,0.7596919349255798,0.7689858082381447,0.7689685012114919,0.76711664935964,0.7577881619937694,0.7615264797507788,0.7690031152647976,0.7708722741433023,0.7727414330218069,0.7671512634129456,0.7690377293181031,0.7690377293181031,0.7615784008307372,0.7652474904811353]},{\"label\":\"max_depth\",\"range\":[1,20],\"values\":[16,11,6,20,19,5,9,9,15,7,1,13,14,16,10,3,13,17,8,11,4,11,14,12,8,15,10,17,12,9,17,18,18,20,18,19,6,16,15,15,12,18,16,16,16,14,9,9,7,10]},{\"label\":\"n_estimators\",\"range\":[52,200],\"values\":[70,174,147,143,138,65,52,106,71,71,100,96,104,107,84,122,180,86,119,195,200,162,196,57,83,129,159,118,89,70,186,183,184,190,169,166,170,151,152,150,133,151,175,176,174,177,190,191,192,199]}],\"labelangle\":30,\"labelside\":\"bottom\",\"line\":{\"color\":[0.7652994115610937,0.7671339563862929,0.7634129456559363,0.7634302526825891,0.7634302526825891,0.7596919349255797,0.7578573901003807,0.7690204222914503,0.7671512634129456,0.7541017653167186,0.7281066112841813,0.7596746278989269,0.7634302526825891,0.765282104534441,0.7652474904811353,0.7541363793700241,0.7633956386292835,0.7559882312218761,0.7652647975077882,0.7708376600899965,0.7522672204915196,0.7670993423329872,0.7652647975077882,0.7466078227760471,0.7615437867774316,0.7596573208722741,0.7652474904811353,0.7541017653167186,0.7559709241952233,0.7578227760470752,0.7671685704395984,0.7671685704395984,0.7653167185877466,0.7671685704395984,0.7671685704395985,0.7671512634129456,0.7596919349255798,0.7689858082381447,0.7689685012114919,0.76711664935964,0.7577881619937694,0.7615264797507788,0.7690031152647976,0.7708722741433023,0.7727414330218069,0.7671512634129456,0.7690377293181031,0.7690377293181031,0.7615784008307372,0.7652474904811353],\"colorbar\":{\"title\":{\"text\":\"Objective Value\"}},\"colorscale\":[[0.0,\"rgb(247,251,255)\"],[0.125,\"rgb(222,235,247)\"],[0.25,\"rgb(198,219,239)\"],[0.375,\"rgb(158,202,225)\"],[0.5,\"rgb(107,174,214)\"],[0.625,\"rgb(66,146,198)\"],[0.75,\"rgb(33,113,181)\"],[0.875,\"rgb(8,81,156)\"],[1.0,\"rgb(8,48,107)\"]],\"reversescale\":false,\"showscale\":true},\"type\":\"parcoords\"}],                        {\"title\":{\"text\":\"Parallel Coordinate Plot\"},\"template\":{\"data\":{\"histogram2dcontour\":[{\"type\":\"histogram2dcontour\",\"colorbar\":{\"outlinewidth\":0,\"ticks\":\"\"},\"colorscale\":[[0.0,\"#0d0887\"],[0.1111111111111111,\"#46039f\"],[0.2222222222222222,\"#7201a8\"],[0.3333333333333333,\"#9c179e\"],[0.4444444444444444,\"#bd3786\"],[0.5555555555555556,\"#d8576b\"],[0.6666666666666666,\"#ed7953\"],[0.7777777777777778,\"#fb9f3a\"],[0.8888888888888888,\"#fdca26\"],[1.0,\"#f0f921\"]]}],\"choropleth\":[{\"type\":\"choropleth\",\"colorbar\":{\"outlinewidth\":0,\"ticks\":\"\"}}],\"histogram2d\":[{\"type\":\"histogram2d\",\"colorbar\":{\"outlinewidth\":0,\"ticks\":\"\"},\"colorscale\":[[0.0,\"#0d0887\"],[0.1111111111111111,\"#46039f\"],[0.2222222222222222,\"#7201a8\"],[0.3333333333333333,\"#9c179e\"],[0.4444444444444444,\"#bd3786\"],[0.5555555555555556,\"#d8576b\"],[0.6666666666666666,\"#ed7953\"],[0.7777777777777778,\"#fb9f3a\"],[0.8888888888888888,\"#fdca26\"],[1.0,\"#f0f921\"]]}],\"heatmap\":[{\"type\":\"heatmap\",\"colorbar\":{\"outlinewidth\":0,\"ticks\":\"\"},\"colorscale\":[[0.0,\"#0d0887\"],[0.1111111111111111,\"#46039f\"],[0.2222222222222222,\"#7201a8\"],[0.3333333333333333,\"#9c179e\"],[0.4444444444444444,\"#bd3786\"],[0.5555555555555556,\"#d8576b\"],[0.6666666666666666,\"#ed7953\"],[0.7777777777777778,\"#fb9f3a\"],[0.8888888888888888,\"#fdca26\"],[1.0,\"#f0f921\"]]}],\"heatmapgl\":[{\"type\":\"heatmapgl\",\"colorbar\":{\"outlinewidth\":0,\"ticks\":\"\"},\"colorscale\":[[0.0,\"#0d0887\"],[0.1111111111111111,\"#46039f\"],[0.2222222222222222,\"#7201a8\"],[0.3333333333333333,\"#9c179e\"],[0.4444444444444444,\"#bd3786\"],[0.5555555555555556,\"#d8576b\"],[0.6666666666666666,\"#ed7953\"],[0.7777777777777778,\"#fb9f3a\"],[0.8888888888888888,\"#fdca26\"],[1.0,\"#f0f921\"]]}],\"contourcarpet\":[{\"type\":\"contourcarpet\",\"colorbar\":{\"outlinewidth\":0,\"ticks\":\"\"}}],\"contour\":[{\"type\":\"contour\",\"colorbar\":{\"outlinewidth\":0,\"ticks\":\"\"},\"colorscale\":[[0.0,\"#0d0887\"],[0.1111111111111111,\"#46039f\"],[0.2222222222222222,\"#7201a8\"],[0.3333333333333333,\"#9c179e\"],[0.4444444444444444,\"#bd3786\"],[0.5555555555555556,\"#d8576b\"],[0.6666666666666666,\"#ed7953\"],[0.7777777777777778,\"#fb9f3a\"],[0.8888888888888888,\"#fdca26\"],[1.0,\"#f0f921\"]]}],\"surface\":[{\"type\":\"surface\",\"colorbar\":{\"outlinewidth\":0,\"ticks\":\"\"},\"colorscale\":[[0.0,\"#0d0887\"],[0.1111111111111111,\"#46039f\"],[0.2222222222222222,\"#7201a8\"],[0.3333333333333333,\"#9c179e\"],[0.4444444444444444,\"#bd3786\"],[0.5555555555555556,\"#d8576b\"],[0.6666666666666666,\"#ed7953\"],[0.7777777777777778,\"#fb9f3a\"],[0.8888888888888888,\"#fdca26\"],[1.0,\"#f0f921\"]]}],\"mesh3d\":[{\"type\":\"mesh3d\",\"colorbar\":{\"outlinewidth\":0,\"ticks\":\"\"}}],\"scatter\":[{\"fillpattern\":{\"fillmode\":\"overlay\",\"size\":10,\"solidity\":0.2},\"type\":\"scatter\"}],\"parcoords\":[{\"type\":\"parcoords\",\"line\":{\"colorbar\":{\"outlinewidth\":0,\"ticks\":\"\"}}}],\"scatterpolargl\":[{\"type\":\"scatterpolargl\",\"marker\":{\"colorbar\":{\"outlinewidth\":0,\"ticks\":\"\"}}}],\"bar\":[{\"error_x\":{\"color\":\"#2a3f5f\"},\"error_y\":{\"color\":\"#2a3f5f\"},\"marker\":{\"line\":{\"color\":\"#E5ECF6\",\"width\":0.5},\"pattern\":{\"fillmode\":\"overlay\",\"size\":10,\"solidity\":0.2}},\"type\":\"bar\"}],\"scattergeo\":[{\"type\":\"scattergeo\",\"marker\":{\"colorbar\":{\"outlinewidth\":0,\"ticks\":\"\"}}}],\"scatterpolar\":[{\"type\":\"scatterpolar\",\"marker\":{\"colorbar\":{\"outlinewidth\":0,\"ticks\":\"\"}}}],\"histogram\":[{\"marker\":{\"pattern\":{\"fillmode\":\"overlay\",\"size\":10,\"solidity\":0.2}},\"type\":\"histogram\"}],\"scattergl\":[{\"type\":\"scattergl\",\"marker\":{\"colorbar\":{\"outlinewidth\":0,\"ticks\":\"\"}}}],\"scatter3d\":[{\"type\":\"scatter3d\",\"line\":{\"colorbar\":{\"outlinewidth\":0,\"ticks\":\"\"}},\"marker\":{\"colorbar\":{\"outlinewidth\":0,\"ticks\":\"\"}}}],\"scattermapbox\":[{\"type\":\"scattermapbox\",\"marker\":{\"colorbar\":{\"outlinewidth\":0,\"ticks\":\"\"}}}],\"scatterternary\":[{\"type\":\"scatterternary\",\"marker\":{\"colorbar\":{\"outlinewidth\":0,\"ticks\":\"\"}}}],\"scattercarpet\":[{\"type\":\"scattercarpet\",\"marker\":{\"colorbar\":{\"outlinewidth\":0,\"ticks\":\"\"}}}],\"carpet\":[{\"aaxis\":{\"endlinecolor\":\"#2a3f5f\",\"gridcolor\":\"white\",\"linecolor\":\"white\",\"minorgridcolor\":\"white\",\"startlinecolor\":\"#2a3f5f\"},\"baxis\":{\"endlinecolor\":\"#2a3f5f\",\"gridcolor\":\"white\",\"linecolor\":\"white\",\"minorgridcolor\":\"white\",\"startlinecolor\":\"#2a3f5f\"},\"type\":\"carpet\"}],\"table\":[{\"cells\":{\"fill\":{\"color\":\"#EBF0F8\"},\"line\":{\"color\":\"white\"}},\"header\":{\"fill\":{\"color\":\"#C8D4E3\"},\"line\":{\"color\":\"white\"}},\"type\":\"table\"}],\"barpolar\":[{\"marker\":{\"line\":{\"color\":\"#E5ECF6\",\"width\":0.5},\"pattern\":{\"fillmode\":\"overlay\",\"size\":10,\"solidity\":0.2}},\"type\":\"barpolar\"}],\"pie\":[{\"automargin\":true,\"type\":\"pie\"}]},\"layout\":{\"autotypenumbers\":\"strict\",\"colorway\":[\"#636efa\",\"#EF553B\",\"#00cc96\",\"#ab63fa\",\"#FFA15A\",\"#19d3f3\",\"#FF6692\",\"#B6E880\",\"#FF97FF\",\"#FECB52\"],\"font\":{\"color\":\"#2a3f5f\"},\"hovermode\":\"closest\",\"hoverlabel\":{\"align\":\"left\"},\"paper_bgcolor\":\"white\",\"plot_bgcolor\":\"#E5ECF6\",\"polar\":{\"bgcolor\":\"#E5ECF6\",\"angularaxis\":{\"gridcolor\":\"white\",\"linecolor\":\"white\",\"ticks\":\"\"},\"radialaxis\":{\"gridcolor\":\"white\",\"linecolor\":\"white\",\"ticks\":\"\"}},\"ternary\":{\"bgcolor\":\"#E5ECF6\",\"aaxis\":{\"gridcolor\":\"white\",\"linecolor\":\"white\",\"ticks\":\"\"},\"baxis\":{\"gridcolor\":\"white\",\"linecolor\":\"white\",\"ticks\":\"\"},\"caxis\":{\"gridcolor\":\"white\",\"linecolor\":\"white\",\"ticks\":\"\"}},\"coloraxis\":{\"colorbar\":{\"outlinewidth\":0,\"ticks\":\"\"}},\"colorscale\":{\"sequential\":[[0.0,\"#0d0887\"],[0.1111111111111111,\"#46039f\"],[0.2222222222222222,\"#7201a8\"],[0.3333333333333333,\"#9c179e\"],[0.4444444444444444,\"#bd3786\"],[0.5555555555555556,\"#d8576b\"],[0.6666666666666666,\"#ed7953\"],[0.7777777777777778,\"#fb9f3a\"],[0.8888888888888888,\"#fdca26\"],[1.0,\"#f0f921\"]],\"sequentialminus\":[[0.0,\"#0d0887\"],[0.1111111111111111,\"#46039f\"],[0.2222222222222222,\"#7201a8\"],[0.3333333333333333,\"#9c179e\"],[0.4444444444444444,\"#bd3786\"],[0.5555555555555556,\"#d8576b\"],[0.6666666666666666,\"#ed7953\"],[0.7777777777777778,\"#fb9f3a\"],[0.8888888888888888,\"#fdca26\"],[1.0,\"#f0f921\"]],\"diverging\":[[0,\"#8e0152\"],[0.1,\"#c51b7d\"],[0.2,\"#de77ae\"],[0.3,\"#f1b6da\"],[0.4,\"#fde0ef\"],[0.5,\"#f7f7f7\"],[0.6,\"#e6f5d0\"],[0.7,\"#b8e186\"],[0.8,\"#7fbc41\"],[0.9,\"#4d9221\"],[1,\"#276419\"]]},\"xaxis\":{\"gridcolor\":\"white\",\"linecolor\":\"white\",\"ticks\":\"\",\"title\":{\"standoff\":15},\"zerolinecolor\":\"white\",\"automargin\":true,\"zerolinewidth\":2},\"yaxis\":{\"gridcolor\":\"white\",\"linecolor\":\"white\",\"ticks\":\"\",\"title\":{\"standoff\":15},\"zerolinecolor\":\"white\",\"automargin\":true,\"zerolinewidth\":2},\"scene\":{\"xaxis\":{\"backgroundcolor\":\"#E5ECF6\",\"gridcolor\":\"white\",\"linecolor\":\"white\",\"showbackground\":true,\"ticks\":\"\",\"zerolinecolor\":\"white\",\"gridwidth\":2},\"yaxis\":{\"backgroundcolor\":\"#E5ECF6\",\"gridcolor\":\"white\",\"linecolor\":\"white\",\"showbackground\":true,\"ticks\":\"\",\"zerolinecolor\":\"white\",\"gridwidth\":2},\"zaxis\":{\"backgroundcolor\":\"#E5ECF6\",\"gridcolor\":\"white\",\"linecolor\":\"white\",\"showbackground\":true,\"ticks\":\"\",\"zerolinecolor\":\"white\",\"gridwidth\":2}},\"shapedefaults\":{\"line\":{\"color\":\"#2a3f5f\"}},\"annotationdefaults\":{\"arrowcolor\":\"#2a3f5f\",\"arrowhead\":0,\"arrowwidth\":1},\"geo\":{\"bgcolor\":\"white\",\"landcolor\":\"#E5ECF6\",\"subunitcolor\":\"white\",\"showland\":true,\"showlakes\":true,\"lakecolor\":\"white\"},\"title\":{\"x\":0.05},\"mapbox\":{\"style\":\"light\"}}}},                        {\"responsive\": true}                    ).then(function(){\n",
              "                            \n",
              "var gd = document.getElementById('08548663-2652-4201-b769-59e09f3b1dbd');\n",
              "var x = new MutationObserver(function (mutations, observer) {{\n",
              "        var display = window.getComputedStyle(gd).display;\n",
              "        if (!display || display === 'none') {{\n",
              "            console.log([gd, 'removed!']);\n",
              "            Plotly.purge(gd);\n",
              "            observer.disconnect();\n",
              "        }}\n",
              "}});\n",
              "\n",
              "// Listen for the removal of the full notebook cells\n",
              "var notebookContainer = gd.closest('#notebook-container');\n",
              "if (notebookContainer) {{\n",
              "    x.observe(notebookContainer, {childList: true});\n",
              "}}\n",
              "\n",
              "// Listen for the clearing of the current output cell\n",
              "var outputEl = gd.closest('.output');\n",
              "if (outputEl) {{\n",
              "    x.observe(outputEl, {childList: true});\n",
              "}}\n",
              "\n",
              "                        })                };                            </script>        </div>\n",
              "</body>\n",
              "</html>"
            ]
          },
          "metadata": {}
        },
        {
          "output_type": "display_data",
          "data": {
            "text/html": [
              "<html>\n",
              "<head><meta charset=\"utf-8\" /></head>\n",
              "<body>\n",
              "    <div>            <script src=\"https://cdnjs.cloudflare.com/ajax/libs/mathjax/2.7.5/MathJax.js?config=TeX-AMS-MML_SVG\"></script><script type=\"text/javascript\">if (window.MathJax && window.MathJax.Hub && window.MathJax.Hub.Config) {window.MathJax.Hub.Config({SVG: {font: \"STIX-Web\"}});}</script>                <script type=\"text/javascript\">window.PlotlyConfig = {MathJaxConfig: 'local'};</script>\n",
              "        <script charset=\"utf-8\" src=\"https://cdn.plot.ly/plotly-2.35.2.min.js\"></script>                <div id=\"02c27492-b26c-4b80-8302-536c7f3bb930\" class=\"plotly-graph-div\" style=\"height:525px; width:100%;\"></div>            <script type=\"text/javascript\">                                    window.PLOTLYENV=window.PLOTLYENV || {};                                    if (document.getElementById(\"02c27492-b26c-4b80-8302-536c7f3bb930\")) {                    Plotly.newPlot(                        \"02c27492-b26c-4b80-8302-536c7f3bb930\",                        [{\"marker\":{\"color\":[0,1,2,3,4,5,6,7,8,9,10,11,12,13,14,15,16,17,18,19,20,21,22,23,24,25,26,27,28,29,30,31,32,33,34,35,36,37,38,39,40,41,42,43,44,45,46,47,48,49],\"colorbar\":{\"title\":{\"text\":\"Trial\"},\"x\":1.0,\"xpad\":40},\"colorscale\":[[0.0,\"rgb(247,251,255)\"],[0.125,\"rgb(222,235,247)\"],[0.25,\"rgb(198,219,239)\"],[0.375,\"rgb(158,202,225)\"],[0.5,\"rgb(107,174,214)\"],[0.625,\"rgb(66,146,198)\"],[0.75,\"rgb(33,113,181)\"],[0.875,\"rgb(8,81,156)\"],[1.0,\"rgb(8,48,107)\"]],\"line\":{\"color\":\"Grey\",\"width\":0.5},\"showscale\":true},\"mode\":\"markers\",\"name\":\"Feasible Trial\",\"showlegend\":false,\"x\":[16,11,6,20,19,5,9,9,15,7,1,13,14,16,10,3,13,17,8,11,4,11,14,12,8,15,10,17,12,9,17,18,18,20,18,19,6,16,15,15,12,18,16,16,16,14,9,9,7,10],\"y\":[0.7652994115610937,0.7671339563862929,0.7634129456559363,0.7634302526825891,0.7634302526825891,0.7596919349255797,0.7578573901003807,0.7690204222914503,0.7671512634129456,0.7541017653167186,0.7281066112841813,0.7596746278989269,0.7634302526825891,0.765282104534441,0.7652474904811353,0.7541363793700241,0.7633956386292835,0.7559882312218761,0.7652647975077882,0.7708376600899965,0.7522672204915196,0.7670993423329872,0.7652647975077882,0.7466078227760471,0.7615437867774316,0.7596573208722741,0.7652474904811353,0.7541017653167186,0.7559709241952233,0.7578227760470752,0.7671685704395984,0.7671685704395984,0.7653167185877466,0.7671685704395984,0.7671685704395985,0.7671512634129456,0.7596919349255798,0.7689858082381447,0.7689685012114919,0.76711664935964,0.7577881619937694,0.7615264797507788,0.7690031152647976,0.7708722741433023,0.7727414330218069,0.7671512634129456,0.7690377293181031,0.7690377293181031,0.7615784008307372,0.7652474904811353],\"type\":\"scatter\",\"xaxis\":\"x\",\"yaxis\":\"y\"},{\"marker\":{\"color\":[0,1,2,3,4,5,6,7,8,9,10,11,12,13,14,15,16,17,18,19,20,21,22,23,24,25,26,27,28,29,30,31,32,33,34,35,36,37,38,39,40,41,42,43,44,45,46,47,48,49],\"colorbar\":{\"title\":{\"text\":\"Trial\"},\"x\":1.0,\"xpad\":40},\"colorscale\":[[0.0,\"rgb(247,251,255)\"],[0.125,\"rgb(222,235,247)\"],[0.25,\"rgb(198,219,239)\"],[0.375,\"rgb(158,202,225)\"],[0.5,\"rgb(107,174,214)\"],[0.625,\"rgb(66,146,198)\"],[0.75,\"rgb(33,113,181)\"],[0.875,\"rgb(8,81,156)\"],[1.0,\"rgb(8,48,107)\"]],\"line\":{\"color\":\"Grey\",\"width\":0.5},\"showscale\":false},\"mode\":\"markers\",\"name\":\"Feasible Trial\",\"showlegend\":false,\"x\":[70,174,147,143,138,65,52,106,71,71,100,96,104,107,84,122,180,86,119,195,200,162,196,57,83,129,159,118,89,70,186,183,184,190,169,166,170,151,152,150,133,151,175,176,174,177,190,191,192,199],\"y\":[0.7652994115610937,0.7671339563862929,0.7634129456559363,0.7634302526825891,0.7634302526825891,0.7596919349255797,0.7578573901003807,0.7690204222914503,0.7671512634129456,0.7541017653167186,0.7281066112841813,0.7596746278989269,0.7634302526825891,0.765282104534441,0.7652474904811353,0.7541363793700241,0.7633956386292835,0.7559882312218761,0.7652647975077882,0.7708376600899965,0.7522672204915196,0.7670993423329872,0.7652647975077882,0.7466078227760471,0.7615437867774316,0.7596573208722741,0.7652474904811353,0.7541017653167186,0.7559709241952233,0.7578227760470752,0.7671685704395984,0.7671685704395984,0.7653167185877466,0.7671685704395984,0.7671685704395985,0.7671512634129456,0.7596919349255798,0.7689858082381447,0.7689685012114919,0.76711664935964,0.7577881619937694,0.7615264797507788,0.7690031152647976,0.7708722741433023,0.7727414330218069,0.7671512634129456,0.7690377293181031,0.7690377293181031,0.7615784008307372,0.7652474904811353],\"type\":\"scatter\",\"xaxis\":\"x2\",\"yaxis\":\"y2\"}],                        {\"template\":{\"data\":{\"histogram2dcontour\":[{\"type\":\"histogram2dcontour\",\"colorbar\":{\"outlinewidth\":0,\"ticks\":\"\"},\"colorscale\":[[0.0,\"#0d0887\"],[0.1111111111111111,\"#46039f\"],[0.2222222222222222,\"#7201a8\"],[0.3333333333333333,\"#9c179e\"],[0.4444444444444444,\"#bd3786\"],[0.5555555555555556,\"#d8576b\"],[0.6666666666666666,\"#ed7953\"],[0.7777777777777778,\"#fb9f3a\"],[0.8888888888888888,\"#fdca26\"],[1.0,\"#f0f921\"]]}],\"choropleth\":[{\"type\":\"choropleth\",\"colorbar\":{\"outlinewidth\":0,\"ticks\":\"\"}}],\"histogram2d\":[{\"type\":\"histogram2d\",\"colorbar\":{\"outlinewidth\":0,\"ticks\":\"\"},\"colorscale\":[[0.0,\"#0d0887\"],[0.1111111111111111,\"#46039f\"],[0.2222222222222222,\"#7201a8\"],[0.3333333333333333,\"#9c179e\"],[0.4444444444444444,\"#bd3786\"],[0.5555555555555556,\"#d8576b\"],[0.6666666666666666,\"#ed7953\"],[0.7777777777777778,\"#fb9f3a\"],[0.8888888888888888,\"#fdca26\"],[1.0,\"#f0f921\"]]}],\"heatmap\":[{\"type\":\"heatmap\",\"colorbar\":{\"outlinewidth\":0,\"ticks\":\"\"},\"colorscale\":[[0.0,\"#0d0887\"],[0.1111111111111111,\"#46039f\"],[0.2222222222222222,\"#7201a8\"],[0.3333333333333333,\"#9c179e\"],[0.4444444444444444,\"#bd3786\"],[0.5555555555555556,\"#d8576b\"],[0.6666666666666666,\"#ed7953\"],[0.7777777777777778,\"#fb9f3a\"],[0.8888888888888888,\"#fdca26\"],[1.0,\"#f0f921\"]]}],\"heatmapgl\":[{\"type\":\"heatmapgl\",\"colorbar\":{\"outlinewidth\":0,\"ticks\":\"\"},\"colorscale\":[[0.0,\"#0d0887\"],[0.1111111111111111,\"#46039f\"],[0.2222222222222222,\"#7201a8\"],[0.3333333333333333,\"#9c179e\"],[0.4444444444444444,\"#bd3786\"],[0.5555555555555556,\"#d8576b\"],[0.6666666666666666,\"#ed7953\"],[0.7777777777777778,\"#fb9f3a\"],[0.8888888888888888,\"#fdca26\"],[1.0,\"#f0f921\"]]}],\"contourcarpet\":[{\"type\":\"contourcarpet\",\"colorbar\":{\"outlinewidth\":0,\"ticks\":\"\"}}],\"contour\":[{\"type\":\"contour\",\"colorbar\":{\"outlinewidth\":0,\"ticks\":\"\"},\"colorscale\":[[0.0,\"#0d0887\"],[0.1111111111111111,\"#46039f\"],[0.2222222222222222,\"#7201a8\"],[0.3333333333333333,\"#9c179e\"],[0.4444444444444444,\"#bd3786\"],[0.5555555555555556,\"#d8576b\"],[0.6666666666666666,\"#ed7953\"],[0.7777777777777778,\"#fb9f3a\"],[0.8888888888888888,\"#fdca26\"],[1.0,\"#f0f921\"]]}],\"surface\":[{\"type\":\"surface\",\"colorbar\":{\"outlinewidth\":0,\"ticks\":\"\"},\"colorscale\":[[0.0,\"#0d0887\"],[0.1111111111111111,\"#46039f\"],[0.2222222222222222,\"#7201a8\"],[0.3333333333333333,\"#9c179e\"],[0.4444444444444444,\"#bd3786\"],[0.5555555555555556,\"#d8576b\"],[0.6666666666666666,\"#ed7953\"],[0.7777777777777778,\"#fb9f3a\"],[0.8888888888888888,\"#fdca26\"],[1.0,\"#f0f921\"]]}],\"mesh3d\":[{\"type\":\"mesh3d\",\"colorbar\":{\"outlinewidth\":0,\"ticks\":\"\"}}],\"scatter\":[{\"fillpattern\":{\"fillmode\":\"overlay\",\"size\":10,\"solidity\":0.2},\"type\":\"scatter\"}],\"parcoords\":[{\"type\":\"parcoords\",\"line\":{\"colorbar\":{\"outlinewidth\":0,\"ticks\":\"\"}}}],\"scatterpolargl\":[{\"type\":\"scatterpolargl\",\"marker\":{\"colorbar\":{\"outlinewidth\":0,\"ticks\":\"\"}}}],\"bar\":[{\"error_x\":{\"color\":\"#2a3f5f\"},\"error_y\":{\"color\":\"#2a3f5f\"},\"marker\":{\"line\":{\"color\":\"#E5ECF6\",\"width\":0.5},\"pattern\":{\"fillmode\":\"overlay\",\"size\":10,\"solidity\":0.2}},\"type\":\"bar\"}],\"scattergeo\":[{\"type\":\"scattergeo\",\"marker\":{\"colorbar\":{\"outlinewidth\":0,\"ticks\":\"\"}}}],\"scatterpolar\":[{\"type\":\"scatterpolar\",\"marker\":{\"colorbar\":{\"outlinewidth\":0,\"ticks\":\"\"}}}],\"histogram\":[{\"marker\":{\"pattern\":{\"fillmode\":\"overlay\",\"size\":10,\"solidity\":0.2}},\"type\":\"histogram\"}],\"scattergl\":[{\"type\":\"scattergl\",\"marker\":{\"colorbar\":{\"outlinewidth\":0,\"ticks\":\"\"}}}],\"scatter3d\":[{\"type\":\"scatter3d\",\"line\":{\"colorbar\":{\"outlinewidth\":0,\"ticks\":\"\"}},\"marker\":{\"colorbar\":{\"outlinewidth\":0,\"ticks\":\"\"}}}],\"scattermapbox\":[{\"type\":\"scattermapbox\",\"marker\":{\"colorbar\":{\"outlinewidth\":0,\"ticks\":\"\"}}}],\"scatterternary\":[{\"type\":\"scatterternary\",\"marker\":{\"colorbar\":{\"outlinewidth\":0,\"ticks\":\"\"}}}],\"scattercarpet\":[{\"type\":\"scattercarpet\",\"marker\":{\"colorbar\":{\"outlinewidth\":0,\"ticks\":\"\"}}}],\"carpet\":[{\"aaxis\":{\"endlinecolor\":\"#2a3f5f\",\"gridcolor\":\"white\",\"linecolor\":\"white\",\"minorgridcolor\":\"white\",\"startlinecolor\":\"#2a3f5f\"},\"baxis\":{\"endlinecolor\":\"#2a3f5f\",\"gridcolor\":\"white\",\"linecolor\":\"white\",\"minorgridcolor\":\"white\",\"startlinecolor\":\"#2a3f5f\"},\"type\":\"carpet\"}],\"table\":[{\"cells\":{\"fill\":{\"color\":\"#EBF0F8\"},\"line\":{\"color\":\"white\"}},\"header\":{\"fill\":{\"color\":\"#C8D4E3\"},\"line\":{\"color\":\"white\"}},\"type\":\"table\"}],\"barpolar\":[{\"marker\":{\"line\":{\"color\":\"#E5ECF6\",\"width\":0.5},\"pattern\":{\"fillmode\":\"overlay\",\"size\":10,\"solidity\":0.2}},\"type\":\"barpolar\"}],\"pie\":[{\"automargin\":true,\"type\":\"pie\"}]},\"layout\":{\"autotypenumbers\":\"strict\",\"colorway\":[\"#636efa\",\"#EF553B\",\"#00cc96\",\"#ab63fa\",\"#FFA15A\",\"#19d3f3\",\"#FF6692\",\"#B6E880\",\"#FF97FF\",\"#FECB52\"],\"font\":{\"color\":\"#2a3f5f\"},\"hovermode\":\"closest\",\"hoverlabel\":{\"align\":\"left\"},\"paper_bgcolor\":\"white\",\"plot_bgcolor\":\"#E5ECF6\",\"polar\":{\"bgcolor\":\"#E5ECF6\",\"angularaxis\":{\"gridcolor\":\"white\",\"linecolor\":\"white\",\"ticks\":\"\"},\"radialaxis\":{\"gridcolor\":\"white\",\"linecolor\":\"white\",\"ticks\":\"\"}},\"ternary\":{\"bgcolor\":\"#E5ECF6\",\"aaxis\":{\"gridcolor\":\"white\",\"linecolor\":\"white\",\"ticks\":\"\"},\"baxis\":{\"gridcolor\":\"white\",\"linecolor\":\"white\",\"ticks\":\"\"},\"caxis\":{\"gridcolor\":\"white\",\"linecolor\":\"white\",\"ticks\":\"\"}},\"coloraxis\":{\"colorbar\":{\"outlinewidth\":0,\"ticks\":\"\"}},\"colorscale\":{\"sequential\":[[0.0,\"#0d0887\"],[0.1111111111111111,\"#46039f\"],[0.2222222222222222,\"#7201a8\"],[0.3333333333333333,\"#9c179e\"],[0.4444444444444444,\"#bd3786\"],[0.5555555555555556,\"#d8576b\"],[0.6666666666666666,\"#ed7953\"],[0.7777777777777778,\"#fb9f3a\"],[0.8888888888888888,\"#fdca26\"],[1.0,\"#f0f921\"]],\"sequentialminus\":[[0.0,\"#0d0887\"],[0.1111111111111111,\"#46039f\"],[0.2222222222222222,\"#7201a8\"],[0.3333333333333333,\"#9c179e\"],[0.4444444444444444,\"#bd3786\"],[0.5555555555555556,\"#d8576b\"],[0.6666666666666666,\"#ed7953\"],[0.7777777777777778,\"#fb9f3a\"],[0.8888888888888888,\"#fdca26\"],[1.0,\"#f0f921\"]],\"diverging\":[[0,\"#8e0152\"],[0.1,\"#c51b7d\"],[0.2,\"#de77ae\"],[0.3,\"#f1b6da\"],[0.4,\"#fde0ef\"],[0.5,\"#f7f7f7\"],[0.6,\"#e6f5d0\"],[0.7,\"#b8e186\"],[0.8,\"#7fbc41\"],[0.9,\"#4d9221\"],[1,\"#276419\"]]},\"xaxis\":{\"gridcolor\":\"white\",\"linecolor\":\"white\",\"ticks\":\"\",\"title\":{\"standoff\":15},\"zerolinecolor\":\"white\",\"automargin\":true,\"zerolinewidth\":2},\"yaxis\":{\"gridcolor\":\"white\",\"linecolor\":\"white\",\"ticks\":\"\",\"title\":{\"standoff\":15},\"zerolinecolor\":\"white\",\"automargin\":true,\"zerolinewidth\":2},\"scene\":{\"xaxis\":{\"backgroundcolor\":\"#E5ECF6\",\"gridcolor\":\"white\",\"linecolor\":\"white\",\"showbackground\":true,\"ticks\":\"\",\"zerolinecolor\":\"white\",\"gridwidth\":2},\"yaxis\":{\"backgroundcolor\":\"#E5ECF6\",\"gridcolor\":\"white\",\"linecolor\":\"white\",\"showbackground\":true,\"ticks\":\"\",\"zerolinecolor\":\"white\",\"gridwidth\":2},\"zaxis\":{\"backgroundcolor\":\"#E5ECF6\",\"gridcolor\":\"white\",\"linecolor\":\"white\",\"showbackground\":true,\"ticks\":\"\",\"zerolinecolor\":\"white\",\"gridwidth\":2}},\"shapedefaults\":{\"line\":{\"color\":\"#2a3f5f\"}},\"annotationdefaults\":{\"arrowcolor\":\"#2a3f5f\",\"arrowhead\":0,\"arrowwidth\":1},\"geo\":{\"bgcolor\":\"white\",\"landcolor\":\"#E5ECF6\",\"subunitcolor\":\"white\",\"showland\":true,\"showlakes\":true,\"lakecolor\":\"white\"},\"title\":{\"x\":0.05},\"mapbox\":{\"style\":\"light\"}}},\"xaxis\":{\"anchor\":\"y\",\"domain\":[0.0,0.45],\"title\":{\"text\":\"max_depth\"}},\"yaxis\":{\"anchor\":\"x\",\"domain\":[0.0,1.0],\"title\":{\"text\":\"Objective Value\"}},\"xaxis2\":{\"anchor\":\"y2\",\"domain\":[0.55,1.0],\"title\":{\"text\":\"n_estimators\"}},\"yaxis2\":{\"anchor\":\"x2\",\"domain\":[0.0,1.0],\"matches\":\"y\",\"showticklabels\":false},\"title\":{\"text\":\"Slice Plot\"}},                        {\"responsive\": true}                    ).then(function(){\n",
              "                            \n",
              "var gd = document.getElementById('02c27492-b26c-4b80-8302-536c7f3bb930');\n",
              "var x = new MutationObserver(function (mutations, observer) {{\n",
              "        var display = window.getComputedStyle(gd).display;\n",
              "        if (!display || display === 'none') {{\n",
              "            console.log([gd, 'removed!']);\n",
              "            Plotly.purge(gd);\n",
              "            observer.disconnect();\n",
              "        }}\n",
              "}});\n",
              "\n",
              "// Listen for the removal of the full notebook cells\n",
              "var notebookContainer = gd.closest('#notebook-container');\n",
              "if (notebookContainer) {{\n",
              "    x.observe(notebookContainer, {childList: true});\n",
              "}}\n",
              "\n",
              "// Listen for the clearing of the current output cell\n",
              "var outputEl = gd.closest('.output');\n",
              "if (outputEl) {{\n",
              "    x.observe(outputEl, {childList: true});\n",
              "}}\n",
              "\n",
              "                        })                };                            </script>        </div>\n",
              "</body>\n",
              "</html>"
            ]
          },
          "metadata": {}
        },
        {
          "output_type": "display_data",
          "data": {
            "text/plain": [
              "<Figure size 640x480 with 0 Axes>"
            ]
          },
          "metadata": {}
        }
      ]
    },
    {
      "cell_type": "code",
      "source": [],
      "metadata": {
        "id": "4ZQBkBXtEuKQ"
      },
      "execution_count": null,
      "outputs": []
    }
  ]
}