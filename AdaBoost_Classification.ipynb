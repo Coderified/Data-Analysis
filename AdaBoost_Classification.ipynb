{
 "cells": [
  {
   "cell_type": "code",
   "execution_count": 1,
   "id": "96ed1b55-f139-4bec-9aa8-7c04a56941f6",
   "metadata": {},
   "outputs": [],
   "source": [
    "import pandas as pd\n",
    "import numpy as np\n",
    "import seaborn as sns\n",
    "import matplotlib.pyplot as plt\n",
    "%matplotlib inline"
   ]
  },
  {
   "cell_type": "code",
   "execution_count": 290,
   "id": "8f79ea57-9375-4f12-8752-924ba6e2b793",
   "metadata": {},
   "outputs": [
    {
     "data": {
      "text/html": [
       "<div>\n",
       "<style scoped>\n",
       "    .dataframe tbody tr th:only-of-type {\n",
       "        vertical-align: middle;\n",
       "    }\n",
       "\n",
       "    .dataframe tbody tr th {\n",
       "        vertical-align: top;\n",
       "    }\n",
       "\n",
       "    .dataframe thead th {\n",
       "        text-align: right;\n",
       "    }\n",
       "</style>\n",
       "<table border=\"1\" class=\"dataframe\">\n",
       "  <thead>\n",
       "    <tr style=\"text-align: right;\">\n",
       "      <th></th>\n",
       "      <th>CustomerID</th>\n",
       "      <th>ProdTaken</th>\n",
       "      <th>Age</th>\n",
       "      <th>TypeofContact</th>\n",
       "      <th>CityTier</th>\n",
       "      <th>DurationOfPitch</th>\n",
       "      <th>Occupation</th>\n",
       "      <th>Gender</th>\n",
       "      <th>NumberOfPersonVisiting</th>\n",
       "      <th>NumberOfFollowups</th>\n",
       "      <th>ProductPitched</th>\n",
       "      <th>PreferredPropertyStar</th>\n",
       "      <th>MaritalStatus</th>\n",
       "      <th>NumberOfTrips</th>\n",
       "      <th>Passport</th>\n",
       "      <th>PitchSatisfactionScore</th>\n",
       "      <th>OwnCar</th>\n",
       "      <th>NumberOfChildrenVisiting</th>\n",
       "      <th>Designation</th>\n",
       "      <th>MonthlyIncome</th>\n",
       "    </tr>\n",
       "  </thead>\n",
       "  <tbody>\n",
       "    <tr>\n",
       "      <th>0</th>\n",
       "      <td>200000</td>\n",
       "      <td>1</td>\n",
       "      <td>41.0</td>\n",
       "      <td>Self Enquiry</td>\n",
       "      <td>3</td>\n",
       "      <td>6.0</td>\n",
       "      <td>Salaried</td>\n",
       "      <td>Female</td>\n",
       "      <td>3</td>\n",
       "      <td>3.0</td>\n",
       "      <td>Deluxe</td>\n",
       "      <td>3.0</td>\n",
       "      <td>Single</td>\n",
       "      <td>1.0</td>\n",
       "      <td>1</td>\n",
       "      <td>2</td>\n",
       "      <td>1</td>\n",
       "      <td>0.0</td>\n",
       "      <td>Manager</td>\n",
       "      <td>20993.0</td>\n",
       "    </tr>\n",
       "    <tr>\n",
       "      <th>1</th>\n",
       "      <td>200001</td>\n",
       "      <td>0</td>\n",
       "      <td>49.0</td>\n",
       "      <td>Company Invited</td>\n",
       "      <td>1</td>\n",
       "      <td>14.0</td>\n",
       "      <td>Salaried</td>\n",
       "      <td>Male</td>\n",
       "      <td>3</td>\n",
       "      <td>4.0</td>\n",
       "      <td>Deluxe</td>\n",
       "      <td>4.0</td>\n",
       "      <td>Divorced</td>\n",
       "      <td>2.0</td>\n",
       "      <td>0</td>\n",
       "      <td>3</td>\n",
       "      <td>1</td>\n",
       "      <td>2.0</td>\n",
       "      <td>Manager</td>\n",
       "      <td>20130.0</td>\n",
       "    </tr>\n",
       "    <tr>\n",
       "      <th>2</th>\n",
       "      <td>200002</td>\n",
       "      <td>1</td>\n",
       "      <td>37.0</td>\n",
       "      <td>Self Enquiry</td>\n",
       "      <td>1</td>\n",
       "      <td>8.0</td>\n",
       "      <td>Free Lancer</td>\n",
       "      <td>Male</td>\n",
       "      <td>3</td>\n",
       "      <td>4.0</td>\n",
       "      <td>Basic</td>\n",
       "      <td>3.0</td>\n",
       "      <td>Single</td>\n",
       "      <td>7.0</td>\n",
       "      <td>1</td>\n",
       "      <td>3</td>\n",
       "      <td>0</td>\n",
       "      <td>0.0</td>\n",
       "      <td>Executive</td>\n",
       "      <td>17090.0</td>\n",
       "    </tr>\n",
       "    <tr>\n",
       "      <th>3</th>\n",
       "      <td>200003</td>\n",
       "      <td>0</td>\n",
       "      <td>33.0</td>\n",
       "      <td>Company Invited</td>\n",
       "      <td>1</td>\n",
       "      <td>9.0</td>\n",
       "      <td>Salaried</td>\n",
       "      <td>Female</td>\n",
       "      <td>2</td>\n",
       "      <td>3.0</td>\n",
       "      <td>Basic</td>\n",
       "      <td>3.0</td>\n",
       "      <td>Divorced</td>\n",
       "      <td>2.0</td>\n",
       "      <td>1</td>\n",
       "      <td>5</td>\n",
       "      <td>1</td>\n",
       "      <td>1.0</td>\n",
       "      <td>Executive</td>\n",
       "      <td>17909.0</td>\n",
       "    </tr>\n",
       "    <tr>\n",
       "      <th>4</th>\n",
       "      <td>200004</td>\n",
       "      <td>0</td>\n",
       "      <td>NaN</td>\n",
       "      <td>Self Enquiry</td>\n",
       "      <td>1</td>\n",
       "      <td>8.0</td>\n",
       "      <td>Small Business</td>\n",
       "      <td>Male</td>\n",
       "      <td>2</td>\n",
       "      <td>3.0</td>\n",
       "      <td>Basic</td>\n",
       "      <td>4.0</td>\n",
       "      <td>Divorced</td>\n",
       "      <td>1.0</td>\n",
       "      <td>0</td>\n",
       "      <td>5</td>\n",
       "      <td>1</td>\n",
       "      <td>0.0</td>\n",
       "      <td>Executive</td>\n",
       "      <td>18468.0</td>\n",
       "    </tr>\n",
       "  </tbody>\n",
       "</table>\n",
       "</div>"
      ],
      "text/plain": [
       "   CustomerID  ProdTaken   Age    TypeofContact  CityTier  DurationOfPitch  \\\n",
       "0      200000          1  41.0     Self Enquiry         3              6.0   \n",
       "1      200001          0  49.0  Company Invited         1             14.0   \n",
       "2      200002          1  37.0     Self Enquiry         1              8.0   \n",
       "3      200003          0  33.0  Company Invited         1              9.0   \n",
       "4      200004          0   NaN     Self Enquiry         1              8.0   \n",
       "\n",
       "       Occupation  Gender  NumberOfPersonVisiting  NumberOfFollowups  \\\n",
       "0        Salaried  Female                       3                3.0   \n",
       "1        Salaried    Male                       3                4.0   \n",
       "2     Free Lancer    Male                       3                4.0   \n",
       "3        Salaried  Female                       2                3.0   \n",
       "4  Small Business    Male                       2                3.0   \n",
       "\n",
       "  ProductPitched  PreferredPropertyStar MaritalStatus  NumberOfTrips  \\\n",
       "0         Deluxe                    3.0        Single            1.0   \n",
       "1         Deluxe                    4.0      Divorced            2.0   \n",
       "2          Basic                    3.0        Single            7.0   \n",
       "3          Basic                    3.0      Divorced            2.0   \n",
       "4          Basic                    4.0      Divorced            1.0   \n",
       "\n",
       "   Passport  PitchSatisfactionScore  OwnCar  NumberOfChildrenVisiting  \\\n",
       "0         1                       2       1                       0.0   \n",
       "1         0                       3       1                       2.0   \n",
       "2         1                       3       0                       0.0   \n",
       "3         1                       5       1                       1.0   \n",
       "4         0                       5       1                       0.0   \n",
       "\n",
       "  Designation  MonthlyIncome  \n",
       "0     Manager        20993.0  \n",
       "1     Manager        20130.0  \n",
       "2   Executive        17090.0  \n",
       "3   Executive        17909.0  \n",
       "4   Executive        18468.0  "
      ]
     },
     "execution_count": 290,
     "metadata": {},
     "output_type": "execute_result"
    }
   ],
   "source": [
    "df = pd.read_csv(\"Travel.csv\")\n",
    "df.head()"
   ]
  },
  {
   "cell_type": "code",
   "execution_count": 292,
   "id": "32562ac3-2320-468d-9d76-438e326949fc",
   "metadata": {},
   "outputs": [],
   "source": [
    "import warnings\n",
    "warnings.filterwarnings(\"ignore\")"
   ]
  },
  {
   "cell_type": "code",
   "execution_count": 294,
   "id": "6abb8f46-defc-474b-bf98-8fa41301bf50",
   "metadata": {},
   "outputs": [
    {
     "name": "stdout",
     "output_type": "stream",
     "text": [
      "<class 'pandas.core.frame.DataFrame'>\n",
      "RangeIndex: 4888 entries, 0 to 4887\n",
      "Data columns (total 20 columns):\n",
      " #   Column                    Non-Null Count  Dtype  \n",
      "---  ------                    --------------  -----  \n",
      " 0   CustomerID                4888 non-null   int64  \n",
      " 1   ProdTaken                 4888 non-null   int64  \n",
      " 2   Age                       4662 non-null   float64\n",
      " 3   TypeofContact             4863 non-null   object \n",
      " 4   CityTier                  4888 non-null   int64  \n",
      " 5   DurationOfPitch           4637 non-null   float64\n",
      " 6   Occupation                4888 non-null   object \n",
      " 7   Gender                    4888 non-null   object \n",
      " 8   NumberOfPersonVisiting    4888 non-null   int64  \n",
      " 9   NumberOfFollowups         4843 non-null   float64\n",
      " 10  ProductPitched            4888 non-null   object \n",
      " 11  PreferredPropertyStar     4862 non-null   float64\n",
      " 12  MaritalStatus             4888 non-null   object \n",
      " 13  NumberOfTrips             4748 non-null   float64\n",
      " 14  Passport                  4888 non-null   int64  \n",
      " 15  PitchSatisfactionScore    4888 non-null   int64  \n",
      " 16  OwnCar                    4888 non-null   int64  \n",
      " 17  NumberOfChildrenVisiting  4822 non-null   float64\n",
      " 18  Designation               4888 non-null   object \n",
      " 19  MonthlyIncome             4655 non-null   float64\n",
      "dtypes: float64(7), int64(7), object(6)\n",
      "memory usage: 763.9+ KB\n"
     ]
    }
   ],
   "source": [
    "df.info()\n"
   ]
  },
  {
   "cell_type": "code",
   "execution_count": 296,
   "id": "df0ac510-04ba-46ae-8052-99f0ebef1910",
   "metadata": {},
   "outputs": [
    {
     "data": {
      "text/plain": [
       "CustomerID                    0\n",
       "ProdTaken                     0\n",
       "Age                         226\n",
       "TypeofContact                25\n",
       "CityTier                      0\n",
       "DurationOfPitch             251\n",
       "Occupation                    0\n",
       "Gender                        0\n",
       "NumberOfPersonVisiting        0\n",
       "NumberOfFollowups            45\n",
       "ProductPitched                0\n",
       "PreferredPropertyStar        26\n",
       "MaritalStatus                 0\n",
       "NumberOfTrips               140\n",
       "Passport                      0\n",
       "PitchSatisfactionScore        0\n",
       "OwnCar                        0\n",
       "NumberOfChildrenVisiting     66\n",
       "Designation                   0\n",
       "MonthlyIncome               233\n",
       "dtype: int64"
      ]
     },
     "execution_count": 296,
     "metadata": {},
     "output_type": "execute_result"
    }
   ],
   "source": [
    "df.isnull().sum()"
   ]
  },
  {
   "cell_type": "code",
   "execution_count": 298,
   "id": "6c2aad8d-a5b7-48b1-b9a2-aecf9748cef6",
   "metadata": {},
   "outputs": [],
   "source": [
    "nullfeats = [feats for feats in df if df[feats].isnull().sum() > 0]"
   ]
  },
  {
   "cell_type": "code",
   "execution_count": 300,
   "id": "6d43bb66-7642-495b-a49b-29873c22d77f",
   "metadata": {},
   "outputs": [
    {
     "data": {
      "text/plain": [
       "['Age',\n",
       " 'TypeofContact',\n",
       " 'DurationOfPitch',\n",
       " 'NumberOfFollowups',\n",
       " 'PreferredPropertyStar',\n",
       " 'NumberOfTrips',\n",
       " 'NumberOfChildrenVisiting',\n",
       " 'MonthlyIncome']"
      ]
     },
     "execution_count": 300,
     "metadata": {},
     "output_type": "execute_result"
    }
   ],
   "source": [
    "nullfeats"
   ]
  },
  {
   "cell_type": "code",
   "execution_count": 302,
   "id": "aa84cd59-16ea-44ee-a67c-d88cbdbf57be",
   "metadata": {},
   "outputs": [
    {
     "name": "stdout",
     "output_type": "stream",
     "text": [
      "Age  % missing =  4.624\n",
      "TypeofContact  % missing =  0.511\n",
      "DurationOfPitch  % missing =  5.135\n",
      "NumberOfFollowups  % missing =  0.921\n",
      "PreferredPropertyStar  % missing =  0.532\n",
      "NumberOfTrips  % missing =  2.864\n",
      "NumberOfChildrenVisiting  % missing =  1.35\n",
      "MonthlyIncome  % missing =  4.767\n"
     ]
    }
   ],
   "source": [
    "for feats in nullfeats:\n",
    "    print(feats, \" % missing = \", round(df[feats].isnull().mean()*100,3))"
   ]
  },
  {
   "cell_type": "code",
   "execution_count": 304,
   "id": "a8b72a90-a4d3-4c94-9629-5843fc0befdb",
   "metadata": {},
   "outputs": [
    {
     "data": {
      "text/plain": [
       "45"
      ]
     },
     "execution_count": 304,
     "metadata": {},
     "output_type": "execute_result"
    }
   ],
   "source": [
    "len(df[\"Age\"].unique())"
   ]
  },
  {
   "cell_type": "code",
   "execution_count": 306,
   "id": "cb521c29-4647-42a9-b185-71e19935b4eb",
   "metadata": {},
   "outputs": [
    {
     "name": "stdout",
     "output_type": "stream",
     "text": [
      "TypeofContact ['Self Enquiry' 'Company Invited' nan]\n",
      "PreferredPropertyStar [ 3.  4.  5. nan]\n",
      "NumberOfChildrenVisiting [ 0.  2.  1. nan  3.]\n"
     ]
    }
   ],
   "source": [
    "for feats in nullfeats:\n",
    "    if len(df[feats].unique())<6:\n",
    "        print(feats, df[feats].unique())"
   ]
  },
  {
   "cell_type": "code",
   "execution_count": 308,
   "id": "48b7e8ff-452c-45f1-b76f-7fbae3e962b2",
   "metadata": {},
   "outputs": [
    {
     "data": {
      "text/plain": [
       "array(['Single', 'Divorced', 'Married', 'Unmarried'], dtype=object)"
      ]
     },
     "execution_count": 308,
     "metadata": {},
     "output_type": "execute_result"
    }
   ],
   "source": [
    "df[\"Gender\"].unique()\n",
    "df[\"MaritalStatus\"].unique()"
   ]
  },
  {
   "cell_type": "code",
   "execution_count": 310,
   "id": "4d03bf65-1186-4b3a-9d8e-6828ba5c8749",
   "metadata": {},
   "outputs": [],
   "source": [
    "df[\"Gender\"].replace(\"Fe Male\",\"Female\",inplace=True)\n",
    "df[\"MaritalStatus\"].replace(\"Unmarried\",\"Single\",inplace=True)"
   ]
  },
  {
   "cell_type": "code",
   "execution_count": 312,
   "id": "623073d9-8210-4bef-bb6f-c7b40e8ee214",
   "metadata": {},
   "outputs": [
    {
     "data": {
      "text/plain": [
       "array(['Female', 'Male'], dtype=object)"
      ]
     },
     "execution_count": 312,
     "metadata": {},
     "output_type": "execute_result"
    }
   ],
   "source": [
    "df[\"Gender\"].unique()"
   ]
  },
  {
   "cell_type": "code",
   "execution_count": 314,
   "id": "c8a3e900-a936-43b0-a0c6-383e37d98b32",
   "metadata": {},
   "outputs": [
    {
     "data": {
      "text/plain": [
       "array(['Single', 'Divorced', 'Married'], dtype=object)"
      ]
     },
     "execution_count": 314,
     "metadata": {},
     "output_type": "execute_result"
    }
   ],
   "source": [
    "df[\"MaritalStatus\"].unique()"
   ]
  },
  {
   "cell_type": "code",
   "execution_count": 316,
   "id": "7923f1c1-5e54-4d86-a4eb-502ec2cfa04c",
   "metadata": {},
   "outputs": [],
   "source": [
    "df.Age.fillna(df.Age.median(), inplace=True)\n",
    "df.TypeofContact.fillna(df.TypeofContact.mode()[0], inplace=True)\n",
    "df.DurationOfPitch.fillna(df.DurationOfPitch.median(), inplace=True)\n",
    "df.NumberOfFollowups.fillna(df.NumberOfFollowups.mode()[0], inplace=True)\n",
    "df.PreferredPropertyStar.fillna(df.PreferredPropertyStar.mode()[0], inplace=True)\n",
    "df.NumberOfTrips.fillna(df.NumberOfTrips.median(), inplace=True)\n",
    "df.NumberOfChildrenVisiting.fillna(df.NumberOfChildrenVisiting.mode()[0], inplace=True)\n",
    "df.MonthlyIncome.fillna(df.MonthlyIncome.median(), inplace=True)"
   ]
  },
  {
   "cell_type": "code",
   "execution_count": 318,
   "id": "a174d6f6-920e-44bd-ab53-80c60a599e81",
   "metadata": {},
   "outputs": [],
   "source": [
    "df.drop('CustomerID', inplace=True, axis=1)"
   ]
  },
  {
   "cell_type": "code",
   "execution_count": 320,
   "id": "7c5f6729-49df-4c45-a836-55495af11ba6",
   "metadata": {},
   "outputs": [],
   "source": [
    "df['TotalVisiting'] = df['NumberOfPersonVisiting'] + df['NumberOfChildrenVisiting']\n",
    "df.drop(columns=['NumberOfPersonVisiting', 'NumberOfChildrenVisiting'], axis=1, inplace=True)"
   ]
  },
  {
   "cell_type": "code",
   "execution_count": 322,
   "id": "745494e4-824e-4da4-a368-895042c1518c",
   "metadata": {},
   "outputs": [],
   "source": [
    "numfeat = [feats for feats in df.columns if df[feats].dtype!=\"O\"]\n",
    "catfeat = [feats for feats in df.columns if df[feats].dtype==\"O\"]"
   ]
  },
  {
   "cell_type": "code",
   "execution_count": 324,
   "id": "f37e4ff8-1b6f-420f-9a7b-d8329329bb9f",
   "metadata": {},
   "outputs": [],
   "source": [
    "numfeat.remove(\"ProdTaken\")"
   ]
  },
  {
   "cell_type": "code",
   "execution_count": 352,
   "id": "9780f211-e1e7-4d3f-8ba5-a096df036d3e",
   "metadata": {},
   "outputs": [
    {
     "data": {
      "text/plain": [
       "['Age',\n",
       " 'CityTier',\n",
       " 'DurationOfPitch',\n",
       " 'NumberOfFollowups',\n",
       " 'PreferredPropertyStar',\n",
       " 'NumberOfTrips',\n",
       " 'Passport',\n",
       " 'PitchSatisfactionScore',\n",
       " 'OwnCar',\n",
       " 'MonthlyIncome',\n",
       " 'TotalVisiting']"
      ]
     },
     "execution_count": 352,
     "metadata": {},
     "output_type": "execute_result"
    }
   ],
   "source": [
    "numfeat"
   ]
  },
  {
   "cell_type": "code",
   "execution_count": 354,
   "id": "62aa5b46-9d7b-466b-ac56-3bc97754ad40",
   "metadata": {},
   "outputs": [
    {
     "data": {
      "text/plain": [
       "['TypeofContact',\n",
       " 'Occupation',\n",
       " 'Gender',\n",
       " 'ProductPitched',\n",
       " 'MaritalStatus',\n",
       " 'Designation']"
      ]
     },
     "execution_count": 354,
     "metadata": {},
     "output_type": "execute_result"
    }
   ],
   "source": [
    "catfeat"
   ]
  },
  {
   "cell_type": "code",
   "execution_count": 356,
   "id": "d81413a3-3eda-4e80-93b8-0c6689fdb7f5",
   "metadata": {},
   "outputs": [],
   "source": [
    "from sklearn.model_selection import train_test_split\n",
    "X = df.drop(['ProdTaken'], axis=1)\n",
    "y = df['ProdTaken']"
   ]
  },
  {
   "cell_type": "code",
   "execution_count": 358,
   "id": "e6d9d2d2-a150-4571-b431-a5bee06a2372",
   "metadata": {},
   "outputs": [
    {
     "data": {
      "text/plain": [
       "((3910, 17), (978, 17))"
      ]
     },
     "execution_count": 358,
     "metadata": {},
     "output_type": "execute_result"
    }
   ],
   "source": [
    "# separate dataset into train and test\n",
    "X_train, X_test, y_train, y_test = train_test_split(X,y,test_size=0.2,random_state=42)\n",
    "X_train.shape, X_test.shape"
   ]
  },
  {
   "cell_type": "code",
   "execution_count": 360,
   "id": "09a9d893-840b-4ce8-8325-62a70608b9e0",
   "metadata": {},
   "outputs": [],
   "source": [
    "from sklearn.preprocessing import OneHotEncoder, StandardScaler\n",
    "from sklearn.compose import ColumnTransformer\n",
    "\n"
   ]
  },
  {
   "cell_type": "code",
   "execution_count": 362,
   "id": "96916a00-2fe9-46de-a562-ecf57f449c6f",
   "metadata": {},
   "outputs": [],
   "source": [
    "preproc = ColumnTransformer(\n",
    "[\n",
    "(\"ohe\",OneHotEncoder(drop='first'),catfeat),\n",
    "(\"stscaler\",StandardScaler(),numfeat)\n",
    "]\n",
    "    \n",
    ")"
   ]
  },
  {
   "cell_type": "code",
   "execution_count": 364,
   "id": "44e338aa-59ba-4e7f-a618-ccb5e70d87ca",
   "metadata": {},
   "outputs": [
    {
     "data": {
      "text/html": [
       "<style>#sk-container-id-4 {color: black;background-color: white;}#sk-container-id-4 pre{padding: 0;}#sk-container-id-4 div.sk-toggleable {background-color: white;}#sk-container-id-4 label.sk-toggleable__label {cursor: pointer;display: block;width: 100%;margin-bottom: 0;padding: 0.3em;box-sizing: border-box;text-align: center;}#sk-container-id-4 label.sk-toggleable__label-arrow:before {content: \"▸\";float: left;margin-right: 0.25em;color: #696969;}#sk-container-id-4 label.sk-toggleable__label-arrow:hover:before {color: black;}#sk-container-id-4 div.sk-estimator:hover label.sk-toggleable__label-arrow:before {color: black;}#sk-container-id-4 div.sk-toggleable__content {max-height: 0;max-width: 0;overflow: hidden;text-align: left;background-color: #f0f8ff;}#sk-container-id-4 div.sk-toggleable__content pre {margin: 0.2em;color: black;border-radius: 0.25em;background-color: #f0f8ff;}#sk-container-id-4 input.sk-toggleable__control:checked~div.sk-toggleable__content {max-height: 200px;max-width: 100%;overflow: auto;}#sk-container-id-4 input.sk-toggleable__control:checked~label.sk-toggleable__label-arrow:before {content: \"▾\";}#sk-container-id-4 div.sk-estimator input.sk-toggleable__control:checked~label.sk-toggleable__label {background-color: #d4ebff;}#sk-container-id-4 div.sk-label input.sk-toggleable__control:checked~label.sk-toggleable__label {background-color: #d4ebff;}#sk-container-id-4 input.sk-hidden--visually {border: 0;clip: rect(1px 1px 1px 1px);clip: rect(1px, 1px, 1px, 1px);height: 1px;margin: -1px;overflow: hidden;padding: 0;position: absolute;width: 1px;}#sk-container-id-4 div.sk-estimator {font-family: monospace;background-color: #f0f8ff;border: 1px dotted black;border-radius: 0.25em;box-sizing: border-box;margin-bottom: 0.5em;}#sk-container-id-4 div.sk-estimator:hover {background-color: #d4ebff;}#sk-container-id-4 div.sk-parallel-item::after {content: \"\";width: 100%;border-bottom: 1px solid gray;flex-grow: 1;}#sk-container-id-4 div.sk-label:hover label.sk-toggleable__label {background-color: #d4ebff;}#sk-container-id-4 div.sk-serial::before {content: \"\";position: absolute;border-left: 1px solid gray;box-sizing: border-box;top: 0;bottom: 0;left: 50%;z-index: 0;}#sk-container-id-4 div.sk-serial {display: flex;flex-direction: column;align-items: center;background-color: white;padding-right: 0.2em;padding-left: 0.2em;position: relative;}#sk-container-id-4 div.sk-item {position: relative;z-index: 1;}#sk-container-id-4 div.sk-parallel {display: flex;align-items: stretch;justify-content: center;background-color: white;position: relative;}#sk-container-id-4 div.sk-item::before, #sk-container-id-4 div.sk-parallel-item::before {content: \"\";position: absolute;border-left: 1px solid gray;box-sizing: border-box;top: 0;bottom: 0;left: 50%;z-index: -1;}#sk-container-id-4 div.sk-parallel-item {display: flex;flex-direction: column;z-index: 1;position: relative;background-color: white;}#sk-container-id-4 div.sk-parallel-item:first-child::after {align-self: flex-end;width: 50%;}#sk-container-id-4 div.sk-parallel-item:last-child::after {align-self: flex-start;width: 50%;}#sk-container-id-4 div.sk-parallel-item:only-child::after {width: 0;}#sk-container-id-4 div.sk-dashed-wrapped {border: 1px dashed gray;margin: 0 0.4em 0.5em 0.4em;box-sizing: border-box;padding-bottom: 0.4em;background-color: white;}#sk-container-id-4 div.sk-label label {font-family: monospace;font-weight: bold;display: inline-block;line-height: 1.2em;}#sk-container-id-4 div.sk-label-container {text-align: center;}#sk-container-id-4 div.sk-container {/* jupyter's `normalize.less` sets `[hidden] { display: none; }` but bootstrap.min.css set `[hidden] { display: none !important; }` so we also need the `!important` here to be able to override the default hidden behavior on the sphinx rendered scikit-learn.org. See: https://github.com/scikit-learn/scikit-learn/issues/21755 */display: inline-block !important;position: relative;}#sk-container-id-4 div.sk-text-repr-fallback {display: none;}</style><div id=\"sk-container-id-4\" class=\"sk-top-container\"><div class=\"sk-text-repr-fallback\"><pre>ColumnTransformer(transformers=[(&#x27;ohe&#x27;, OneHotEncoder(drop=&#x27;first&#x27;),\n",
       "                                 [&#x27;TypeofContact&#x27;, &#x27;Occupation&#x27;, &#x27;Gender&#x27;,\n",
       "                                  &#x27;ProductPitched&#x27;, &#x27;MaritalStatus&#x27;,\n",
       "                                  &#x27;Designation&#x27;]),\n",
       "                                (&#x27;stscaler&#x27;, StandardScaler(),\n",
       "                                 [&#x27;Age&#x27;, &#x27;CityTier&#x27;, &#x27;DurationOfPitch&#x27;,\n",
       "                                  &#x27;NumberOfFollowups&#x27;, &#x27;PreferredPropertyStar&#x27;,\n",
       "                                  &#x27;NumberOfTrips&#x27;, &#x27;Passport&#x27;,\n",
       "                                  &#x27;PitchSatisfactionScore&#x27;, &#x27;OwnCar&#x27;,\n",
       "                                  &#x27;MonthlyIncome&#x27;, &#x27;TotalVisiting&#x27;])])</pre><b>In a Jupyter environment, please rerun this cell to show the HTML representation or trust the notebook. <br />On GitHub, the HTML representation is unable to render, please try loading this page with nbviewer.org.</b></div><div class=\"sk-container\" hidden><div class=\"sk-item sk-dashed-wrapped\"><div class=\"sk-label-container\"><div class=\"sk-label sk-toggleable\"><input class=\"sk-toggleable__control sk-hidden--visually\" id=\"sk-estimator-id-16\" type=\"checkbox\" ><label for=\"sk-estimator-id-16\" class=\"sk-toggleable__label sk-toggleable__label-arrow\">ColumnTransformer</label><div class=\"sk-toggleable__content\"><pre>ColumnTransformer(transformers=[(&#x27;ohe&#x27;, OneHotEncoder(drop=&#x27;first&#x27;),\n",
       "                                 [&#x27;TypeofContact&#x27;, &#x27;Occupation&#x27;, &#x27;Gender&#x27;,\n",
       "                                  &#x27;ProductPitched&#x27;, &#x27;MaritalStatus&#x27;,\n",
       "                                  &#x27;Designation&#x27;]),\n",
       "                                (&#x27;stscaler&#x27;, StandardScaler(),\n",
       "                                 [&#x27;Age&#x27;, &#x27;CityTier&#x27;, &#x27;DurationOfPitch&#x27;,\n",
       "                                  &#x27;NumberOfFollowups&#x27;, &#x27;PreferredPropertyStar&#x27;,\n",
       "                                  &#x27;NumberOfTrips&#x27;, &#x27;Passport&#x27;,\n",
       "                                  &#x27;PitchSatisfactionScore&#x27;, &#x27;OwnCar&#x27;,\n",
       "                                  &#x27;MonthlyIncome&#x27;, &#x27;TotalVisiting&#x27;])])</pre></div></div></div><div class=\"sk-parallel\"><div class=\"sk-parallel-item\"><div class=\"sk-item\"><div class=\"sk-label-container\"><div class=\"sk-label sk-toggleable\"><input class=\"sk-toggleable__control sk-hidden--visually\" id=\"sk-estimator-id-17\" type=\"checkbox\" ><label for=\"sk-estimator-id-17\" class=\"sk-toggleable__label sk-toggleable__label-arrow\">ohe</label><div class=\"sk-toggleable__content\"><pre>[&#x27;TypeofContact&#x27;, &#x27;Occupation&#x27;, &#x27;Gender&#x27;, &#x27;ProductPitched&#x27;, &#x27;MaritalStatus&#x27;, &#x27;Designation&#x27;]</pre></div></div></div><div class=\"sk-serial\"><div class=\"sk-item\"><div class=\"sk-estimator sk-toggleable\"><input class=\"sk-toggleable__control sk-hidden--visually\" id=\"sk-estimator-id-18\" type=\"checkbox\" ><label for=\"sk-estimator-id-18\" class=\"sk-toggleable__label sk-toggleable__label-arrow\">OneHotEncoder</label><div class=\"sk-toggleable__content\"><pre>OneHotEncoder(drop=&#x27;first&#x27;)</pre></div></div></div></div></div></div><div class=\"sk-parallel-item\"><div class=\"sk-item\"><div class=\"sk-label-container\"><div class=\"sk-label sk-toggleable\"><input class=\"sk-toggleable__control sk-hidden--visually\" id=\"sk-estimator-id-19\" type=\"checkbox\" ><label for=\"sk-estimator-id-19\" class=\"sk-toggleable__label sk-toggleable__label-arrow\">stscaler</label><div class=\"sk-toggleable__content\"><pre>[&#x27;Age&#x27;, &#x27;CityTier&#x27;, &#x27;DurationOfPitch&#x27;, &#x27;NumberOfFollowups&#x27;, &#x27;PreferredPropertyStar&#x27;, &#x27;NumberOfTrips&#x27;, &#x27;Passport&#x27;, &#x27;PitchSatisfactionScore&#x27;, &#x27;OwnCar&#x27;, &#x27;MonthlyIncome&#x27;, &#x27;TotalVisiting&#x27;]</pre></div></div></div><div class=\"sk-serial\"><div class=\"sk-item\"><div class=\"sk-estimator sk-toggleable\"><input class=\"sk-toggleable__control sk-hidden--visually\" id=\"sk-estimator-id-20\" type=\"checkbox\" ><label for=\"sk-estimator-id-20\" class=\"sk-toggleable__label sk-toggleable__label-arrow\">StandardScaler</label><div class=\"sk-toggleable__content\"><pre>StandardScaler()</pre></div></div></div></div></div></div></div></div></div></div>"
      ],
      "text/plain": [
       "ColumnTransformer(transformers=[('ohe', OneHotEncoder(drop='first'),\n",
       "                                 ['TypeofContact', 'Occupation', 'Gender',\n",
       "                                  'ProductPitched', 'MaritalStatus',\n",
       "                                  'Designation']),\n",
       "                                ('stscaler', StandardScaler(),\n",
       "                                 ['Age', 'CityTier', 'DurationOfPitch',\n",
       "                                  'NumberOfFollowups', 'PreferredPropertyStar',\n",
       "                                  'NumberOfTrips', 'Passport',\n",
       "                                  'PitchSatisfactionScore', 'OwnCar',\n",
       "                                  'MonthlyIncome', 'TotalVisiting'])])"
      ]
     },
     "execution_count": 364,
     "metadata": {},
     "output_type": "execute_result"
    }
   ],
   "source": [
    "preproc"
   ]
  },
  {
   "cell_type": "code",
   "execution_count": 366,
   "id": "24f2f854-7f40-42d5-bf53-bb7776c7db93",
   "metadata": {},
   "outputs": [
    {
     "name": "stdout",
     "output_type": "stream",
     "text": [
      "<class 'pandas.core.frame.DataFrame'>\n",
      "Index: 3910 entries, 3995 to 860\n",
      "Data columns (total 17 columns):\n",
      " #   Column                  Non-Null Count  Dtype  \n",
      "---  ------                  --------------  -----  \n",
      " 0   Age                     3910 non-null   float64\n",
      " 1   TypeofContact           3910 non-null   object \n",
      " 2   CityTier                3910 non-null   int64  \n",
      " 3   DurationOfPitch         3910 non-null   float64\n",
      " 4   Occupation              3910 non-null   object \n",
      " 5   Gender                  3910 non-null   object \n",
      " 6   NumberOfFollowups       3910 non-null   float64\n",
      " 7   ProductPitched          3910 non-null   object \n",
      " 8   PreferredPropertyStar   3910 non-null   float64\n",
      " 9   MaritalStatus           3910 non-null   object \n",
      " 10  NumberOfTrips           3910 non-null   float64\n",
      " 11  Passport                3910 non-null   int64  \n",
      " 12  PitchSatisfactionScore  3910 non-null   int64  \n",
      " 13  OwnCar                  3910 non-null   int64  \n",
      " 14  Designation             3910 non-null   object \n",
      " 15  MonthlyIncome           3910 non-null   float64\n",
      " 16  TotalVisiting           3910 non-null   float64\n",
      "dtypes: float64(7), int64(4), object(6)\n",
      "memory usage: 549.8+ KB\n"
     ]
    }
   ],
   "source": [
    "X_train.info()"
   ]
  },
  {
   "cell_type": "code",
   "execution_count": 368,
   "id": "6329c249-39b6-4727-8e25-50c93ccd98a4",
   "metadata": {},
   "outputs": [
    {
     "data": {
      "text/plain": [
       "Index(['Age', 'TypeofContact', 'CityTier', 'DurationOfPitch', 'Occupation',\n",
       "       'Gender', 'NumberOfFollowups', 'ProductPitched',\n",
       "       'PreferredPropertyStar', 'MaritalStatus', 'NumberOfTrips', 'Passport',\n",
       "       'PitchSatisfactionScore', 'OwnCar', 'Designation', 'MonthlyIncome',\n",
       "       'TotalVisiting'],\n",
       "      dtype='object')"
      ]
     },
     "execution_count": 368,
     "metadata": {},
     "output_type": "execute_result"
    }
   ],
   "source": [
    "X_train.columns"
   ]
  },
  {
   "cell_type": "code",
   "execution_count": 370,
   "id": "2ee5d256-e49a-4481-9a62-1364aca23839",
   "metadata": {},
   "outputs": [],
   "source": [
    "X_train_scaled = preproc.fit_transform(X_train)\n"
   ]
  },
  {
   "cell_type": "code",
   "execution_count": 372,
   "id": "3856bb3b-b286-49e2-810e-01a223aa023b",
   "metadata": {},
   "outputs": [],
   "source": [
    "X_test_scaled = preproc.transform(X_test)"
   ]
  },
  {
   "cell_type": "code",
   "execution_count": 374,
   "id": "4fb7a38b-8588-4e8a-a708-8d9815002fe9",
   "metadata": {},
   "outputs": [
    {
     "data": {
      "text/plain": [
       "(3910, 26)"
      ]
     },
     "execution_count": 374,
     "metadata": {},
     "output_type": "execute_result"
    }
   ],
   "source": [
    "X_train_scaled.shape"
   ]
  },
  {
   "cell_type": "code",
   "execution_count": 376,
   "id": "502d5d26-fe7f-4f4c-9a25-d739a87c9f41",
   "metadata": {},
   "outputs": [
    {
     "data": {
      "text/plain": [
       "(978, 26)"
      ]
     },
     "execution_count": 376,
     "metadata": {},
     "output_type": "execute_result"
    }
   ],
   "source": [
    "X_test_scaled.shape"
   ]
  },
  {
   "cell_type": "code",
   "execution_count": 378,
   "id": "c990701e-633c-457d-af8c-082f9d79bce1",
   "metadata": {},
   "outputs": [],
   "source": [
    "X_train_scaled = pd.DataFrame(X_train_scaled,columns=preproc.get_feature_names_out())"
   ]
  },
  {
   "cell_type": "code",
   "execution_count": 388,
   "id": "cebc948a-f0ea-4fe5-9a04-fb602bfdc844",
   "metadata": {},
   "outputs": [],
   "source": [
    "X_test_scaled = pd.DataFrame(X_test_scaled,columns=preproc.get_feature_names_out())"
   ]
  },
  {
   "cell_type": "code",
   "execution_count": 390,
   "id": "73745ece-3b52-4de9-9441-d9fa301e5340",
   "metadata": {},
   "outputs": [
    {
     "data": {
      "text/html": [
       "<div>\n",
       "<style scoped>\n",
       "    .dataframe tbody tr th:only-of-type {\n",
       "        vertical-align: middle;\n",
       "    }\n",
       "\n",
       "    .dataframe tbody tr th {\n",
       "        vertical-align: top;\n",
       "    }\n",
       "\n",
       "    .dataframe thead th {\n",
       "        text-align: right;\n",
       "    }\n",
       "</style>\n",
       "<table border=\"1\" class=\"dataframe\">\n",
       "  <thead>\n",
       "    <tr style=\"text-align: right;\">\n",
       "      <th></th>\n",
       "      <th>ohe__TypeofContact_Self Enquiry</th>\n",
       "      <th>ohe__Occupation_Large Business</th>\n",
       "      <th>ohe__Occupation_Salaried</th>\n",
       "      <th>ohe__Occupation_Small Business</th>\n",
       "      <th>ohe__Gender_Male</th>\n",
       "      <th>ohe__ProductPitched_Deluxe</th>\n",
       "      <th>ohe__ProductPitched_King</th>\n",
       "      <th>ohe__ProductPitched_Standard</th>\n",
       "      <th>ohe__ProductPitched_Super Deluxe</th>\n",
       "      <th>ohe__MaritalStatus_Married</th>\n",
       "      <th>...</th>\n",
       "      <th>stscaler__CityTier</th>\n",
       "      <th>stscaler__DurationOfPitch</th>\n",
       "      <th>stscaler__NumberOfFollowups</th>\n",
       "      <th>stscaler__PreferredPropertyStar</th>\n",
       "      <th>stscaler__NumberOfTrips</th>\n",
       "      <th>stscaler__Passport</th>\n",
       "      <th>stscaler__PitchSatisfactionScore</th>\n",
       "      <th>stscaler__OwnCar</th>\n",
       "      <th>stscaler__MonthlyIncome</th>\n",
       "      <th>stscaler__TotalVisiting</th>\n",
       "    </tr>\n",
       "  </thead>\n",
       "  <tbody>\n",
       "    <tr>\n",
       "      <th>0</th>\n",
       "      <td>1.0</td>\n",
       "      <td>0.0</td>\n",
       "      <td>0.0</td>\n",
       "      <td>1.0</td>\n",
       "      <td>1.0</td>\n",
       "      <td>0.0</td>\n",
       "      <td>0.0</td>\n",
       "      <td>0.0</td>\n",
       "      <td>0.0</td>\n",
       "      <td>0.0</td>\n",
       "      <td>...</td>\n",
       "      <td>-0.721400</td>\n",
       "      <td>-1.020350</td>\n",
       "      <td>1.284279</td>\n",
       "      <td>-0.725271</td>\n",
       "      <td>-0.127737</td>\n",
       "      <td>-0.632399</td>\n",
       "      <td>0.679690</td>\n",
       "      <td>0.782966</td>\n",
       "      <td>-0.382245</td>\n",
       "      <td>-0.774151</td>\n",
       "    </tr>\n",
       "    <tr>\n",
       "      <th>1</th>\n",
       "      <td>1.0</td>\n",
       "      <td>0.0</td>\n",
       "      <td>1.0</td>\n",
       "      <td>0.0</td>\n",
       "      <td>1.0</td>\n",
       "      <td>0.0</td>\n",
       "      <td>0.0</td>\n",
       "      <td>0.0</td>\n",
       "      <td>0.0</td>\n",
       "      <td>1.0</td>\n",
       "      <td>...</td>\n",
       "      <td>-0.721400</td>\n",
       "      <td>0.690023</td>\n",
       "      <td>0.282777</td>\n",
       "      <td>-0.725271</td>\n",
       "      <td>1.511598</td>\n",
       "      <td>-0.632399</td>\n",
       "      <td>0.679690</td>\n",
       "      <td>0.782966</td>\n",
       "      <td>-0.459799</td>\n",
       "      <td>0.643615</td>\n",
       "    </tr>\n",
       "    <tr>\n",
       "      <th>2</th>\n",
       "      <td>1.0</td>\n",
       "      <td>1.0</td>\n",
       "      <td>0.0</td>\n",
       "      <td>0.0</td>\n",
       "      <td>0.0</td>\n",
       "      <td>0.0</td>\n",
       "      <td>0.0</td>\n",
       "      <td>0.0</td>\n",
       "      <td>0.0</td>\n",
       "      <td>0.0</td>\n",
       "      <td>...</td>\n",
       "      <td>-0.721400</td>\n",
       "      <td>-1.020350</td>\n",
       "      <td>0.282777</td>\n",
       "      <td>1.771041</td>\n",
       "      <td>0.418708</td>\n",
       "      <td>-0.632399</td>\n",
       "      <td>0.679690</td>\n",
       "      <td>0.782966</td>\n",
       "      <td>-0.245196</td>\n",
       "      <td>-0.065268</td>\n",
       "    </tr>\n",
       "    <tr>\n",
       "      <th>3</th>\n",
       "      <td>1.0</td>\n",
       "      <td>0.0</td>\n",
       "      <td>1.0</td>\n",
       "      <td>0.0</td>\n",
       "      <td>1.0</td>\n",
       "      <td>1.0</td>\n",
       "      <td>0.0</td>\n",
       "      <td>0.0</td>\n",
       "      <td>0.0</td>\n",
       "      <td>1.0</td>\n",
       "      <td>...</td>\n",
       "      <td>-0.721400</td>\n",
       "      <td>-1.020350</td>\n",
       "      <td>1.284279</td>\n",
       "      <td>-0.725271</td>\n",
       "      <td>-0.127737</td>\n",
       "      <td>-0.632399</td>\n",
       "      <td>1.408395</td>\n",
       "      <td>-1.277194</td>\n",
       "      <td>0.213475</td>\n",
       "      <td>-0.065268</td>\n",
       "    </tr>\n",
       "    <tr>\n",
       "      <th>4</th>\n",
       "      <td>0.0</td>\n",
       "      <td>0.0</td>\n",
       "      <td>0.0</td>\n",
       "      <td>1.0</td>\n",
       "      <td>0.0</td>\n",
       "      <td>0.0</td>\n",
       "      <td>0.0</td>\n",
       "      <td>0.0</td>\n",
       "      <td>0.0</td>\n",
       "      <td>0.0</td>\n",
       "      <td>...</td>\n",
       "      <td>-0.721400</td>\n",
       "      <td>2.400396</td>\n",
       "      <td>-1.720227</td>\n",
       "      <td>-0.725271</td>\n",
       "      <td>1.511598</td>\n",
       "      <td>-0.632399</td>\n",
       "      <td>-0.049015</td>\n",
       "      <td>-1.277194</td>\n",
       "      <td>-0.024889</td>\n",
       "      <td>2.061382</td>\n",
       "    </tr>\n",
       "    <tr>\n",
       "      <th>...</th>\n",
       "      <td>...</td>\n",
       "      <td>...</td>\n",
       "      <td>...</td>\n",
       "      <td>...</td>\n",
       "      <td>...</td>\n",
       "      <td>...</td>\n",
       "      <td>...</td>\n",
       "      <td>...</td>\n",
       "      <td>...</td>\n",
       "      <td>...</td>\n",
       "      <td>...</td>\n",
       "      <td>...</td>\n",
       "      <td>...</td>\n",
       "      <td>...</td>\n",
       "      <td>...</td>\n",
       "      <td>...</td>\n",
       "      <td>...</td>\n",
       "      <td>...</td>\n",
       "      <td>...</td>\n",
       "      <td>...</td>\n",
       "      <td>...</td>\n",
       "    </tr>\n",
       "    <tr>\n",
       "      <th>3905</th>\n",
       "      <td>1.0</td>\n",
       "      <td>0.0</td>\n",
       "      <td>0.0</td>\n",
       "      <td>1.0</td>\n",
       "      <td>1.0</td>\n",
       "      <td>0.0</td>\n",
       "      <td>0.0</td>\n",
       "      <td>0.0</td>\n",
       "      <td>0.0</td>\n",
       "      <td>0.0</td>\n",
       "      <td>...</td>\n",
       "      <td>-0.721400</td>\n",
       "      <td>-0.653841</td>\n",
       "      <td>1.284279</td>\n",
       "      <td>-0.725271</td>\n",
       "      <td>-0.674182</td>\n",
       "      <td>-0.632399</td>\n",
       "      <td>-1.506426</td>\n",
       "      <td>0.782966</td>\n",
       "      <td>-0.536973</td>\n",
       "      <td>0.643615</td>\n",
       "    </tr>\n",
       "    <tr>\n",
       "      <th>3906</th>\n",
       "      <td>1.0</td>\n",
       "      <td>0.0</td>\n",
       "      <td>1.0</td>\n",
       "      <td>0.0</td>\n",
       "      <td>0.0</td>\n",
       "      <td>0.0</td>\n",
       "      <td>0.0</td>\n",
       "      <td>0.0</td>\n",
       "      <td>1.0</td>\n",
       "      <td>0.0</td>\n",
       "      <td>...</td>\n",
       "      <td>1.455047</td>\n",
       "      <td>-0.898180</td>\n",
       "      <td>-0.718725</td>\n",
       "      <td>1.771041</td>\n",
       "      <td>-1.220627</td>\n",
       "      <td>-0.632399</td>\n",
       "      <td>1.408395</td>\n",
       "      <td>0.782966</td>\n",
       "      <td>1.529609</td>\n",
       "      <td>-0.065268</td>\n",
       "    </tr>\n",
       "    <tr>\n",
       "      <th>3907</th>\n",
       "      <td>0.0</td>\n",
       "      <td>0.0</td>\n",
       "      <td>0.0</td>\n",
       "      <td>1.0</td>\n",
       "      <td>0.0</td>\n",
       "      <td>0.0</td>\n",
       "      <td>0.0</td>\n",
       "      <td>0.0</td>\n",
       "      <td>0.0</td>\n",
       "      <td>0.0</td>\n",
       "      <td>...</td>\n",
       "      <td>1.455047</td>\n",
       "      <td>1.545210</td>\n",
       "      <td>0.282777</td>\n",
       "      <td>-0.725271</td>\n",
       "      <td>2.058043</td>\n",
       "      <td>-0.632399</td>\n",
       "      <td>-0.777720</td>\n",
       "      <td>0.782966</td>\n",
       "      <td>-0.360576</td>\n",
       "      <td>0.643615</td>\n",
       "    </tr>\n",
       "    <tr>\n",
       "      <th>3908</th>\n",
       "      <td>1.0</td>\n",
       "      <td>0.0</td>\n",
       "      <td>0.0</td>\n",
       "      <td>1.0</td>\n",
       "      <td>0.0</td>\n",
       "      <td>1.0</td>\n",
       "      <td>0.0</td>\n",
       "      <td>0.0</td>\n",
       "      <td>0.0</td>\n",
       "      <td>1.0</td>\n",
       "      <td>...</td>\n",
       "      <td>1.455047</td>\n",
       "      <td>1.789549</td>\n",
       "      <td>1.284279</td>\n",
       "      <td>-0.725271</td>\n",
       "      <td>-0.127737</td>\n",
       "      <td>-0.632399</td>\n",
       "      <td>-1.506426</td>\n",
       "      <td>0.782966</td>\n",
       "      <td>-0.252799</td>\n",
       "      <td>0.643615</td>\n",
       "    </tr>\n",
       "    <tr>\n",
       "      <th>3909</th>\n",
       "      <td>0.0</td>\n",
       "      <td>0.0</td>\n",
       "      <td>1.0</td>\n",
       "      <td>0.0</td>\n",
       "      <td>1.0</td>\n",
       "      <td>0.0</td>\n",
       "      <td>0.0</td>\n",
       "      <td>0.0</td>\n",
       "      <td>0.0</td>\n",
       "      <td>0.0</td>\n",
       "      <td>...</td>\n",
       "      <td>-0.721400</td>\n",
       "      <td>-0.776011</td>\n",
       "      <td>0.282777</td>\n",
       "      <td>-0.725271</td>\n",
       "      <td>-1.220627</td>\n",
       "      <td>1.581280</td>\n",
       "      <td>-0.049015</td>\n",
       "      <td>-1.277194</td>\n",
       "      <td>-1.082511</td>\n",
       "      <td>-1.483035</td>\n",
       "    </tr>\n",
       "  </tbody>\n",
       "</table>\n",
       "<p>3910 rows × 26 columns</p>\n",
       "</div>"
      ],
      "text/plain": [
       "      ohe__TypeofContact_Self Enquiry  ohe__Occupation_Large Business  \\\n",
       "0                                 1.0                             0.0   \n",
       "1                                 1.0                             0.0   \n",
       "2                                 1.0                             1.0   \n",
       "3                                 1.0                             0.0   \n",
       "4                                 0.0                             0.0   \n",
       "...                               ...                             ...   \n",
       "3905                              1.0                             0.0   \n",
       "3906                              1.0                             0.0   \n",
       "3907                              0.0                             0.0   \n",
       "3908                              1.0                             0.0   \n",
       "3909                              0.0                             0.0   \n",
       "\n",
       "      ohe__Occupation_Salaried  ohe__Occupation_Small Business  \\\n",
       "0                          0.0                             1.0   \n",
       "1                          1.0                             0.0   \n",
       "2                          0.0                             0.0   \n",
       "3                          1.0                             0.0   \n",
       "4                          0.0                             1.0   \n",
       "...                        ...                             ...   \n",
       "3905                       0.0                             1.0   \n",
       "3906                       1.0                             0.0   \n",
       "3907                       0.0                             1.0   \n",
       "3908                       0.0                             1.0   \n",
       "3909                       1.0                             0.0   \n",
       "\n",
       "      ohe__Gender_Male  ohe__ProductPitched_Deluxe  ohe__ProductPitched_King  \\\n",
       "0                  1.0                         0.0                       0.0   \n",
       "1                  1.0                         0.0                       0.0   \n",
       "2                  0.0                         0.0                       0.0   \n",
       "3                  1.0                         1.0                       0.0   \n",
       "4                  0.0                         0.0                       0.0   \n",
       "...                ...                         ...                       ...   \n",
       "3905               1.0                         0.0                       0.0   \n",
       "3906               0.0                         0.0                       0.0   \n",
       "3907               0.0                         0.0                       0.0   \n",
       "3908               0.0                         1.0                       0.0   \n",
       "3909               1.0                         0.0                       0.0   \n",
       "\n",
       "      ohe__ProductPitched_Standard  ohe__ProductPitched_Super Deluxe  \\\n",
       "0                              0.0                               0.0   \n",
       "1                              0.0                               0.0   \n",
       "2                              0.0                               0.0   \n",
       "3                              0.0                               0.0   \n",
       "4                              0.0                               0.0   \n",
       "...                            ...                               ...   \n",
       "3905                           0.0                               0.0   \n",
       "3906                           0.0                               1.0   \n",
       "3907                           0.0                               0.0   \n",
       "3908                           0.0                               0.0   \n",
       "3909                           0.0                               0.0   \n",
       "\n",
       "      ohe__MaritalStatus_Married  ...  stscaler__CityTier  \\\n",
       "0                            0.0  ...           -0.721400   \n",
       "1                            1.0  ...           -0.721400   \n",
       "2                            0.0  ...           -0.721400   \n",
       "3                            1.0  ...           -0.721400   \n",
       "4                            0.0  ...           -0.721400   \n",
       "...                          ...  ...                 ...   \n",
       "3905                         0.0  ...           -0.721400   \n",
       "3906                         0.0  ...            1.455047   \n",
       "3907                         0.0  ...            1.455047   \n",
       "3908                         1.0  ...            1.455047   \n",
       "3909                         0.0  ...           -0.721400   \n",
       "\n",
       "      stscaler__DurationOfPitch  stscaler__NumberOfFollowups  \\\n",
       "0                     -1.020350                     1.284279   \n",
       "1                      0.690023                     0.282777   \n",
       "2                     -1.020350                     0.282777   \n",
       "3                     -1.020350                     1.284279   \n",
       "4                      2.400396                    -1.720227   \n",
       "...                         ...                          ...   \n",
       "3905                  -0.653841                     1.284279   \n",
       "3906                  -0.898180                    -0.718725   \n",
       "3907                   1.545210                     0.282777   \n",
       "3908                   1.789549                     1.284279   \n",
       "3909                  -0.776011                     0.282777   \n",
       "\n",
       "      stscaler__PreferredPropertyStar  stscaler__NumberOfTrips  \\\n",
       "0                           -0.725271                -0.127737   \n",
       "1                           -0.725271                 1.511598   \n",
       "2                            1.771041                 0.418708   \n",
       "3                           -0.725271                -0.127737   \n",
       "4                           -0.725271                 1.511598   \n",
       "...                               ...                      ...   \n",
       "3905                        -0.725271                -0.674182   \n",
       "3906                         1.771041                -1.220627   \n",
       "3907                        -0.725271                 2.058043   \n",
       "3908                        -0.725271                -0.127737   \n",
       "3909                        -0.725271                -1.220627   \n",
       "\n",
       "      stscaler__Passport  stscaler__PitchSatisfactionScore  stscaler__OwnCar  \\\n",
       "0              -0.632399                          0.679690          0.782966   \n",
       "1              -0.632399                          0.679690          0.782966   \n",
       "2              -0.632399                          0.679690          0.782966   \n",
       "3              -0.632399                          1.408395         -1.277194   \n",
       "4              -0.632399                         -0.049015         -1.277194   \n",
       "...                  ...                               ...               ...   \n",
       "3905           -0.632399                         -1.506426          0.782966   \n",
       "3906           -0.632399                          1.408395          0.782966   \n",
       "3907           -0.632399                         -0.777720          0.782966   \n",
       "3908           -0.632399                         -1.506426          0.782966   \n",
       "3909            1.581280                         -0.049015         -1.277194   \n",
       "\n",
       "      stscaler__MonthlyIncome  stscaler__TotalVisiting  \n",
       "0                   -0.382245                -0.774151  \n",
       "1                   -0.459799                 0.643615  \n",
       "2                   -0.245196                -0.065268  \n",
       "3                    0.213475                -0.065268  \n",
       "4                   -0.024889                 2.061382  \n",
       "...                       ...                      ...  \n",
       "3905                -0.536973                 0.643615  \n",
       "3906                 1.529609                -0.065268  \n",
       "3907                -0.360576                 0.643615  \n",
       "3908                -0.252799                 0.643615  \n",
       "3909                -1.082511                -1.483035  \n",
       "\n",
       "[3910 rows x 26 columns]"
      ]
     },
     "execution_count": 390,
     "metadata": {},
     "output_type": "execute_result"
    }
   ],
   "source": [
    "X_train_scaled"
   ]
  },
  {
   "cell_type": "code",
   "execution_count": 392,
   "id": "ed0d65b6-7bde-407f-b509-d8e899511c56",
   "metadata": {},
   "outputs": [
    {
     "data": {
      "text/plain": [
       "array(['ohe__TypeofContact_Self Enquiry',\n",
       "       'ohe__Occupation_Large Business', 'ohe__Occupation_Salaried',\n",
       "       'ohe__Occupation_Small Business', 'ohe__Gender_Male',\n",
       "       'ohe__ProductPitched_Deluxe', 'ohe__ProductPitched_King',\n",
       "       'ohe__ProductPitched_Standard', 'ohe__ProductPitched_Super Deluxe',\n",
       "       'ohe__MaritalStatus_Married', 'ohe__MaritalStatus_Single',\n",
       "       'ohe__Designation_Executive', 'ohe__Designation_Manager',\n",
       "       'ohe__Designation_Senior Manager', 'ohe__Designation_VP',\n",
       "       'stscaler__Age', 'stscaler__CityTier', 'stscaler__DurationOfPitch',\n",
       "       'stscaler__NumberOfFollowups', 'stscaler__PreferredPropertyStar',\n",
       "       'stscaler__NumberOfTrips', 'stscaler__Passport',\n",
       "       'stscaler__PitchSatisfactionScore', 'stscaler__OwnCar',\n",
       "       'stscaler__MonthlyIncome', 'stscaler__TotalVisiting'], dtype=object)"
      ]
     },
     "execution_count": 392,
     "metadata": {},
     "output_type": "execute_result"
    }
   ],
   "source": [
    "column_name = preproc.get_feature_names_out()\n",
    "column_name"
   ]
  },
  {
   "cell_type": "code",
   "execution_count": 394,
   "id": "4a60742c-c2e8-44c7-b90b-020d4e9c946a",
   "metadata": {},
   "outputs": [
    {
     "data": {
      "image/png": "[encoded data removed]",
      "text/plain": [
       "<Figure size 2000x500 with 1 Axes>"
      ]
     },
     "metadata": {},
     "output_type": "display_data"
    }
   ],
   "source": [
    "plt.figure(figsize=(20,5))\n",
    "plt.boxplot(X_train_scaled)\n",
    "plt.xticks(ticks=range(1, len(column_name) + 1), labels=column_name, rotation=90)\n",
    "plt.show()"
   ]
  },
  {
   "cell_type": "code",
   "execution_count": 395,
   "id": "3dca0d07-5b7e-4b07-98f3-29d58f757f4e",
   "metadata": {},
   "outputs": [],
   "source": [
    "from sklearn.ensemble import RandomForestClassifier\n",
    "from sklearn.ensemble import GradientBoostingClassifier\n",
    "from sklearn.ensemble import AdaBoostClassifier\n",
    "\n",
    "from sklearn.tree import DecisionTreeClassifier\n",
    "\n",
    "from sklearn.linear_model import LogisticRegression\n",
    "\n",
    "from sklearn.metrics import accuracy_score, classification_report,ConfusionMatrixDisplay, \\\n",
    "                            precision_score, recall_score, f1_score, roc_auc_score,roc_curve "
   ]
  },
  {
   "cell_type": "code",
   "execution_count": 398,
   "id": "dc0f4b71-76c1-4a0e-9d01-78064c0662c6",
   "metadata": {},
   "outputs": [
    {
     "data": {
      "text/plain": [
       "144     0\n",
       "79      0\n",
       "2098    0\n",
       "4738    0\n",
       "2858    1\n",
       "       ..\n",
       "2908    0\n",
       "2059    1\n",
       "4872    1\n",
       "843     0\n",
       "2572    0\n",
       "Name: ProdTaken, Length: 978, dtype: int64"
      ]
     },
     "execution_count": 398,
     "metadata": {},
     "output_type": "execute_result"
    }
   ],
   "source": [
    "y_train\n",
    "y_test"
   ]
  },
  {
   "cell_type": "code",
   "execution_count": null,
   "id": "f0f16e91-8a8c-459d-bdb4-36f0886139bc",
   "metadata": {},
   "outputs": [],
   "source": []
  },
  {
   "cell_type": "code",
   "execution_count": 401,
   "id": "8f71cd54-3b9e-4777-b667-5df62dcc0de9",
   "metadata": {},
   "outputs": [
    {
     "data": {
      "text/html": [
       "<div>\n",
       "<style scoped>\n",
       "    .dataframe tbody tr th:only-of-type {\n",
       "        vertical-align: middle;\n",
       "    }\n",
       "\n",
       "    .dataframe tbody tr th {\n",
       "        vertical-align: top;\n",
       "    }\n",
       "\n",
       "    .dataframe thead th {\n",
       "        text-align: right;\n",
       "    }\n",
       "</style>\n",
       "<table border=\"1\" class=\"dataframe\">\n",
       "  <thead>\n",
       "    <tr style=\"text-align: right;\">\n",
       "      <th></th>\n",
       "      <th>ohe__TypeofContact_Self Enquiry</th>\n",
       "      <th>ohe__Occupation_Large Business</th>\n",
       "      <th>ohe__Occupation_Salaried</th>\n",
       "      <th>ohe__Occupation_Small Business</th>\n",
       "      <th>ohe__Gender_Male</th>\n",
       "      <th>ohe__ProductPitched_Deluxe</th>\n",
       "      <th>ohe__ProductPitched_King</th>\n",
       "      <th>ohe__ProductPitched_Standard</th>\n",
       "      <th>ohe__ProductPitched_Super Deluxe</th>\n",
       "      <th>ohe__MaritalStatus_Married</th>\n",
       "      <th>...</th>\n",
       "      <th>stscaler__CityTier</th>\n",
       "      <th>stscaler__DurationOfPitch</th>\n",
       "      <th>stscaler__NumberOfFollowups</th>\n",
       "      <th>stscaler__PreferredPropertyStar</th>\n",
       "      <th>stscaler__NumberOfTrips</th>\n",
       "      <th>stscaler__Passport</th>\n",
       "      <th>stscaler__PitchSatisfactionScore</th>\n",
       "      <th>stscaler__OwnCar</th>\n",
       "      <th>stscaler__MonthlyIncome</th>\n",
       "      <th>stscaler__TotalVisiting</th>\n",
       "    </tr>\n",
       "  </thead>\n",
       "  <tbody>\n",
       "    <tr>\n",
       "      <th>0</th>\n",
       "      <td>0.0</td>\n",
       "      <td>0.0</td>\n",
       "      <td>0.0</td>\n",
       "      <td>1.0</td>\n",
       "      <td>1.0</td>\n",
       "      <td>1.0</td>\n",
       "      <td>0.0</td>\n",
       "      <td>0.0</td>\n",
       "      <td>0.0</td>\n",
       "      <td>1.0</td>\n",
       "      <td>...</td>\n",
       "      <td>1.455047</td>\n",
       "      <td>-0.287333</td>\n",
       "      <td>1.284279</td>\n",
       "      <td>-0.725271</td>\n",
       "      <td>-1.220627</td>\n",
       "      <td>-0.632399</td>\n",
       "      <td>-0.777720</td>\n",
       "      <td>-1.277194</td>\n",
       "      <td>-0.737510</td>\n",
       "      <td>-0.774151</td>\n",
       "    </tr>\n",
       "    <tr>\n",
       "      <th>1</th>\n",
       "      <td>1.0</td>\n",
       "      <td>0.0</td>\n",
       "      <td>0.0</td>\n",
       "      <td>1.0</td>\n",
       "      <td>1.0</td>\n",
       "      <td>1.0</td>\n",
       "      <td>0.0</td>\n",
       "      <td>0.0</td>\n",
       "      <td>0.0</td>\n",
       "      <td>1.0</td>\n",
       "      <td>...</td>\n",
       "      <td>0.366823</td>\n",
       "      <td>-0.531672</td>\n",
       "      <td>0.282777</td>\n",
       "      <td>0.522885</td>\n",
       "      <td>-1.220627</td>\n",
       "      <td>1.581280</td>\n",
       "      <td>1.408395</td>\n",
       "      <td>-1.277194</td>\n",
       "      <td>-0.670411</td>\n",
       "      <td>-0.065268</td>\n",
       "    </tr>\n",
       "    <tr>\n",
       "      <th>2</th>\n",
       "      <td>1.0</td>\n",
       "      <td>0.0</td>\n",
       "      <td>0.0</td>\n",
       "      <td>1.0</td>\n",
       "      <td>1.0</td>\n",
       "      <td>1.0</td>\n",
       "      <td>0.0</td>\n",
       "      <td>0.0</td>\n",
       "      <td>0.0</td>\n",
       "      <td>1.0</td>\n",
       "      <td>...</td>\n",
       "      <td>1.455047</td>\n",
       "      <td>0.812193</td>\n",
       "      <td>0.282777</td>\n",
       "      <td>-0.725271</td>\n",
       "      <td>0.965153</td>\n",
       "      <td>-0.632399</td>\n",
       "      <td>1.408395</td>\n",
       "      <td>0.782966</td>\n",
       "      <td>-0.420832</td>\n",
       "      <td>-0.774151</td>\n",
       "    </tr>\n",
       "    <tr>\n",
       "      <th>3</th>\n",
       "      <td>1.0</td>\n",
       "      <td>0.0</td>\n",
       "      <td>0.0</td>\n",
       "      <td>1.0</td>\n",
       "      <td>1.0</td>\n",
       "      <td>1.0</td>\n",
       "      <td>0.0</td>\n",
       "      <td>0.0</td>\n",
       "      <td>0.0</td>\n",
       "      <td>0.0</td>\n",
       "      <td>...</td>\n",
       "      <td>-0.721400</td>\n",
       "      <td>2.522566</td>\n",
       "      <td>2.285781</td>\n",
       "      <td>-0.725271</td>\n",
       "      <td>1.511598</td>\n",
       "      <td>-0.632399</td>\n",
       "      <td>-0.049015</td>\n",
       "      <td>0.782966</td>\n",
       "      <td>-0.113658</td>\n",
       "      <td>0.643615</td>\n",
       "    </tr>\n",
       "    <tr>\n",
       "      <th>4</th>\n",
       "      <td>1.0</td>\n",
       "      <td>1.0</td>\n",
       "      <td>0.0</td>\n",
       "      <td>0.0</td>\n",
       "      <td>0.0</td>\n",
       "      <td>0.0</td>\n",
       "      <td>0.0</td>\n",
       "      <td>0.0</td>\n",
       "      <td>0.0</td>\n",
       "      <td>0.0</td>\n",
       "      <td>...</td>\n",
       "      <td>1.455047</td>\n",
       "      <td>-1.020350</td>\n",
       "      <td>0.282777</td>\n",
       "      <td>0.522885</td>\n",
       "      <td>-0.127737</td>\n",
       "      <td>1.581280</td>\n",
       "      <td>0.679690</td>\n",
       "      <td>0.782966</td>\n",
       "      <td>-0.317047</td>\n",
       "      <td>2.061382</td>\n",
       "    </tr>\n",
       "  </tbody>\n",
       "</table>\n",
       "<p>5 rows × 26 columns</p>\n",
       "</div>"
      ],
      "text/plain": [
       "   ohe__TypeofContact_Self Enquiry  ohe__Occupation_Large Business  \\\n",
       "0                              0.0                             0.0   \n",
       "1                              1.0                             0.0   \n",
       "2                              1.0                             0.0   \n",
       "3                              1.0                             0.0   \n",
       "4                              1.0                             1.0   \n",
       "\n",
       "   ohe__Occupation_Salaried  ohe__Occupation_Small Business  ohe__Gender_Male  \\\n",
       "0                       0.0                             1.0               1.0   \n",
       "1                       0.0                             1.0               1.0   \n",
       "2                       0.0                             1.0               1.0   \n",
       "3                       0.0                             1.0               1.0   \n",
       "4                       0.0                             0.0               0.0   \n",
       "\n",
       "   ohe__ProductPitched_Deluxe  ohe__ProductPitched_King  \\\n",
       "0                         1.0                       0.0   \n",
       "1                         1.0                       0.0   \n",
       "2                         1.0                       0.0   \n",
       "3                         1.0                       0.0   \n",
       "4                         0.0                       0.0   \n",
       "\n",
       "   ohe__ProductPitched_Standard  ohe__ProductPitched_Super Deluxe  \\\n",
       "0                           0.0                               0.0   \n",
       "1                           0.0                               0.0   \n",
       "2                           0.0                               0.0   \n",
       "3                           0.0                               0.0   \n",
       "4                           0.0                               0.0   \n",
       "\n",
       "   ohe__MaritalStatus_Married  ...  stscaler__CityTier  \\\n",
       "0                         1.0  ...            1.455047   \n",
       "1                         1.0  ...            0.366823   \n",
       "2                         1.0  ...            1.455047   \n",
       "3                         0.0  ...           -0.721400   \n",
       "4                         0.0  ...            1.455047   \n",
       "\n",
       "   stscaler__DurationOfPitch  stscaler__NumberOfFollowups  \\\n",
       "0                  -0.287333                     1.284279   \n",
       "1                  -0.531672                     0.282777   \n",
       "2                   0.812193                     0.282777   \n",
       "3                   2.522566                     2.285781   \n",
       "4                  -1.020350                     0.282777   \n",
       "\n",
       "   stscaler__PreferredPropertyStar  stscaler__NumberOfTrips  \\\n",
       "0                        -0.725271                -1.220627   \n",
       "1                         0.522885                -1.220627   \n",
       "2                        -0.725271                 0.965153   \n",
       "3                        -0.725271                 1.511598   \n",
       "4                         0.522885                -0.127737   \n",
       "\n",
       "   stscaler__Passport  stscaler__PitchSatisfactionScore  stscaler__OwnCar  \\\n",
       "0           -0.632399                         -0.777720         -1.277194   \n",
       "1            1.581280                          1.408395         -1.277194   \n",
       "2           -0.632399                          1.408395          0.782966   \n",
       "3           -0.632399                         -0.049015          0.782966   \n",
       "4            1.581280                          0.679690          0.782966   \n",
       "\n",
       "   stscaler__MonthlyIncome  stscaler__TotalVisiting  \n",
       "0                -0.737510                -0.774151  \n",
       "1                -0.670411                -0.065268  \n",
       "2                -0.420832                -0.774151  \n",
       "3                -0.113658                 0.643615  \n",
       "4                -0.317047                 2.061382  \n",
       "\n",
       "[5 rows x 26 columns]"
      ]
     },
     "execution_count": 401,
     "metadata": {},
     "output_type": "execute_result"
    }
   ],
   "source": [
    "X_test_scaled.head()"
   ]
  },
  {
   "cell_type": "code",
   "execution_count": 403,
   "id": "8dee08d3-405c-49b5-92f0-90c0ac61c519",
   "metadata": {},
   "outputs": [
    {
     "data": {
      "text/plain": [
       "Index(['ohe__TypeofContact_Self Enquiry', 'ohe__Occupation_Large Business',\n",
       "       'ohe__Occupation_Salaried', 'ohe__Occupation_Small Business',\n",
       "       'ohe__Gender_Male', 'ohe__ProductPitched_Deluxe',\n",
       "       'ohe__ProductPitched_King', 'ohe__ProductPitched_Standard',\n",
       "       'ohe__ProductPitched_Super Deluxe', 'ohe__MaritalStatus_Married',\n",
       "       'ohe__MaritalStatus_Single', 'ohe__Designation_Executive',\n",
       "       'ohe__Designation_Manager', 'ohe__Designation_Senior Manager',\n",
       "       'ohe__Designation_VP', 'stscaler__Age', 'stscaler__CityTier',\n",
       "       'stscaler__DurationOfPitch', 'stscaler__NumberOfFollowups',\n",
       "       'stscaler__PreferredPropertyStar', 'stscaler__NumberOfTrips',\n",
       "       'stscaler__Passport', 'stscaler__PitchSatisfactionScore',\n",
       "       'stscaler__OwnCar', 'stscaler__MonthlyIncome',\n",
       "       'stscaler__TotalVisiting'],\n",
       "      dtype='object')"
      ]
     },
     "execution_count": 403,
     "metadata": {},
     "output_type": "execute_result"
    }
   ],
   "source": [
    "X_train_scaled.columns"
   ]
  },
  {
   "cell_type": "code",
   "execution_count": 405,
   "id": "7e97090c-cb0b-4686-ac21-7e8b78bc71dd",
   "metadata": {},
   "outputs": [
    {
     "data": {
      "text/plain": [
       "Index(['ohe__TypeofContact_Self Enquiry', 'ohe__Occupation_Large Business',\n",
       "       'ohe__Occupation_Salaried', 'ohe__Occupation_Small Business',\n",
       "       'ohe__Gender_Male', 'ohe__ProductPitched_Deluxe',\n",
       "       'ohe__ProductPitched_King', 'ohe__ProductPitched_Standard',\n",
       "       'ohe__ProductPitched_Super Deluxe', 'ohe__MaritalStatus_Married',\n",
       "       'ohe__MaritalStatus_Single', 'ohe__Designation_Executive',\n",
       "       'ohe__Designation_Manager', 'ohe__Designation_Senior Manager',\n",
       "       'ohe__Designation_VP', 'stscaler__Age', 'stscaler__CityTier',\n",
       "       'stscaler__DurationOfPitch', 'stscaler__NumberOfFollowups',\n",
       "       'stscaler__PreferredPropertyStar', 'stscaler__NumberOfTrips',\n",
       "       'stscaler__Passport', 'stscaler__PitchSatisfactionScore',\n",
       "       'stscaler__OwnCar', 'stscaler__MonthlyIncome',\n",
       "       'stscaler__TotalVisiting'],\n",
       "      dtype='object')"
      ]
     },
     "execution_count": 405,
     "metadata": {},
     "output_type": "execute_result"
    }
   ],
   "source": [
    "X_test_scaled.columns"
   ]
  },
  {
   "cell_type": "code",
   "execution_count": 412,
   "id": "74fa6ac9-f4ea-439b-89ec-351538836b75",
   "metadata": {
    "scrolled": true
   },
   "outputs": [],
   "source": [
    "model_dict = {\"RFC\":RandomForestClassifier(), \"GBC\":GradientBoostingClassifier(), \"ABC\":AdaBoostClassifier(), \n",
    "              \"DTC\":DecisionTreeClassifier(),\"LR\":LogisticRegression()}\n",
    "\n",
    "results = {\"Model\":[],\"accuracy_score\":[],\"precision_score\":[],\"recall_score\":[],\"f1_score\":[],\"roc_auc_score\":[]};\n",
    "\n",
    "for name,model in model_dict.items():\n",
    "    model.fit(X=X_train_scaled,y=y_train)\n",
    "    \n",
    "    pred=model.predict(X_test_scaled)\n",
    "    results[\"Model\"].append(name)\n",
    "    results[\"accuracy_score\"].append(accuracy_score(pred,y_test))\n",
    "    results[\"precision_score\"].append(precision_score(pred,y_test))\n",
    "    results[\"recall_score\"].append(recall_score(pred,y_test))\n",
    "    results[\"f1_score\"].append(f1_score(pred,y_test))\n",
    "    results[\"roc_auc_score\"].append(roc_auc_score(pred,y_test))\n",
    "    \n",
    "    "
   ]
  },
  {
   "cell_type": "code",
   "execution_count": 422,
   "id": "e14055a6-92b9-46a3-a909-6b1576e01174",
   "metadata": {},
   "outputs": [],
   "source": [
    "results_df = pd.DataFrame(results)\n",
    "\n"
   ]
  },
  {
   "cell_type": "code",
   "execution_count": 424,
   "id": "f535de15-8853-438d-ab71-98681680fc19",
   "metadata": {},
   "outputs": [
    {
     "data": {
      "text/html": [
       "<div>\n",
       "<style scoped>\n",
       "    .dataframe tbody tr th:only-of-type {\n",
       "        vertical-align: middle;\n",
       "    }\n",
       "\n",
       "    .dataframe tbody tr th {\n",
       "        vertical-align: top;\n",
       "    }\n",
       "\n",
       "    .dataframe thead th {\n",
       "        text-align: right;\n",
       "    }\n",
       "</style>\n",
       "<table border=\"1\" class=\"dataframe\">\n",
       "  <thead>\n",
       "    <tr style=\"text-align: right;\">\n",
       "      <th></th>\n",
       "      <th>Model</th>\n",
       "      <th>accuracy_score</th>\n",
       "      <th>precision_score</th>\n",
       "      <th>recall_score</th>\n",
       "      <th>f1_score</th>\n",
       "      <th>roc_auc_score</th>\n",
       "    </tr>\n",
       "  </thead>\n",
       "  <tbody>\n",
       "    <tr>\n",
       "      <th>0</th>\n",
       "      <td>RFC</td>\n",
       "      <td>0.928425</td>\n",
       "      <td>0.654450</td>\n",
       "      <td>0.968992</td>\n",
       "      <td>0.781250</td>\n",
       "      <td>0.945627</td>\n",
       "    </tr>\n",
       "    <tr>\n",
       "      <th>1</th>\n",
       "      <td>GBC</td>\n",
       "      <td>0.858896</td>\n",
       "      <td>0.392670</td>\n",
       "      <td>0.773196</td>\n",
       "      <td>0.520833</td>\n",
       "      <td>0.820764</td>\n",
       "    </tr>\n",
       "    <tr>\n",
       "      <th>2</th>\n",
       "      <td>ABC</td>\n",
       "      <td>0.835378</td>\n",
       "      <td>0.319372</td>\n",
       "      <td>0.663043</td>\n",
       "      <td>0.431095</td>\n",
       "      <td>0.758158</td>\n",
       "    </tr>\n",
       "    <tr>\n",
       "      <th>3</th>\n",
       "      <td>DTC</td>\n",
       "      <td>0.919223</td>\n",
       "      <td>0.753927</td>\n",
       "      <td>0.818182</td>\n",
       "      <td>0.784741</td>\n",
       "      <td>0.879789</td>\n",
       "    </tr>\n",
       "    <tr>\n",
       "      <th>4</th>\n",
       "      <td>LR</td>\n",
       "      <td>0.835378</td>\n",
       "      <td>0.293194</td>\n",
       "      <td>0.682927</td>\n",
       "      <td>0.410256</td>\n",
       "      <td>0.766129</td>\n",
       "    </tr>\n",
       "  </tbody>\n",
       "</table>\n",
       "</div>"
      ],
      "text/plain": [
       "  Model  accuracy_score  precision_score  recall_score  f1_score  \\\n",
       "0   RFC        0.928425         0.654450      0.968992  0.781250   \n",
       "1   GBC        0.858896         0.392670      0.773196  0.520833   \n",
       "2   ABC        0.835378         0.319372      0.663043  0.431095   \n",
       "3   DTC        0.919223         0.753927      0.818182  0.784741   \n",
       "4    LR        0.835378         0.293194      0.682927  0.410256   \n",
       "\n",
       "   roc_auc_score  \n",
       "0       0.945627  \n",
       "1       0.820764  \n",
       "2       0.758158  \n",
       "3       0.879789  \n",
       "4       0.766129  "
      ]
     },
     "execution_count": 424,
     "metadata": {},
     "output_type": "execute_result"
    }
   ],
   "source": [
    "results_df"
   ]
  },
  {
   "cell_type": "markdown",
   "id": "e90e7733-6d64-4400-bbf8-95ad8552357c",
   "metadata": {},
   "source": [
    "# Hyperparam Training"
   ]
  },
  {
   "cell_type": "code",
   "execution_count": null,
   "id": "67c3d80c-4fbd-43ad-8578-e5235a35590a",
   "metadata": {},
   "outputs": [],
   "source": [
    "ab = AdaBoostClassifier()"
   ]
  },
  {
   "cell_type": "code",
   "execution_count": 434,
   "id": "d61a742c-d7b4-4f9b-8030-284fdc3f1094",
   "metadata": {},
   "outputs": [],
   "source": [
    "\n",
    "rf_params = {\"max_depth\" : [5,8,15,None,10],\n",
    "\"max_features\" : [5,7,8, \"auto\"],\"min_samples_split\":[2, 8, 15, 20],\"n_estimators\": [100, 200, 500, 1000]}\n",
    "\n",
    "adaboost_params = {\"n_estimators\":[50,60,70,80,90],\n",
    "    \"algorithm\":['SAMME','SAMME.R']}\n",
    "             "
   ]
  },
  {
   "cell_type": "code",
   "execution_count": 436,
   "id": "ea24f097-6b4f-4d90-a562-94a4100edf3f",
   "metadata": {},
   "outputs": [
    {
     "data": {
      "text/plain": [
       "{'max_depth': [5, 8, 15, None, 10],\n",
       " 'max_features': [5, 7, 8, 'auto'],\n",
       " 'min_samples_split': [2, 8, 15, 20],\n",
       " 'n_estimators': [100, 200, 500, 1000]}"
      ]
     },
     "execution_count": 436,
     "metadata": {},
     "output_type": "execute_result"
    }
   ],
   "source": [
    "rf_params"
   ]
  },
  {
   "cell_type": "code",
   "execution_count": 438,
   "id": "1a45f9c2-5995-47ca-8dd8-f7808e893b73",
   "metadata": {},
   "outputs": [
    {
     "data": {
      "text/plain": [
       "{'n_estimators': [50, 60, 70, 80, 90], 'algorithm': ['SAMME', 'SAMME.R']}"
      ]
     },
     "execution_count": 438,
     "metadata": {},
     "output_type": "execute_result"
    }
   ],
   "source": [
    "adaboost_params"
   ]
  },
  {
   "cell_type": "code",
   "execution_count": 440,
   "id": "480ca6e7-78fc-4cab-9cb8-9b57ba0a83dd",
   "metadata": {},
   "outputs": [],
   "source": [
    "#Hyperparam Tuning\n",
    "\n",
    "randomcv_models = [\n",
    "(\"RFTune\",RandomForestClassifier(),rf_params),\n",
    "(\"ABTune\",AdaBoostClassifier(),adaboost_params)\n",
    "]"
   ]
  },
  {
   "cell_type": "code",
   "execution_count": 442,
   "id": "4b0f19b5-9347-46ca-bed6-f5269fda2755",
   "metadata": {},
   "outputs": [
    {
     "data": {
      "text/plain": [
       "[('RFTune',\n",
       "  RandomForestClassifier(),\n",
       "  {'max_depth': [5, 8, 15, None, 10],\n",
       "   'max_features': [5, 7, 8, 'auto'],\n",
       "   'min_samples_split': [2, 8, 15, 20],\n",
       "   'n_estimators': [100, 200, 500, 1000]}),\n",
       " ('ABTune',\n",
       "  AdaBoostClassifier(),\n",
       "  {'n_estimators': [50, 60, 70, 80, 90], 'algorithm': ['SAMME', 'SAMME.R']})]"
      ]
     },
     "execution_count": 442,
     "metadata": {},
     "output_type": "execute_result"
    }
   ],
   "source": [
    "randomcv_models"
   ]
  },
  {
   "cell_type": "code",
   "execution_count": 444,
   "id": "e816f16d-b9ae-425f-af20-5c5151c90880",
   "metadata": {},
   "outputs": [],
   "source": [
    "from sklearn.model_selection import RandomizedSearchCV\n"
   ]
  },
  {
   "cell_type": "code",
   "execution_count": 448,
   "id": "e4c77018-19c7-42fc-988b-df41c2d258a3",
   "metadata": {},
   "outputs": [
    {
     "name": "stdout",
     "output_type": "stream",
     "text": [
      "Fitting 3 folds for each of 100 candidates, totalling 300 fits\n",
      "Fitting 3 folds for each of 10 candidates, totalling 30 fits\n",
      " Best Params for RFTune is :\n",
      "{'n_estimators': 1000, 'min_samples_split': 2, 'max_features': 8, 'max_depth': 15}\n",
      " Best Params for ABTune is :\n",
      "{'n_estimators': 80, 'algorithm': 'SAMME'}\n"
     ]
    }
   ],
   "source": [
    "\n",
    "modelparams = {}\n",
    "\n",
    "for name, model,params in randomcv_models:\n",
    "    random = RandomizedSearchCV(estimator = model,param_distributions=params,n_iter=100,verbose=True,n_jobs = -1,cv=3)\n",
    "    random.fit(X_train_scaled,y_train)\n",
    "    modelparams[name]=random.best_params_\n",
    "\n",
    "for model_name in modelparams:\n",
    "    print(f\" Best Params for {model_name} is :\")\n",
    "    print(modelparams[model_name])\n",
    "    \n",
    "    "
   ]
  },
  {
   "cell_type": "code",
   "execution_count": 454,
   "id": "2ed885b2-cca0-4150-9a6d-4c913cb503f7",
   "metadata": {},
   "outputs": [],
   "source": [
    "model_dict = {\"RFC\":RandomForestClassifier(n_estimators= 1000, min_samples_split= 2, max_features= 8, max_depth= 15), \n",
    "              \"ABC\":AdaBoostClassifier(n_estimators= 80, algorithm='SAMME')}\n",
    "\n",
    "#results_new = {\"Model\":[],\"accuracy_score\":[],\"precision_score\":[],\"recall_score\":[],\"f1_score\":[],\"roc_auc_score\":[]};\n",
    "\n",
    "for name,model in model_dict.items():\n",
    "    model.fit(X=X_train_scaled,y=y_train)\n",
    "    \n",
    "    pred=model.predict(X_test_scaled)\n",
    "    results[\"Model\"].append(name)\n",
    "    results[\"accuracy_score\"].append(accuracy_score(pred,y_test))\n",
    "    results[\"precision_score\"].append(precision_score(pred,y_test))\n",
    "    results[\"recall_score\"].append(recall_score(pred,y_test))\n",
    "    results[\"f1_score\"].append(f1_score(pred,y_test))\n",
    "    results[\"roc_auc_score\"].append(roc_auc_score(pred,y_test))\n",
    "    \n",
    "    "
   ]
  },
  {
   "cell_type": "code",
   "execution_count": 456,
   "id": "edb5c6a8-dd84-44b0-a665-84fcc391ad34",
   "metadata": {},
   "outputs": [
    {
     "data": {
      "text/html": [
       "<div>\n",
       "<style scoped>\n",
       "    .dataframe tbody tr th:only-of-type {\n",
       "        vertical-align: middle;\n",
       "    }\n",
       "\n",
       "    .dataframe tbody tr th {\n",
       "        vertical-align: top;\n",
       "    }\n",
       "\n",
       "    .dataframe thead th {\n",
       "        text-align: right;\n",
       "    }\n",
       "</style>\n",
       "<table border=\"1\" class=\"dataframe\">\n",
       "  <thead>\n",
       "    <tr style=\"text-align: right;\">\n",
       "      <th></th>\n",
       "      <th>Model</th>\n",
       "      <th>accuracy_score</th>\n",
       "      <th>precision_score</th>\n",
       "      <th>recall_score</th>\n",
       "      <th>f1_score</th>\n",
       "      <th>roc_auc_score</th>\n",
       "    </tr>\n",
       "  </thead>\n",
       "  <tbody>\n",
       "    <tr>\n",
       "      <th>0</th>\n",
       "      <td>RFC</td>\n",
       "      <td>0.928425</td>\n",
       "      <td>0.654450</td>\n",
       "      <td>0.968992</td>\n",
       "      <td>0.781250</td>\n",
       "      <td>0.945627</td>\n",
       "    </tr>\n",
       "    <tr>\n",
       "      <th>1</th>\n",
       "      <td>GBC</td>\n",
       "      <td>0.858896</td>\n",
       "      <td>0.392670</td>\n",
       "      <td>0.773196</td>\n",
       "      <td>0.520833</td>\n",
       "      <td>0.820764</td>\n",
       "    </tr>\n",
       "    <tr>\n",
       "      <th>2</th>\n",
       "      <td>ABC</td>\n",
       "      <td>0.835378</td>\n",
       "      <td>0.319372</td>\n",
       "      <td>0.663043</td>\n",
       "      <td>0.431095</td>\n",
       "      <td>0.758158</td>\n",
       "    </tr>\n",
       "    <tr>\n",
       "      <th>3</th>\n",
       "      <td>DTC</td>\n",
       "      <td>0.919223</td>\n",
       "      <td>0.753927</td>\n",
       "      <td>0.818182</td>\n",
       "      <td>0.784741</td>\n",
       "      <td>0.879789</td>\n",
       "    </tr>\n",
       "    <tr>\n",
       "      <th>4</th>\n",
       "      <td>LR</td>\n",
       "      <td>0.835378</td>\n",
       "      <td>0.293194</td>\n",
       "      <td>0.682927</td>\n",
       "      <td>0.410256</td>\n",
       "      <td>0.766129</td>\n",
       "    </tr>\n",
       "    <tr>\n",
       "      <th>5</th>\n",
       "      <td>RFC</td>\n",
       "      <td>0.932515</td>\n",
       "      <td>0.680628</td>\n",
       "      <td>0.962963</td>\n",
       "      <td>0.797546</td>\n",
       "      <td>0.945301</td>\n",
       "    </tr>\n",
       "    <tr>\n",
       "      <th>6</th>\n",
       "      <td>ABC</td>\n",
       "      <td>0.836401</td>\n",
       "      <td>0.225131</td>\n",
       "      <td>0.781818</td>\n",
       "      <td>0.349593</td>\n",
       "      <td>0.810736</td>\n",
       "    </tr>\n",
       "  </tbody>\n",
       "</table>\n",
       "</div>"
      ],
      "text/plain": [
       "  Model  accuracy_score  precision_score  recall_score  f1_score  \\\n",
       "0   RFC        0.928425         0.654450      0.968992  0.781250   \n",
       "1   GBC        0.858896         0.392670      0.773196  0.520833   \n",
       "2   ABC        0.835378         0.319372      0.663043  0.431095   \n",
       "3   DTC        0.919223         0.753927      0.818182  0.784741   \n",
       "4    LR        0.835378         0.293194      0.682927  0.410256   \n",
       "5   RFC        0.932515         0.680628      0.962963  0.797546   \n",
       "6   ABC        0.836401         0.225131      0.781818  0.349593   \n",
       "\n",
       "   roc_auc_score  \n",
       "0       0.945627  \n",
       "1       0.820764  \n",
       "2       0.758158  \n",
       "3       0.879789  \n",
       "4       0.766129  \n",
       "5       0.945301  \n",
       "6       0.810736  "
      ]
     },
     "execution_count": 456,
     "metadata": {},
     "output_type": "execute_result"
    }
   ],
   "source": [
    "results_df = pd.DataFrame(results)\n",
    "\n",
    "results_df"
   ]
  },
  {
   "cell_type": "code",
   "execution_count": null,
   "id": "cf50a284-5d05-41b2-87cd-027dbb85012e",
   "metadata": {},
   "outputs": [],
   "source": []
  }
 ],
 "metadata": {
  "kernelspec": {
   "display_name": "Python [conda env:base] *",
   "language": "python",
   "name": "conda-base-py"
  },
  "language_info": {
   "codemirror_mode": {
    "name": "ipython",
    "version": 3
   },
   "file_extension": ".py",
   "mimetype": "text/x-python",
   "name": "python",
   "nbconvert_exporter": "python",
   "pygments_lexer": "ipython3",
   "version": "3.11.11"
  }
 },
 "nbformat": 4,
 "nbformat_minor": 5
}
