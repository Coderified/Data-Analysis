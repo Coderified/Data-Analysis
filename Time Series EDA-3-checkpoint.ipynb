{
 "cells": [
  {
   "cell_type": "code",
   "execution_count": 34,
   "id": "50cde6ae",
   "metadata": {},
   "outputs": [],
   "source": [
    "import numpy as np\n",
    "import pandas as pd\n",
    "import statsmodels.api as sms\n",
    "# https://www.statsmodels.org/stable/index.html\n",
    "import seaborn as sns\n",
    "import matplotlib.pyplot as plt\n",
    "%matplotlib inline"
   ]
  },
  {
   "cell_type": "code",
   "execution_count": 35,
   "id": "78e087ec",
   "metadata": {},
   "outputs": [
    {
     "data": {
      "text/html": [
       "<div>\n",
       "<style scoped>\n",
       "    .dataframe tbody tr th:only-of-type {\n",
       "        vertical-align: middle;\n",
       "    }\n",
       "\n",
       "    .dataframe tbody tr th {\n",
       "        vertical-align: top;\n",
       "    }\n",
       "\n",
       "    .dataframe thead th {\n",
       "        text-align: right;\n",
       "    }\n",
       "</style>\n",
       "<table border=\"1\" class=\"dataframe\">\n",
       "  <thead>\n",
       "    <tr style=\"text-align: right;\">\n",
       "      <th></th>\n",
       "      <th>Month</th>\n",
       "      <th>Thousands of Passengers</th>\n",
       "    </tr>\n",
       "  </thead>\n",
       "  <tbody>\n",
       "    <tr>\n",
       "      <th>0</th>\n",
       "      <td>1949-01</td>\n",
       "      <td>112.0</td>\n",
       "    </tr>\n",
       "    <tr>\n",
       "      <th>1</th>\n",
       "      <td>1949-02</td>\n",
       "      <td>118.0</td>\n",
       "    </tr>\n",
       "    <tr>\n",
       "      <th>2</th>\n",
       "      <td>1949-03</td>\n",
       "      <td>132.0</td>\n",
       "    </tr>\n",
       "    <tr>\n",
       "      <th>3</th>\n",
       "      <td>1949-04</td>\n",
       "      <td>129.0</td>\n",
       "    </tr>\n",
       "    <tr>\n",
       "      <th>4</th>\n",
       "      <td>1949-05</td>\n",
       "      <td>121.0</td>\n",
       "    </tr>\n",
       "  </tbody>\n",
       "</table>\n",
       "</div>"
      ],
      "text/plain": [
       "     Month  Thousands of Passengers\n",
       "0  1949-01                    112.0\n",
       "1  1949-02                    118.0\n",
       "2  1949-03                    132.0\n",
       "3  1949-04                    129.0\n",
       "4  1949-05                    121.0"
      ]
     },
     "execution_count": 35,
     "metadata": {},
     "output_type": "execute_result"
    }
   ],
   "source": [
    "df_airline=pd.read_csv('E:/oldBackups/Projects & Courses/Datasets/airline_passengers.csv')\n",
    "df_airline.head()"
   ]
  },
  {
   "cell_type": "code",
   "execution_count": 36,
   "id": "9eec7e94",
   "metadata": {},
   "outputs": [
    {
     "data": {
      "text/plain": [
       "Month                      0\n",
       "Thousands of Passengers    1\n",
       "dtype: int64"
      ]
     },
     "execution_count": 36,
     "metadata": {},
     "output_type": "execute_result"
    }
   ],
   "source": [
    "df_airline.isnull().sum()"
   ]
  },
  {
   "cell_type": "code",
   "execution_count": 37,
   "id": "38a51bd1",
   "metadata": {},
   "outputs": [],
   "source": [
    "df_airline.dropna(axis=0,inplace=True)"
   ]
  },
  {
   "cell_type": "code",
   "execution_count": 38,
   "id": "e8736f9c",
   "metadata": {},
   "outputs": [
    {
     "name": "stdout",
     "output_type": "stream",
     "text": [
      "<class 'pandas.core.frame.DataFrame'>\n",
      "Int64Index: 144 entries, 0 to 143\n",
      "Data columns (total 2 columns):\n",
      " #   Column                   Non-Null Count  Dtype  \n",
      "---  ------                   --------------  -----  \n",
      " 0   Month                    144 non-null    object \n",
      " 1   Thousands of Passengers  144 non-null    float64\n",
      "dtypes: float64(1), object(1)\n",
      "memory usage: 3.4+ KB\n"
     ]
    }
   ],
   "source": [
    "df_airline.info()"
   ]
  },
  {
   "cell_type": "code",
   "execution_count": 39,
   "id": "cfa24ca6",
   "metadata": {},
   "outputs": [],
   "source": [
    "df_airline['Month_Dt']=pd.to_datetime(df_airline['Month'])"
   ]
  },
  {
   "cell_type": "code",
   "execution_count": 40,
   "id": "6eea73b7",
   "metadata": {},
   "outputs": [],
   "source": [
    "df_airline.drop('Month',axis=1,inplace=True)"
   ]
  },
  {
   "cell_type": "code",
   "execution_count": 41,
   "id": "a8270f50",
   "metadata": {},
   "outputs": [
    {
     "data": {
      "text/html": [
       "<div>\n",
       "<style scoped>\n",
       "    .dataframe tbody tr th:only-of-type {\n",
       "        vertical-align: middle;\n",
       "    }\n",
       "\n",
       "    .dataframe tbody tr th {\n",
       "        vertical-align: top;\n",
       "    }\n",
       "\n",
       "    .dataframe thead th {\n",
       "        text-align: right;\n",
       "    }\n",
       "</style>\n",
       "<table border=\"1\" class=\"dataframe\">\n",
       "  <thead>\n",
       "    <tr style=\"text-align: right;\">\n",
       "      <th></th>\n",
       "      <th>Thousands of Passengers</th>\n",
       "      <th>Month_Dt</th>\n",
       "    </tr>\n",
       "  </thead>\n",
       "  <tbody>\n",
       "    <tr>\n",
       "      <th>0</th>\n",
       "      <td>112.0</td>\n",
       "      <td>1949-01-01</td>\n",
       "    </tr>\n",
       "    <tr>\n",
       "      <th>1</th>\n",
       "      <td>118.0</td>\n",
       "      <td>1949-02-01</td>\n",
       "    </tr>\n",
       "    <tr>\n",
       "      <th>2</th>\n",
       "      <td>132.0</td>\n",
       "      <td>1949-03-01</td>\n",
       "    </tr>\n",
       "    <tr>\n",
       "      <th>3</th>\n",
       "      <td>129.0</td>\n",
       "      <td>1949-04-01</td>\n",
       "    </tr>\n",
       "    <tr>\n",
       "      <th>4</th>\n",
       "      <td>121.0</td>\n",
       "      <td>1949-05-01</td>\n",
       "    </tr>\n",
       "  </tbody>\n",
       "</table>\n",
       "</div>"
      ],
      "text/plain": [
       "   Thousands of Passengers   Month_Dt\n",
       "0                    112.0 1949-01-01\n",
       "1                    118.0 1949-02-01\n",
       "2                    132.0 1949-03-01\n",
       "3                    129.0 1949-04-01\n",
       "4                    121.0 1949-05-01"
      ]
     },
     "execution_count": 41,
     "metadata": {},
     "output_type": "execute_result"
    }
   ],
   "source": [
    "df_airline.head()"
   ]
  },
  {
   "cell_type": "code",
   "execution_count": 42,
   "id": "8244bd0c",
   "metadata": {},
   "outputs": [],
   "source": [
    "df_airline.set_index('Month_Dt',inplace=True)"
   ]
  },
  {
   "cell_type": "code",
   "execution_count": 43,
   "id": "d997574d",
   "metadata": {},
   "outputs": [
    {
     "data": {
      "text/plain": [
       "<AxesSubplot:xlabel='Month_Dt'>"
      ]
     },
     "execution_count": 43,
     "metadata": {},
     "output_type": "execute_result"
    },
    {
     "data": {
      "image/png": "[encoded data removed]",
      "text/plain": [
       "<Figure size 720x720 with 1 Axes>"
      ]
     },
     "metadata": {
      "needs_background": "light"
     },
     "output_type": "display_data"
    }
   ],
   "source": [
    "df_airline.plot(figsize=(10,10))"
   ]
  },
  {
   "cell_type": "code",
   "execution_count": 44,
   "id": "2a283cad",
   "metadata": {},
   "outputs": [],
   "source": [
    "from statsmodels.tsa.stattools import adfuller"
   ]
  },
  {
   "cell_type": "code",
   "execution_count": 45,
   "id": "2c7bf02b",
   "metadata": {},
   "outputs": [],
   "source": [
    "def dickey_fuller(series):\n",
    "    result=adfuller(series)\n",
    "    print(\"ADF-Stats\")\n",
    "    print(result[0])\n",
    "    print('P-Value :',result[1])\n",
    "    \n",
    "    if result[1]<=0.05:\n",
    "        print('Null Hypothesis Rejected, means it is Stationary Data')\n",
    "    else:\n",
    "        print('Null Hypothesis Accepted, means it is NOT Stationary Data')\n",
    "        \n",
    "        "
   ]
  },
  {
   "cell_type": "code",
   "execution_count": 46,
   "id": "a1c15f63",
   "metadata": {},
   "outputs": [
    {
     "name": "stdout",
     "output_type": "stream",
     "text": [
      "ADF-Stats\n",
      "0.8153688792060423\n",
      "P-Value : 0.9918802434376409\n",
      "Null Hypothesis Accepted, means it is NOT Stationary Data\n"
     ]
    }
   ],
   "source": [
    "dickey_fuller(df_airline['Thousands of Passengers'])"
   ]
  },
  {
   "cell_type": "code",
   "execution_count": 47,
   "id": "c182ffdc",
   "metadata": {},
   "outputs": [],
   "source": [
    "df_airline['Passengers value shift']=df_airline['Thousands of Passengers'].shift(1)"
   ]
  },
  {
   "cell_type": "code",
   "execution_count": 48,
   "id": "6c6c5ad3",
   "metadata": {},
   "outputs": [
    {
     "data": {
      "text/html": [
       "<div>\n",
       "<style scoped>\n",
       "    .dataframe tbody tr th:only-of-type {\n",
       "        vertical-align: middle;\n",
       "    }\n",
       "\n",
       "    .dataframe tbody tr th {\n",
       "        vertical-align: top;\n",
       "    }\n",
       "\n",
       "    .dataframe thead th {\n",
       "        text-align: right;\n",
       "    }\n",
       "</style>\n",
       "<table border=\"1\" class=\"dataframe\">\n",
       "  <thead>\n",
       "    <tr style=\"text-align: right;\">\n",
       "      <th></th>\n",
       "      <th>Thousands of Passengers</th>\n",
       "      <th>Passengers value shift</th>\n",
       "    </tr>\n",
       "    <tr>\n",
       "      <th>Month_Dt</th>\n",
       "      <th></th>\n",
       "      <th></th>\n",
       "    </tr>\n",
       "  </thead>\n",
       "  <tbody>\n",
       "    <tr>\n",
       "      <th>1949-01-01</th>\n",
       "      <td>112.0</td>\n",
       "      <td>NaN</td>\n",
       "    </tr>\n",
       "    <tr>\n",
       "      <th>1949-02-01</th>\n",
       "      <td>118.0</td>\n",
       "      <td>112.0</td>\n",
       "    </tr>\n",
       "    <tr>\n",
       "      <th>1949-03-01</th>\n",
       "      <td>132.0</td>\n",
       "      <td>118.0</td>\n",
       "    </tr>\n",
       "    <tr>\n",
       "      <th>1949-04-01</th>\n",
       "      <td>129.0</td>\n",
       "      <td>132.0</td>\n",
       "    </tr>\n",
       "    <tr>\n",
       "      <th>1949-05-01</th>\n",
       "      <td>121.0</td>\n",
       "      <td>129.0</td>\n",
       "    </tr>\n",
       "  </tbody>\n",
       "</table>\n",
       "</div>"
      ],
      "text/plain": [
       "            Thousands of Passengers  Passengers value shift\n",
       "Month_Dt                                                   \n",
       "1949-01-01                    112.0                     NaN\n",
       "1949-02-01                    118.0                   112.0\n",
       "1949-03-01                    132.0                   118.0\n",
       "1949-04-01                    129.0                   132.0\n",
       "1949-05-01                    121.0                   129.0"
      ]
     },
     "execution_count": 48,
     "metadata": {},
     "output_type": "execute_result"
    }
   ],
   "source": [
    "df_airline.head()"
   ]
  },
  {
   "cell_type": "code",
   "execution_count": 49,
   "id": "2d5bc806",
   "metadata": {},
   "outputs": [],
   "source": [
    "df_airline['Difference']=df_airline['Thousands of Passengers']-df_airline['Passengers value shift']"
   ]
  },
  {
   "cell_type": "code",
   "execution_count": 50,
   "id": "5c11a77d",
   "metadata": {},
   "outputs": [
    {
     "data": {
      "text/html": [
       "<div>\n",
       "<style scoped>\n",
       "    .dataframe tbody tr th:only-of-type {\n",
       "        vertical-align: middle;\n",
       "    }\n",
       "\n",
       "    .dataframe tbody tr th {\n",
       "        vertical-align: top;\n",
       "    }\n",
       "\n",
       "    .dataframe thead th {\n",
       "        text-align: right;\n",
       "    }\n",
       "</style>\n",
       "<table border=\"1\" class=\"dataframe\">\n",
       "  <thead>\n",
       "    <tr style=\"text-align: right;\">\n",
       "      <th></th>\n",
       "      <th>Thousands of Passengers</th>\n",
       "      <th>Passengers value shift</th>\n",
       "      <th>Difference</th>\n",
       "    </tr>\n",
       "    <tr>\n",
       "      <th>Month_Dt</th>\n",
       "      <th></th>\n",
       "      <th></th>\n",
       "      <th></th>\n",
       "    </tr>\n",
       "  </thead>\n",
       "  <tbody>\n",
       "    <tr>\n",
       "      <th>1949-01-01</th>\n",
       "      <td>112.0</td>\n",
       "      <td>NaN</td>\n",
       "      <td>NaN</td>\n",
       "    </tr>\n",
       "    <tr>\n",
       "      <th>1949-02-01</th>\n",
       "      <td>118.0</td>\n",
       "      <td>112.0</td>\n",
       "      <td>6.0</td>\n",
       "    </tr>\n",
       "    <tr>\n",
       "      <th>1949-03-01</th>\n",
       "      <td>132.0</td>\n",
       "      <td>118.0</td>\n",
       "      <td>14.0</td>\n",
       "    </tr>\n",
       "    <tr>\n",
       "      <th>1949-04-01</th>\n",
       "      <td>129.0</td>\n",
       "      <td>132.0</td>\n",
       "      <td>-3.0</td>\n",
       "    </tr>\n",
       "    <tr>\n",
       "      <th>1949-05-01</th>\n",
       "      <td>121.0</td>\n",
       "      <td>129.0</td>\n",
       "      <td>-8.0</td>\n",
       "    </tr>\n",
       "  </tbody>\n",
       "</table>\n",
       "</div>"
      ],
      "text/plain": [
       "            Thousands of Passengers  Passengers value shift  Difference\n",
       "Month_Dt                                                               \n",
       "1949-01-01                    112.0                     NaN         NaN\n",
       "1949-02-01                    118.0                   112.0         6.0\n",
       "1949-03-01                    132.0                   118.0        14.0\n",
       "1949-04-01                    129.0                   132.0        -3.0\n",
       "1949-05-01                    121.0                   129.0        -8.0"
      ]
     },
     "execution_count": 50,
     "metadata": {},
     "output_type": "execute_result"
    }
   ],
   "source": [
    "df_airline.head()"
   ]
  },
  {
   "cell_type": "code",
   "execution_count": 51,
   "id": "e9fc35ac",
   "metadata": {},
   "outputs": [
    {
     "name": "stdout",
     "output_type": "stream",
     "text": [
      "ADF-Stats\n",
      "-2.8292668241699874\n",
      "P-Value : 0.05421329028382711\n",
      "Null Hypothesis Accepted, means it is NOT Stationary Data\n"
     ]
    }
   ],
   "source": [
    "dickey_fuller(df_airline['Difference'].dropna())"
   ]
  },
  {
   "cell_type": "code",
   "execution_count": 52,
   "id": "386ae5f4",
   "metadata": {},
   "outputs": [],
   "source": [
    "df_airline[\"2nd_Difference\"]=df_airline['Difference']-df_airline['Difference'].shift(1)"
   ]
  },
  {
   "cell_type": "code",
   "execution_count": 53,
   "id": "aa07b4ac",
   "metadata": {},
   "outputs": [
    {
     "data": {
      "text/html": [
       "<div>\n",
       "<style scoped>\n",
       "    .dataframe tbody tr th:only-of-type {\n",
       "        vertical-align: middle;\n",
       "    }\n",
       "\n",
       "    .dataframe tbody tr th {\n",
       "        vertical-align: top;\n",
       "    }\n",
       "\n",
       "    .dataframe thead th {\n",
       "        text-align: right;\n",
       "    }\n",
       "</style>\n",
       "<table border=\"1\" class=\"dataframe\">\n",
       "  <thead>\n",
       "    <tr style=\"text-align: right;\">\n",
       "      <th></th>\n",
       "      <th>Thousands of Passengers</th>\n",
       "      <th>Passengers value shift</th>\n",
       "      <th>Difference</th>\n",
       "      <th>2nd_Difference</th>\n",
       "    </tr>\n",
       "    <tr>\n",
       "      <th>Month_Dt</th>\n",
       "      <th></th>\n",
       "      <th></th>\n",
       "      <th></th>\n",
       "      <th></th>\n",
       "    </tr>\n",
       "  </thead>\n",
       "  <tbody>\n",
       "    <tr>\n",
       "      <th>1949-01-01</th>\n",
       "      <td>112.0</td>\n",
       "      <td>NaN</td>\n",
       "      <td>NaN</td>\n",
       "      <td>NaN</td>\n",
       "    </tr>\n",
       "    <tr>\n",
       "      <th>1949-02-01</th>\n",
       "      <td>118.0</td>\n",
       "      <td>112.0</td>\n",
       "      <td>6.0</td>\n",
       "      <td>NaN</td>\n",
       "    </tr>\n",
       "    <tr>\n",
       "      <th>1949-03-01</th>\n",
       "      <td>132.0</td>\n",
       "      <td>118.0</td>\n",
       "      <td>14.0</td>\n",
       "      <td>8.0</td>\n",
       "    </tr>\n",
       "    <tr>\n",
       "      <th>1949-04-01</th>\n",
       "      <td>129.0</td>\n",
       "      <td>132.0</td>\n",
       "      <td>-3.0</td>\n",
       "      <td>-17.0</td>\n",
       "    </tr>\n",
       "    <tr>\n",
       "      <th>1949-05-01</th>\n",
       "      <td>121.0</td>\n",
       "      <td>129.0</td>\n",
       "      <td>-8.0</td>\n",
       "      <td>-5.0</td>\n",
       "    </tr>\n",
       "  </tbody>\n",
       "</table>\n",
       "</div>"
      ],
      "text/plain": [
       "            Thousands of Passengers  Passengers value shift  Difference  \\\n",
       "Month_Dt                                                                  \n",
       "1949-01-01                    112.0                     NaN         NaN   \n",
       "1949-02-01                    118.0                   112.0         6.0   \n",
       "1949-03-01                    132.0                   118.0        14.0   \n",
       "1949-04-01                    129.0                   132.0        -3.0   \n",
       "1949-05-01                    121.0                   129.0        -8.0   \n",
       "\n",
       "            2nd_Difference  \n",
       "Month_Dt                    \n",
       "1949-01-01             NaN  \n",
       "1949-02-01             NaN  \n",
       "1949-03-01             8.0  \n",
       "1949-04-01           -17.0  \n",
       "1949-05-01            -5.0  "
      ]
     },
     "execution_count": 53,
     "metadata": {},
     "output_type": "execute_result"
    }
   ],
   "source": [
    "df_airline.head()"
   ]
  },
  {
   "cell_type": "code",
   "execution_count": 54,
   "id": "d302d125",
   "metadata": {},
   "outputs": [
    {
     "name": "stdout",
     "output_type": "stream",
     "text": [
      "ADF-Stats\n",
      "-16.384231542468513\n",
      "P-Value : 2.7328918500142026e-29\n",
      "Null Hypothesis Rejected, means it is Stationary Data\n"
     ]
    }
   ],
   "source": [
    "dickey_fuller(df_airline['2nd_Difference'].dropna())"
   ]
  },
  {
   "cell_type": "code",
   "execution_count": 55,
   "id": "f00febef",
   "metadata": {},
   "outputs": [],
   "source": [
    "df_airline[\"12_mnth_Difference\"]=df_airline['Thousands of Passengers']-df_airline['Thousands of Passengers'].shift(12)"
   ]
  },
  {
   "cell_type": "code",
   "execution_count": 56,
   "id": "5ed3edb5",
   "metadata": {},
   "outputs": [
    {
     "data": {
      "text/html": [
       "<div>\n",
       "<style scoped>\n",
       "    .dataframe tbody tr th:only-of-type {\n",
       "        vertical-align: middle;\n",
       "    }\n",
       "\n",
       "    .dataframe tbody tr th {\n",
       "        vertical-align: top;\n",
       "    }\n",
       "\n",
       "    .dataframe thead th {\n",
       "        text-align: right;\n",
       "    }\n",
       "</style>\n",
       "<table border=\"1\" class=\"dataframe\">\n",
       "  <thead>\n",
       "    <tr style=\"text-align: right;\">\n",
       "      <th></th>\n",
       "      <th>Thousands of Passengers</th>\n",
       "      <th>Passengers value shift</th>\n",
       "      <th>Difference</th>\n",
       "      <th>2nd_Difference</th>\n",
       "      <th>12_mnth_Difference</th>\n",
       "    </tr>\n",
       "    <tr>\n",
       "      <th>Month_Dt</th>\n",
       "      <th></th>\n",
       "      <th></th>\n",
       "      <th></th>\n",
       "      <th></th>\n",
       "      <th></th>\n",
       "    </tr>\n",
       "  </thead>\n",
       "  <tbody>\n",
       "    <tr>\n",
       "      <th>1949-01-01</th>\n",
       "      <td>112.0</td>\n",
       "      <td>NaN</td>\n",
       "      <td>NaN</td>\n",
       "      <td>NaN</td>\n",
       "      <td>NaN</td>\n",
       "    </tr>\n",
       "    <tr>\n",
       "      <th>1949-02-01</th>\n",
       "      <td>118.0</td>\n",
       "      <td>112.0</td>\n",
       "      <td>6.0</td>\n",
       "      <td>NaN</td>\n",
       "      <td>NaN</td>\n",
       "    </tr>\n",
       "    <tr>\n",
       "      <th>1949-03-01</th>\n",
       "      <td>132.0</td>\n",
       "      <td>118.0</td>\n",
       "      <td>14.0</td>\n",
       "      <td>8.0</td>\n",
       "      <td>NaN</td>\n",
       "    </tr>\n",
       "    <tr>\n",
       "      <th>1949-04-01</th>\n",
       "      <td>129.0</td>\n",
       "      <td>132.0</td>\n",
       "      <td>-3.0</td>\n",
       "      <td>-17.0</td>\n",
       "      <td>NaN</td>\n",
       "    </tr>\n",
       "    <tr>\n",
       "      <th>1949-05-01</th>\n",
       "      <td>121.0</td>\n",
       "      <td>129.0</td>\n",
       "      <td>-8.0</td>\n",
       "      <td>-5.0</td>\n",
       "      <td>NaN</td>\n",
       "    </tr>\n",
       "    <tr>\n",
       "      <th>1949-06-01</th>\n",
       "      <td>135.0</td>\n",
       "      <td>121.0</td>\n",
       "      <td>14.0</td>\n",
       "      <td>22.0</td>\n",
       "      <td>NaN</td>\n",
       "    </tr>\n",
       "    <tr>\n",
       "      <th>1949-07-01</th>\n",
       "      <td>148.0</td>\n",
       "      <td>135.0</td>\n",
       "      <td>13.0</td>\n",
       "      <td>-1.0</td>\n",
       "      <td>NaN</td>\n",
       "    </tr>\n",
       "    <tr>\n",
       "      <th>1949-08-01</th>\n",
       "      <td>148.0</td>\n",
       "      <td>148.0</td>\n",
       "      <td>0.0</td>\n",
       "      <td>-13.0</td>\n",
       "      <td>NaN</td>\n",
       "    </tr>\n",
       "    <tr>\n",
       "      <th>1949-09-01</th>\n",
       "      <td>136.0</td>\n",
       "      <td>148.0</td>\n",
       "      <td>-12.0</td>\n",
       "      <td>-12.0</td>\n",
       "      <td>NaN</td>\n",
       "    </tr>\n",
       "    <tr>\n",
       "      <th>1949-10-01</th>\n",
       "      <td>119.0</td>\n",
       "      <td>136.0</td>\n",
       "      <td>-17.0</td>\n",
       "      <td>-5.0</td>\n",
       "      <td>NaN</td>\n",
       "    </tr>\n",
       "    <tr>\n",
       "      <th>1949-11-01</th>\n",
       "      <td>104.0</td>\n",
       "      <td>119.0</td>\n",
       "      <td>-15.0</td>\n",
       "      <td>2.0</td>\n",
       "      <td>NaN</td>\n",
       "    </tr>\n",
       "    <tr>\n",
       "      <th>1949-12-01</th>\n",
       "      <td>118.0</td>\n",
       "      <td>104.0</td>\n",
       "      <td>14.0</td>\n",
       "      <td>29.0</td>\n",
       "      <td>NaN</td>\n",
       "    </tr>\n",
       "    <tr>\n",
       "      <th>1950-01-01</th>\n",
       "      <td>115.0</td>\n",
       "      <td>118.0</td>\n",
       "      <td>-3.0</td>\n",
       "      <td>-17.0</td>\n",
       "      <td>3.0</td>\n",
       "    </tr>\n",
       "    <tr>\n",
       "      <th>1950-02-01</th>\n",
       "      <td>126.0</td>\n",
       "      <td>115.0</td>\n",
       "      <td>11.0</td>\n",
       "      <td>14.0</td>\n",
       "      <td>8.0</td>\n",
       "    </tr>\n",
       "    <tr>\n",
       "      <th>1950-03-01</th>\n",
       "      <td>141.0</td>\n",
       "      <td>126.0</td>\n",
       "      <td>15.0</td>\n",
       "      <td>4.0</td>\n",
       "      <td>9.0</td>\n",
       "    </tr>\n",
       "  </tbody>\n",
       "</table>\n",
       "</div>"
      ],
      "text/plain": [
       "            Thousands of Passengers  Passengers value shift  Difference  \\\n",
       "Month_Dt                                                                  \n",
       "1949-01-01                    112.0                     NaN         NaN   \n",
       "1949-02-01                    118.0                   112.0         6.0   \n",
       "1949-03-01                    132.0                   118.0        14.0   \n",
       "1949-04-01                    129.0                   132.0        -3.0   \n",
       "1949-05-01                    121.0                   129.0        -8.0   \n",
       "1949-06-01                    135.0                   121.0        14.0   \n",
       "1949-07-01                    148.0                   135.0        13.0   \n",
       "1949-08-01                    148.0                   148.0         0.0   \n",
       "1949-09-01                    136.0                   148.0       -12.0   \n",
       "1949-10-01                    119.0                   136.0       -17.0   \n",
       "1949-11-01                    104.0                   119.0       -15.0   \n",
       "1949-12-01                    118.0                   104.0        14.0   \n",
       "1950-01-01                    115.0                   118.0        -3.0   \n",
       "1950-02-01                    126.0                   115.0        11.0   \n",
       "1950-03-01                    141.0                   126.0        15.0   \n",
       "\n",
       "            2nd_Difference  12_mnth_Difference  \n",
       "Month_Dt                                        \n",
       "1949-01-01             NaN                 NaN  \n",
       "1949-02-01             NaN                 NaN  \n",
       "1949-03-01             8.0                 NaN  \n",
       "1949-04-01           -17.0                 NaN  \n",
       "1949-05-01            -5.0                 NaN  \n",
       "1949-06-01            22.0                 NaN  \n",
       "1949-07-01            -1.0                 NaN  \n",
       "1949-08-01           -13.0                 NaN  \n",
       "1949-09-01           -12.0                 NaN  \n",
       "1949-10-01            -5.0                 NaN  \n",
       "1949-11-01             2.0                 NaN  \n",
       "1949-12-01            29.0                 NaN  \n",
       "1950-01-01           -17.0                 3.0  \n",
       "1950-02-01            14.0                 8.0  \n",
       "1950-03-01             4.0                 9.0  "
      ]
     },
     "execution_count": 56,
     "metadata": {},
     "output_type": "execute_result"
    }
   ],
   "source": [
    "df_airline.head(15)"
   ]
  },
  {
   "cell_type": "code",
   "execution_count": 57,
   "id": "15956b8e",
   "metadata": {},
   "outputs": [
    {
     "name": "stdout",
     "output_type": "stream",
     "text": [
      "ADF-Stats\n",
      "-3.3830207264924805\n",
      "P-Value : 0.011551493085514982\n",
      "Null Hypothesis Rejected, means it is Stationary Data\n"
     ]
    }
   ],
   "source": [
    "dickey_fuller(df_airline['12_mnth_Difference'].dropna())"
   ]
  },
  {
   "cell_type": "markdown",
   "id": "08a9dcf7",
   "metadata": {},
   "source": [
    "# Signific. of ACF and PACF\n",
    "\n",
    "## https://math.stackexchange.com/questions/2548314/what-is-lag-in-a-time-series\n",
    "## https://towardsdatascience.com/significance-of-acf-and-pacf-plots-in-time-series-analysis-2fa11a5d10a8"
   ]
  },
  {
   "cell_type": "code",
   "execution_count": 58,
   "id": "381a92cb",
   "metadata": {},
   "outputs": [],
   "source": [
    "from statsmodels.graphics.tsaplots import plot_acf,plot_pacf"
   ]
  },
  {
   "cell_type": "code",
   "execution_count": 59,
   "id": "4e86ba31",
   "metadata": {},
   "outputs": [
    {
     "data": {
      "image/png": "[encoded data removed]",
      "text/plain": [
       "<Figure size 432x288 with 1 Axes>"
      ]
     },
     "metadata": {
      "needs_background": "light"
     },
     "output_type": "display_data"
    }
   ],
   "source": [
    "acf = plot_acf(df_airline['2nd_Difference'].dropna())"
   ]
  },
  {
   "cell_type": "code",
   "execution_count": 60,
   "id": "0d750dfd",
   "metadata": {},
   "outputs": [
    {
     "data": {
      "image/png": "[encoded data removed]",
      "text/plain": [
       "<Figure size 432x288 with 1 Axes>"
      ]
     },
     "metadata": {
      "needs_background": "light"
     },
     "output_type": "display_data"
    }
   ],
   "source": [
    "acf12 = plot_acf(df_airline['12_mnth_Difference'].dropna())"
   ]
  },
  {
   "cell_type": "code",
   "execution_count": 61,
   "id": "aca1f0ff",
   "metadata": {},
   "outputs": [
    {
     "name": "stderr",
     "output_type": "stream",
     "text": [
      "C:\\Users\\Srivatsan\\anaconda3\\lib\\site-packages\\statsmodels\\regression\\linear_model.py:1434: RuntimeWarning: invalid value encountered in sqrt\n",
      "  return rho, np.sqrt(sigmasq)\n"
     ]
    },
    {
     "data": {
      "image/png": "[encoded data removed]",
      "text/plain": [
       "<Figure size 432x288 with 1 Axes>"
      ]
     },
     "metadata": {
      "needs_background": "light"
     },
     "output_type": "display_data"
    }
   ],
   "source": [
    "pacf = plot_pacf(df_airline['2nd_Difference'].dropna())"
   ]
  },
  {
   "cell_type": "code",
   "execution_count": 62,
   "id": "1ae51d80",
   "metadata": {},
   "outputs": [
    {
     "data": {
      "image/png": "[encoded data removed]",
      "text/plain": [
       "<Figure size 432x288 with 1 Axes>"
      ]
     },
     "metadata": {
      "needs_background": "light"
     },
     "output_type": "display_data"
    }
   ],
   "source": [
    "pacf12 = plot_pacf(df_airline['12_mnth_Difference'].dropna())"
   ]
  },
  {
   "cell_type": "code",
   "execution_count": 63,
   "id": "580cc312",
   "metadata": {},
   "outputs": [
    {
     "data": {
      "text/html": [
       "<div>\n",
       "<style scoped>\n",
       "    .dataframe tbody tr th:only-of-type {\n",
       "        vertical-align: middle;\n",
       "    }\n",
       "\n",
       "    .dataframe tbody tr th {\n",
       "        vertical-align: top;\n",
       "    }\n",
       "\n",
       "    .dataframe thead th {\n",
       "        text-align: right;\n",
       "    }\n",
       "</style>\n",
       "<table border=\"1\" class=\"dataframe\">\n",
       "  <thead>\n",
       "    <tr style=\"text-align: right;\">\n",
       "      <th></th>\n",
       "      <th>Thousands of Passengers</th>\n",
       "      <th>Passengers value shift</th>\n",
       "      <th>Difference</th>\n",
       "      <th>2nd_Difference</th>\n",
       "      <th>12_mnth_Difference</th>\n",
       "    </tr>\n",
       "    <tr>\n",
       "      <th>Month_Dt</th>\n",
       "      <th></th>\n",
       "      <th></th>\n",
       "      <th></th>\n",
       "      <th></th>\n",
       "      <th></th>\n",
       "    </tr>\n",
       "  </thead>\n",
       "  <tbody>\n",
       "    <tr>\n",
       "      <th>1949-01-01</th>\n",
       "      <td>112.0</td>\n",
       "      <td>NaN</td>\n",
       "      <td>NaN</td>\n",
       "      <td>NaN</td>\n",
       "      <td>NaN</td>\n",
       "    </tr>\n",
       "    <tr>\n",
       "      <th>1949-02-01</th>\n",
       "      <td>118.0</td>\n",
       "      <td>112.0</td>\n",
       "      <td>6.0</td>\n",
       "      <td>NaN</td>\n",
       "      <td>NaN</td>\n",
       "    </tr>\n",
       "    <tr>\n",
       "      <th>1949-03-01</th>\n",
       "      <td>132.0</td>\n",
       "      <td>118.0</td>\n",
       "      <td>14.0</td>\n",
       "      <td>8.0</td>\n",
       "      <td>NaN</td>\n",
       "    </tr>\n",
       "    <tr>\n",
       "      <th>1949-04-01</th>\n",
       "      <td>129.0</td>\n",
       "      <td>132.0</td>\n",
       "      <td>-3.0</td>\n",
       "      <td>-17.0</td>\n",
       "      <td>NaN</td>\n",
       "    </tr>\n",
       "    <tr>\n",
       "      <th>1949-05-01</th>\n",
       "      <td>121.0</td>\n",
       "      <td>129.0</td>\n",
       "      <td>-8.0</td>\n",
       "      <td>-5.0</td>\n",
       "      <td>NaN</td>\n",
       "    </tr>\n",
       "    <tr>\n",
       "      <th>...</th>\n",
       "      <td>...</td>\n",
       "      <td>...</td>\n",
       "      <td>...</td>\n",
       "      <td>...</td>\n",
       "      <td>...</td>\n",
       "    </tr>\n",
       "    <tr>\n",
       "      <th>1960-08-01</th>\n",
       "      <td>606.0</td>\n",
       "      <td>622.0</td>\n",
       "      <td>-16.0</td>\n",
       "      <td>-103.0</td>\n",
       "      <td>47.0</td>\n",
       "    </tr>\n",
       "    <tr>\n",
       "      <th>1960-09-01</th>\n",
       "      <td>508.0</td>\n",
       "      <td>606.0</td>\n",
       "      <td>-98.0</td>\n",
       "      <td>-82.0</td>\n",
       "      <td>45.0</td>\n",
       "    </tr>\n",
       "    <tr>\n",
       "      <th>1960-10-01</th>\n",
       "      <td>461.0</td>\n",
       "      <td>508.0</td>\n",
       "      <td>-47.0</td>\n",
       "      <td>51.0</td>\n",
       "      <td>54.0</td>\n",
       "    </tr>\n",
       "    <tr>\n",
       "      <th>1960-11-01</th>\n",
       "      <td>390.0</td>\n",
       "      <td>461.0</td>\n",
       "      <td>-71.0</td>\n",
       "      <td>-24.0</td>\n",
       "      <td>28.0</td>\n",
       "    </tr>\n",
       "    <tr>\n",
       "      <th>1960-12-01</th>\n",
       "      <td>432.0</td>\n",
       "      <td>390.0</td>\n",
       "      <td>42.0</td>\n",
       "      <td>113.0</td>\n",
       "      <td>27.0</td>\n",
       "    </tr>\n",
       "  </tbody>\n",
       "</table>\n",
       "<p>144 rows × 5 columns</p>\n",
       "</div>"
      ],
      "text/plain": [
       "            Thousands of Passengers  Passengers value shift  Difference  \\\n",
       "Month_Dt                                                                  \n",
       "1949-01-01                    112.0                     NaN         NaN   \n",
       "1949-02-01                    118.0                   112.0         6.0   \n",
       "1949-03-01                    132.0                   118.0        14.0   \n",
       "1949-04-01                    129.0                   132.0        -3.0   \n",
       "1949-05-01                    121.0                   129.0        -8.0   \n",
       "...                             ...                     ...         ...   \n",
       "1960-08-01                    606.0                   622.0       -16.0   \n",
       "1960-09-01                    508.0                   606.0       -98.0   \n",
       "1960-10-01                    461.0                   508.0       -47.0   \n",
       "1960-11-01                    390.0                   461.0       -71.0   \n",
       "1960-12-01                    432.0                   390.0        42.0   \n",
       "\n",
       "            2nd_Difference  12_mnth_Difference  \n",
       "Month_Dt                                        \n",
       "1949-01-01             NaN                 NaN  \n",
       "1949-02-01             NaN                 NaN  \n",
       "1949-03-01             8.0                 NaN  \n",
       "1949-04-01           -17.0                 NaN  \n",
       "1949-05-01            -5.0                 NaN  \n",
       "...                    ...                 ...  \n",
       "1960-08-01          -103.0                47.0  \n",
       "1960-09-01           -82.0                45.0  \n",
       "1960-10-01            51.0                54.0  \n",
       "1960-11-01           -24.0                28.0  \n",
       "1960-12-01           113.0                27.0  \n",
       "\n",
       "[144 rows x 5 columns]"
      ]
     },
     "execution_count": 63,
     "metadata": {},
     "output_type": "execute_result"
    }
   ],
   "source": [
    "df_airline"
   ]
  },
  {
   "cell_type": "code",
   "execution_count": 64,
   "id": "754a8b85",
   "metadata": {},
   "outputs": [],
   "source": [
    "from datetime import datetime,timedelta\n",
    "train_dataset_end = datetime(1955,12,1)\n",
    "test_dataset_end=datetime(1960,12,1)\n",
    "\n",
    "train_data=df_airline[:train_dataset_end]\n",
    "test_data=df_airline[train_dataset_end+timedelta(days=1):test_dataset_end]"
   ]
  },
  {
   "cell_type": "code",
   "execution_count": 65,
   "id": "e4e0582b",
   "metadata": {},
   "outputs": [
    {
     "data": {
      "text/plain": [
       "Timestamp('1949-01-01 00:00:00')"
      ]
     },
     "execution_count": 65,
     "metadata": {},
     "output_type": "execute_result"
    }
   ],
   "source": [
    "train_data.index[0]"
   ]
  },
  {
   "cell_type": "code",
   "execution_count": 67,
   "id": "1f850384",
   "metadata": {},
   "outputs": [],
   "source": [
    "pred_start=test_data.index[0]\n",
    "\n",
    "pred_end=test_data.index[-1]"
   ]
  },
  {
   "cell_type": "markdown",
   "id": "1638d637",
   "metadata": {},
   "source": [
    "# ARIMA\n",
    "## https://machinelearningmastery.com/arima-for-time-series-forecasting-with-python/"
   ]
  },
  {
   "cell_type": "code",
   "execution_count": 80,
   "id": "92591283",
   "metadata": {},
   "outputs": [],
   "source": [
    "## ARIMA Model\n",
    "\n",
    "from statsmodels.tsa.arima_model import ARIMA"
   ]
  },
  {
   "cell_type": "code",
   "execution_count": 116,
   "id": "afebd88a",
   "metadata": {},
   "outputs": [
    {
     "name": "stderr",
     "output_type": "stream",
     "text": [
      "C:\\Users\\Srivatsan\\anaconda3\\lib\\site-packages\\statsmodels\\tsa\\arima_model.py:472: FutureWarning: \n",
      "statsmodels.tsa.arima_model.ARMA and statsmodels.tsa.arima_model.ARIMA have\n",
      "been deprecated in favor of statsmodels.tsa.arima.model.ARIMA (note the .\n",
      "between arima and model) and\n",
      "statsmodels.tsa.SARIMAX. These will be removed after the 0.12 release.\n",
      "\n",
      "statsmodels.tsa.arima.model.ARIMA makes use of the statespace framework and\n",
      "is both well tested and maintained.\n",
      "\n",
      "To silence this warning and continue using ARMA and ARIMA until they are\n",
      "removed, use:\n",
      "\n",
      "import warnings\n",
      "warnings.filterwarnings('ignore', 'statsmodels.tsa.arima_model.ARMA',\n",
      "                        FutureWarning)\n",
      "warnings.filterwarnings('ignore', 'statsmodels.tsa.arima_model.ARIMA',\n",
      "                        FutureWarning)\n",
      "\n",
      "  warnings.warn(ARIMA_DEPRECATION_WARN, FutureWarning)\n",
      "C:\\Users\\Srivatsan\\anaconda3\\lib\\site-packages\\statsmodels\\tsa\\base\\tsa_model.py:524: ValueWarning: No frequency information was provided, so inferred frequency MS will be used.\n",
      "  warnings.warn('No frequency information was'\n",
      "C:\\Users\\Srivatsan\\anaconda3\\lib\\site-packages\\statsmodels\\tsa\\base\\tsa_model.py:524: ValueWarning: No frequency information was provided, so inferred frequency MS will be used.\n",
      "  warnings.warn('No frequency information was'\n"
     ]
    }
   ],
   "source": [
    "model_arima = ARIMA(train_data['Thousands of Passengers'],order=(8,2,7))"
   ]
  },
  {
   "cell_type": "code",
   "execution_count": 117,
   "id": "9c5d63e9",
   "metadata": {},
   "outputs": [
    {
     "name": "stderr",
     "output_type": "stream",
     "text": [
      "C:\\Users\\Srivatsan\\anaconda3\\lib\\site-packages\\statsmodels\\tsa\\tsatools.py:701: RuntimeWarning: overflow encountered in exp\n",
      "  newparams = ((1-np.exp(-params))/(1+np.exp(-params))).copy()\n",
      "C:\\Users\\Srivatsan\\anaconda3\\lib\\site-packages\\statsmodels\\tsa\\tsatools.py:701: RuntimeWarning: invalid value encountered in true_divide\n",
      "  newparams = ((1-np.exp(-params))/(1+np.exp(-params))).copy()\n",
      "C:\\Users\\Srivatsan\\anaconda3\\lib\\site-packages\\statsmodels\\tsa\\tsatools.py:702: RuntimeWarning: overflow encountered in exp\n",
      "  tmp = ((1-np.exp(-params))/(1+np.exp(-params))).copy()\n",
      "C:\\Users\\Srivatsan\\anaconda3\\lib\\site-packages\\statsmodels\\tsa\\tsatools.py:702: RuntimeWarning: invalid value encountered in true_divide\n",
      "  tmp = ((1-np.exp(-params))/(1+np.exp(-params))).copy()\n",
      "C:\\Users\\Srivatsan\\anaconda3\\lib\\site-packages\\statsmodels\\base\\model.py:547: HessianInversionWarning: Inverting hessian failed, no bse or cov_params available\n",
      "  warnings.warn('Inverting hessian failed, no bse or cov_params '\n",
      "C:\\Users\\Srivatsan\\anaconda3\\lib\\site-packages\\statsmodels\\base\\model.py:566: ConvergenceWarning: Maximum Likelihood optimization failed to converge. Check mle_retvals\n",
      "  warnings.warn(\"Maximum Likelihood optimization failed to \"\n",
      "C:\\Users\\Srivatsan\\anaconda3\\lib\\site-packages\\statsmodels\\tsa\\arima_model.py:472: FutureWarning: \n",
      "statsmodels.tsa.arima_model.ARMA and statsmodels.tsa.arima_model.ARIMA have\n",
      "been deprecated in favor of statsmodels.tsa.arima.model.ARIMA (note the .\n",
      "between arima and model) and\n",
      "statsmodels.tsa.SARIMAX. These will be removed after the 0.12 release.\n",
      "\n",
      "statsmodels.tsa.arima.model.ARIMA makes use of the statespace framework and\n",
      "is both well tested and maintained.\n",
      "\n",
      "To silence this warning and continue using ARMA and ARIMA until they are\n",
      "removed, use:\n",
      "\n",
      "import warnings\n",
      "warnings.filterwarnings('ignore', 'statsmodels.tsa.arima_model.ARMA',\n",
      "                        FutureWarning)\n",
      "warnings.filterwarnings('ignore', 'statsmodels.tsa.arima_model.ARIMA',\n",
      "                        FutureWarning)\n",
      "\n",
      "  warnings.warn(ARIMA_DEPRECATION_WARN, FutureWarning)\n",
      "C:\\Users\\Srivatsan\\anaconda3\\lib\\site-packages\\statsmodels\\tsa\\arima_model.py:1521: RuntimeWarning: invalid value encountered in sqrt\n",
      "  return np.sqrt(np.diag(-inv(hess)))\n"
     ]
    },
    {
     "data": {
      "text/html": [
       "<table class=\"simpletable\">\n",
       "<caption>ARIMA Model Results</caption>\n",
       "<tr>\n",
       "  <th>Dep. Variable:</th> <td>D2.Thousands of Passengers</td> <th>  No. Observations:  </th>    <td>82</td>   \n",
       "</tr>\n",
       "<tr>\n",
       "  <th>Model:</th>               <td>ARIMA(8, 2, 7)</td>       <th>  Log Likelihood     </th> <td>-341.379</td>\n",
       "</tr>\n",
       "<tr>\n",
       "  <th>Method:</th>                  <td>css-mle</td>          <th>  S.D. of innovations</th>   <td>  nan</td> \n",
       "</tr>\n",
       "<tr>\n",
       "  <th>Date:</th>               <td>Sun, 05 Jun 2022</td>      <th>  AIC                </th>  <td>716.758</td>\n",
       "</tr>\n",
       "<tr>\n",
       "  <th>Time:</th>                   <td>15:42:51</td>          <th>  BIC                </th>  <td>757.672</td>\n",
       "</tr>\n",
       "<tr>\n",
       "  <th>Sample:</th>                <td>03-01-1949</td>         <th>  HQIC               </th>  <td>733.184</td>\n",
       "</tr>\n",
       "<tr>\n",
       "  <th></th>                      <td>- 12-01-1955</td>        <th>                     </th>     <td> </td>   \n",
       "</tr>\n",
       "</table>\n",
       "<table class=\"simpletable\">\n",
       "<tr>\n",
       "                  <td></td>                    <th>coef</th>     <th>std err</th>      <th>z</th>      <th>P>|z|</th>  <th>[0.025</th>    <th>0.975]</th>  \n",
       "</tr>\n",
       "<tr>\n",
       "  <th>const</th>                            <td>    0.0401</td> <td>      nan</td> <td>      nan</td> <td>   nan</td> <td>      nan</td> <td>      nan</td>\n",
       "</tr>\n",
       "<tr>\n",
       "  <th>ar.L1.D2.Thousands of Passengers</th> <td>    0.0489</td> <td> 7.25e-06</td> <td> 6746.400</td> <td> 0.000</td> <td>    0.049</td> <td>    0.049</td>\n",
       "</tr>\n",
       "<tr>\n",
       "  <th>ar.L2.D2.Thousands of Passengers</th> <td>   -0.0671</td> <td> 1.59e-05</td> <td>-4221.321</td> <td> 0.000</td> <td>   -0.067</td> <td>   -0.067</td>\n",
       "</tr>\n",
       "<tr>\n",
       "  <th>ar.L3.D2.Thousands of Passengers</th> <td>    0.0310</td> <td>      nan</td> <td>      nan</td> <td>   nan</td> <td>      nan</td> <td>      nan</td>\n",
       "</tr>\n",
       "<tr>\n",
       "  <th>ar.L4.D2.Thousands of Passengers</th> <td>   -0.8487</td> <td>    0.000</td> <td>-3767.063</td> <td> 0.000</td> <td>   -0.849</td> <td>   -0.848</td>\n",
       "</tr>\n",
       "<tr>\n",
       "  <th>ar.L5.D2.Thousands of Passengers</th> <td>   -0.0660</td> <td> 2.46e-05</td> <td>-2684.320</td> <td> 0.000</td> <td>   -0.066</td> <td>   -0.066</td>\n",
       "</tr>\n",
       "<tr>\n",
       "  <th>ar.L6.D2.Thousands of Passengers</th> <td>    0.0227</td> <td>      nan</td> <td>      nan</td> <td>   nan</td> <td>      nan</td> <td>      nan</td>\n",
       "</tr>\n",
       "<tr>\n",
       "  <th>ar.L7.D2.Thousands of Passengers</th> <td>   -0.1418</td> <td>      nan</td> <td>      nan</td> <td>   nan</td> <td>      nan</td> <td>      nan</td>\n",
       "</tr>\n",
       "<tr>\n",
       "  <th>ar.L8.D2.Thousands of Passengers</th> <td>   -0.8140</td> <td>      nan</td> <td>      nan</td> <td>   nan</td> <td>      nan</td> <td>      nan</td>\n",
       "</tr>\n",
       "<tr>\n",
       "  <th>ma.L1.D2.Thousands of Passengers</th> <td>   -1.3262</td> <td>    0.071</td> <td>  -18.685</td> <td> 0.000</td> <td>   -1.465</td> <td>   -1.187</td>\n",
       "</tr>\n",
       "<tr>\n",
       "  <th>ma.L2.D2.Thousands of Passengers</th> <td>   -0.1474</td> <td>    0.180</td> <td>   -0.819</td> <td> 0.413</td> <td>   -0.500</td> <td>    0.205</td>\n",
       "</tr>\n",
       "<tr>\n",
       "  <th>ma.L3.D2.Thousands of Passengers</th> <td>    0.3159</td> <td>    0.152</td> <td>    2.078</td> <td> 0.038</td> <td>    0.018</td> <td>    0.614</td>\n",
       "</tr>\n",
       "<tr>\n",
       "  <th>ma.L4.D2.Thousands of Passengers</th> <td>    1.2310</td> <td>    0.221</td> <td>    5.569</td> <td> 0.000</td> <td>    0.798</td> <td>    1.664</td>\n",
       "</tr>\n",
       "<tr>\n",
       "  <th>ma.L5.D2.Thousands of Passengers</th> <td>   -1.0662</td> <td>    0.132</td> <td>   -8.100</td> <td> 0.000</td> <td>   -1.324</td> <td>   -0.808</td>\n",
       "</tr>\n",
       "<tr>\n",
       "  <th>ma.L6.D2.Thousands of Passengers</th> <td>   -0.3310</td> <td>    0.180</td> <td>   -1.838</td> <td> 0.066</td> <td>   -0.684</td> <td>    0.022</td>\n",
       "</tr>\n",
       "<tr>\n",
       "  <th>ma.L7.D2.Thousands of Passengers</th> <td>    0.3238</td> <td>    0.104</td> <td>    3.111</td> <td> 0.002</td> <td>    0.120</td> <td>    0.528</td>\n",
       "</tr>\n",
       "</table>\n",
       "<table class=\"simpletable\">\n",
       "<caption>Roots</caption>\n",
       "<tr>\n",
       "    <td></td>   <th>            Real</th>  <th>         Imaginary</th> <th>         Modulus</th>  <th>        Frequency</th>\n",
       "</tr>\n",
       "<tr>\n",
       "  <th>AR.1</th> <td>           0.8665</td> <td>          -0.4992j</td> <td>           1.0000</td> <td>          -0.0832</td>\n",
       "</tr>\n",
       "<tr>\n",
       "  <th>AR.2</th> <td>           0.8665</td> <td>          +0.4992j</td> <td>           1.0000</td> <td>           0.0832</td>\n",
       "</tr>\n",
       "<tr>\n",
       "  <th>AR.3</th> <td>           0.4899</td> <td>          -0.9011j</td> <td>           1.0256</td> <td>          -0.1707</td>\n",
       "</tr>\n",
       "<tr>\n",
       "  <th>AR.4</th> <td>           0.4899</td> <td>          +0.9011j</td> <td>           1.0256</td> <td>           0.1707</td>\n",
       "</tr>\n",
       "<tr>\n",
       "  <th>AR.5</th> <td>          -0.4993</td> <td>          -0.8665j</td> <td>           1.0000</td> <td>          -0.3332</td>\n",
       "</tr>\n",
       "<tr>\n",
       "  <th>AR.6</th> <td>          -0.4993</td> <td>          +0.8665j</td> <td>           1.0000</td> <td>           0.3332</td>\n",
       "</tr>\n",
       "<tr>\n",
       "  <th>AR.7</th> <td>          -0.9441</td> <td>          -0.5258j</td> <td>           1.0807</td> <td>          -0.4191</td>\n",
       "</tr>\n",
       "<tr>\n",
       "  <th>AR.8</th> <td>          -0.9441</td> <td>          +0.5258j</td> <td>           1.0807</td> <td>           0.4191</td>\n",
       "</tr>\n",
       "<tr>\n",
       "  <th>MA.1</th> <td>          -0.6760</td> <td>          -0.7369j</td> <td>           1.0000</td> <td>          -0.3682</td>\n",
       "</tr>\n",
       "<tr>\n",
       "  <th>MA.2</th> <td>          -0.6760</td> <td>          +0.7369j</td> <td>           1.0000</td> <td>           0.3682</td>\n",
       "</tr>\n",
       "<tr>\n",
       "  <th>MA.3</th> <td>          -1.8759</td> <td>          -0.0000j</td> <td>           1.8759</td> <td>          -0.5000</td>\n",
       "</tr>\n",
       "<tr>\n",
       "  <th>MA.4</th> <td>           0.8019</td> <td>          -0.5974j</td> <td>           1.0000</td> <td>          -0.1019</td>\n",
       "</tr>\n",
       "<tr>\n",
       "  <th>MA.5</th> <td>           0.8019</td> <td>          +0.5974j</td> <td>           1.0000</td> <td>           0.1019</td>\n",
       "</tr>\n",
       "<tr>\n",
       "  <th>MA.6</th> <td>           1.0000</td> <td>          -0.0000j</td> <td>           1.0000</td> <td>          -0.0000</td>\n",
       "</tr>\n",
       "<tr>\n",
       "  <th>MA.7</th> <td>           1.6461</td> <td>          -0.0000j</td> <td>           1.6461</td> <td>          -0.0000</td>\n",
       "</tr>\n",
       "</table>"
      ],
      "text/plain": [
       "<class 'statsmodels.iolib.summary.Summary'>\n",
       "\"\"\"\n",
       "                                 ARIMA Model Results                                  \n",
       "======================================================================================\n",
       "Dep. Variable:     D2.Thousands of Passengers   No. Observations:                   82\n",
       "Model:                         ARIMA(8, 2, 7)   Log Likelihood                -341.379\n",
       "Method:                               css-mle   S.D. of innovations                nan\n",
       "Date:                        Sun, 05 Jun 2022   AIC                            716.758\n",
       "Time:                                15:42:51   BIC                            757.672\n",
       "Sample:                            03-01-1949   HQIC                           733.184\n",
       "                                 - 12-01-1955                                         \n",
       "====================================================================================================\n",
       "                                       coef    std err          z      P>|z|      [0.025      0.975]\n",
       "----------------------------------------------------------------------------------------------------\n",
       "const                                0.0401        nan        nan        nan         nan         nan\n",
       "ar.L1.D2.Thousands of Passengers     0.0489   7.25e-06   6746.400      0.000       0.049       0.049\n",
       "ar.L2.D2.Thousands of Passengers    -0.0671   1.59e-05  -4221.321      0.000      -0.067      -0.067\n",
       "ar.L3.D2.Thousands of Passengers     0.0310        nan        nan        nan         nan         nan\n",
       "ar.L4.D2.Thousands of Passengers    -0.8487      0.000  -3767.063      0.000      -0.849      -0.848\n",
       "ar.L5.D2.Thousands of Passengers    -0.0660   2.46e-05  -2684.320      0.000      -0.066      -0.066\n",
       "ar.L6.D2.Thousands of Passengers     0.0227        nan        nan        nan         nan         nan\n",
       "ar.L7.D2.Thousands of Passengers    -0.1418        nan        nan        nan         nan         nan\n",
       "ar.L8.D2.Thousands of Passengers    -0.8140        nan        nan        nan         nan         nan\n",
       "ma.L1.D2.Thousands of Passengers    -1.3262      0.071    -18.685      0.000      -1.465      -1.187\n",
       "ma.L2.D2.Thousands of Passengers    -0.1474      0.180     -0.819      0.413      -0.500       0.205\n",
       "ma.L3.D2.Thousands of Passengers     0.3159      0.152      2.078      0.038       0.018       0.614\n",
       "ma.L4.D2.Thousands of Passengers     1.2310      0.221      5.569      0.000       0.798       1.664\n",
       "ma.L5.D2.Thousands of Passengers    -1.0662      0.132     -8.100      0.000      -1.324      -0.808\n",
       "ma.L6.D2.Thousands of Passengers    -0.3310      0.180     -1.838      0.066      -0.684       0.022\n",
       "ma.L7.D2.Thousands of Passengers     0.3238      0.104      3.111      0.002       0.120       0.528\n",
       "                                    Roots                                    \n",
       "=============================================================================\n",
       "                  Real          Imaginary           Modulus         Frequency\n",
       "-----------------------------------------------------------------------------\n",
       "AR.1            0.8665           -0.4992j            1.0000           -0.0832\n",
       "AR.2            0.8665           +0.4992j            1.0000            0.0832\n",
       "AR.3            0.4899           -0.9011j            1.0256           -0.1707\n",
       "AR.4            0.4899           +0.9011j            1.0256            0.1707\n",
       "AR.5           -0.4993           -0.8665j            1.0000           -0.3332\n",
       "AR.6           -0.4993           +0.8665j            1.0000            0.3332\n",
       "AR.7           -0.9441           -0.5258j            1.0807           -0.4191\n",
       "AR.8           -0.9441           +0.5258j            1.0807            0.4191\n",
       "MA.1           -0.6760           -0.7369j            1.0000           -0.3682\n",
       "MA.2           -0.6760           +0.7369j            1.0000            0.3682\n",
       "MA.3           -1.8759           -0.0000j            1.8759           -0.5000\n",
       "MA.4            0.8019           -0.5974j            1.0000           -0.1019\n",
       "MA.5            0.8019           +0.5974j            1.0000            0.1019\n",
       "MA.6            1.0000           -0.0000j            1.0000           -0.0000\n",
       "MA.7            1.6461           -0.0000j            1.6461           -0.0000\n",
       "-----------------------------------------------------------------------------\n",
       "\"\"\""
      ]
     },
     "execution_count": 117,
     "metadata": {},
     "output_type": "execute_result"
    }
   ],
   "source": [
    "m_f=model_arima.fit()\n",
    "m_f.summary()"
   ]
  },
  {
   "cell_type": "code",
   "execution_count": 118,
   "id": "b75411e9",
   "metadata": {},
   "outputs": [],
   "source": [
    "pred=m_f.predict(start=pred_start,end=pred_end)\n",
    "residuals=test_data['Thousands of Passengers']-pred"
   ]
  },
  {
   "cell_type": "code",
   "execution_count": 119,
   "id": "024b50c7",
   "metadata": {},
   "outputs": [
    {
     "data": {
      "text/plain": [
       "1956-01-01   -19.505310\n",
       "1956-02-01   -37.679601\n",
       "1956-03-01    15.321914\n",
       "1956-04-01    18.857626\n",
       "1956-05-01     7.601740\n",
       "1956-06-01    29.789790\n",
       "1956-07-01   -16.026821\n",
       "1956-08-01   -81.031998\n",
       "1956-09-01    12.022111\n",
       "1956-10-01     8.787984\n",
       "1956-11-01    -6.110500\n",
       "1956-12-01    53.671579\n",
       "1957-01-01   -12.211373\n",
       "1957-02-01   -36.343237\n",
       "1957-03-01    30.233007\n",
       "1957-04-01    22.963682\n",
       "1957-05-01    -6.267194\n",
       "1957-06-01    25.782842\n",
       "1957-07-01   -23.667133\n",
       "1957-08-01   -67.234847\n",
       "1957-09-01    18.796283\n",
       "1957-10-01     9.163503\n",
       "1957-11-01   -12.406270\n",
       "1957-12-01    40.876550\n",
       "1958-01-01    -7.378089\n",
       "1958-02-01   -31.550355\n",
       "1958-03-01    39.481813\n",
       "1958-04-01    22.334822\n",
       "1958-05-01   -15.738271\n",
       "1958-06-01    21.558270\n",
       "1958-07-01   -24.373954\n",
       "1958-08-01   -57.516875\n",
       "1958-09-01    22.863384\n",
       "1958-10-01     7.671263\n",
       "1958-11-01   -19.227310\n",
       "1958-12-01    34.327421\n",
       "1959-01-01    -3.087008\n",
       "1959-02-01   -26.354355\n",
       "1959-03-01    44.422083\n",
       "1959-04-01    19.847423\n",
       "1959-05-01   -22.494087\n",
       "1959-06-01    18.888200\n",
       "1959-07-01   -22.085050\n",
       "1959-08-01   -50.809328\n",
       "1959-09-01    24.735017\n",
       "1959-10-01     5.108627\n",
       "1959-11-01   -24.859051\n",
       "1959-12-01    31.360619\n",
       "1960-01-01     0.965486\n",
       "1960-02-01   -22.078894\n",
       "1960-03-01    46.444031\n",
       "1960-04-01    16.890605\n",
       "1960-05-01   -27.173475\n",
       "1960-06-01    17.841822\n",
       "1960-07-01   -18.814730\n",
       "1960-08-01   -46.410670\n",
       "1960-09-01    25.005418\n",
       "1960-10-01     2.290540\n",
       "1960-11-01   -28.918053\n",
       "1960-12-01    30.457543\n",
       "Freq: MS, dtype: float64"
      ]
     },
     "execution_count": 119,
     "metadata": {},
     "output_type": "execute_result"
    }
   ],
   "source": [
    "pred"
   ]
  },
  {
   "cell_type": "code",
   "execution_count": 120,
   "id": "df99aee2",
   "metadata": {},
   "outputs": [
    {
     "data": {
      "text/plain": [
       "Month_Dt\n",
       "1956-01-01    303.505310\n",
       "1956-02-01    314.679601\n",
       "1956-03-01    301.678086\n",
       "1956-04-01    294.142374\n",
       "1956-05-01    310.398260\n",
       "1956-06-01    344.210210\n",
       "1956-07-01    429.026821\n",
       "1956-08-01    486.031998\n",
       "1956-09-01    342.977889\n",
       "1956-10-01    297.212016\n",
       "1956-11-01    277.110500\n",
       "1956-12-01    252.328421\n",
       "1957-01-01    327.211373\n",
       "1957-02-01    337.343237\n",
       "1957-03-01    325.766993\n",
       "1957-04-01    325.036318\n",
       "1957-05-01    361.267194\n",
       "1957-06-01    396.217158\n",
       "1957-07-01    488.667133\n",
       "1957-08-01    534.234847\n",
       "1957-09-01    385.203717\n",
       "1957-10-01    337.836497\n",
       "1957-11-01    317.406270\n",
       "1957-12-01    295.123450\n",
       "1958-01-01    347.378089\n",
       "1958-02-01    349.550355\n",
       "1958-03-01    322.518187\n",
       "1958-04-01    325.665178\n",
       "1958-05-01    378.738271\n",
       "1958-06-01    413.441730\n",
       "1958-07-01    515.373954\n",
       "1958-08-01    562.516875\n",
       "1958-09-01    381.136616\n",
       "1958-10-01    351.328737\n",
       "1958-11-01    329.227310\n",
       "1958-12-01    302.672579\n",
       "1959-01-01    363.087008\n",
       "1959-02-01    368.354355\n",
       "1959-03-01    361.577917\n",
       "1959-04-01    376.152577\n",
       "1959-05-01    442.494087\n",
       "1959-06-01    453.111800\n",
       "1959-07-01    570.085050\n",
       "1959-08-01    609.809328\n",
       "1959-09-01    438.264983\n",
       "1959-10-01    401.891373\n",
       "1959-11-01    386.859051\n",
       "1959-12-01    373.639381\n",
       "1960-01-01    416.034514\n",
       "1960-02-01    413.078894\n",
       "1960-03-01    372.555969\n",
       "1960-04-01    444.109395\n",
       "1960-05-01    499.173475\n",
       "1960-06-01    517.158178\n",
       "1960-07-01    640.814730\n",
       "1960-08-01    652.410670\n",
       "1960-09-01    482.994582\n",
       "1960-10-01    458.709460\n",
       "1960-11-01    418.918053\n",
       "1960-12-01    401.542457\n",
       "dtype: float64"
      ]
     },
     "execution_count": 120,
     "metadata": {},
     "output_type": "execute_result"
    }
   ],
   "source": [
    "residuals"
   ]
  },
  {
   "cell_type": "code",
   "execution_count": 121,
   "id": "5df7bbba",
   "metadata": {},
   "outputs": [
    {
     "data": {
      "text/plain": [
       "<AxesSubplot:ylabel='Density'>"
      ]
     },
     "execution_count": 121,
     "metadata": {},
     "output_type": "execute_result"
    },
    {
     "data": {
      "image/png": "[encoded data removed]",
      "text/plain": [
       "<Figure size 432x288 with 1 Axes>"
      ]
     },
     "metadata": {
      "needs_background": "light"
     },
     "output_type": "display_data"
    }
   ],
   "source": [
    "m_f.resid.plot(kind='kde')"
   ]
  },
  {
   "cell_type": "code",
   "execution_count": 122,
   "id": "43b3147d",
   "metadata": {},
   "outputs": [
    {
     "name": "stderr",
     "output_type": "stream",
     "text": [
      "<ipython-input-122-f6dc28799623>:1: SettingWithCopyWarning: \n",
      "A value is trying to be set on a copy of a slice from a DataFrame.\n",
      "Try using .loc[row_indexer,col_indexer] = value instead\n",
      "\n",
      "See the caveats in the documentation: https://pandas.pydata.org/pandas-docs/stable/user_guide/indexing.html#returning-a-view-versus-a-copy\n",
      "  test_data['Predicted_ARIMA']=pred\n"
     ]
    },
    {
     "data": {
      "text/plain": [
       "<AxesSubplot:xlabel='Month_Dt'>"
      ]
     },
     "execution_count": 122,
     "metadata": {},
     "output_type": "execute_result"
    },
    {
     "data": {
      "image/png": "[encoded data removed]",
      "text/plain": [
       "<Figure size 432x288 with 1 Axes>"
      ]
     },
     "metadata": {
      "needs_background": "light"
     },
     "output_type": "display_data"
    }
   ],
   "source": [
    "test_data['Predicted_ARIMA']=pred\n",
    "test_data[['Thousands of Passengers','Predicted_ARIMA']].plot()"
   ]
  },
  {
   "cell_type": "markdown",
   "id": "b8f669ad",
   "metadata": {},
   "source": [
    "### ARIMA not working out for Seasonal, try with SARIMAX"
   ]
  },
  {
   "cell_type": "code",
   "execution_count": 123,
   "id": "5b837c13",
   "metadata": {},
   "outputs": [
    {
     "data": {
      "image/png": "[encoded data removed]",
      "text/plain": [
       "<Figure size 432x288 with 1 Axes>"
      ]
     },
     "metadata": {
      "needs_background": "light"
     },
     "output_type": "display_data"
    },
    {
     "data": {
      "image/png": "[encoded data removed]",
      "text/plain": [
       "<Figure size 432x288 with 1 Axes>"
      ]
     },
     "metadata": {
      "needs_background": "light"
     },
     "output_type": "display_data"
    }
   ],
   "source": [
    "acf12 = plot_acf(df_airline['12_mnth_Difference'].dropna())\n",
    "pacf12 = plot_pacf(df_airline['12_mnth_Difference'].dropna())"
   ]
  },
  {
   "cell_type": "code",
   "execution_count": 124,
   "id": "2d922aa5",
   "metadata": {},
   "outputs": [],
   "source": [
    "#SARIMA\n",
    "\n",
    "from statsmodels.tsa.statespace.sarimax import SARIMAX"
   ]
  },
  {
   "cell_type": "code",
   "execution_count": 125,
   "id": "71bc24b5",
   "metadata": {},
   "outputs": [
    {
     "name": "stderr",
     "output_type": "stream",
     "text": [
      "C:\\Users\\Srivatsan\\anaconda3\\lib\\site-packages\\statsmodels\\tsa\\base\\tsa_model.py:524: ValueWarning: No frequency information was provided, so inferred frequency MS will be used.\n",
      "  warnings.warn('No frequency information was'\n",
      "C:\\Users\\Srivatsan\\anaconda3\\lib\\site-packages\\statsmodels\\tsa\\base\\tsa_model.py:524: ValueWarning: No frequency information was provided, so inferred frequency MS will be used.\n",
      "  warnings.warn('No frequency information was'\n"
     ]
    }
   ],
   "source": [
    "model_SARIMA=SARIMAX(train_data['Thousands of Passengers'],order=(3,1,6),seasonal_order=(0,1,0,12))"
   ]
  },
  {
   "cell_type": "code",
   "execution_count": 126,
   "id": "6ea7ca22",
   "metadata": {},
   "outputs": [
    {
     "name": "stderr",
     "output_type": "stream",
     "text": [
      "C:\\Users\\Srivatsan\\anaconda3\\lib\\site-packages\\statsmodels\\tsa\\statespace\\sarimax.py:978: UserWarning: Non-invertible starting MA parameters found. Using zeros as starting parameters.\n",
      "  warn('Non-invertible starting MA parameters found.'\n",
      "C:\\Users\\Srivatsan\\anaconda3\\lib\\site-packages\\statsmodels\\base\\model.py:566: ConvergenceWarning: Maximum Likelihood optimization failed to converge. Check mle_retvals\n",
      "  warnings.warn(\"Maximum Likelihood optimization failed to \"\n"
     ]
    }
   ],
   "source": [
    "model_SARIMA_fit=model_SARIMA.fit()"
   ]
  },
  {
   "cell_type": "code",
   "execution_count": 127,
   "id": "5aa94346",
   "metadata": {},
   "outputs": [
    {
     "data": {
      "text/html": [
       "<table class=\"simpletable\">\n",
       "<caption>SARIMAX Results</caption>\n",
       "<tr>\n",
       "  <th>Dep. Variable:</th>       <td>Thousands of Passengers</td>     <th>  No. Observations:  </th>    <td>84</td>   \n",
       "</tr>\n",
       "<tr>\n",
       "  <th>Model:</th>           <td>SARIMAX(3, 1, 6)x(0, 1, [], 12)</td> <th>  Log Likelihood     </th> <td>-258.769</td>\n",
       "</tr>\n",
       "<tr>\n",
       "  <th>Date:</th>                   <td>Sun, 05 Jun 2022</td>         <th>  AIC                </th>  <td>537.539</td>\n",
       "</tr>\n",
       "<tr>\n",
       "  <th>Time:</th>                       <td>15:47:23</td>             <th>  BIC                </th>  <td>560.166</td>\n",
       "</tr>\n",
       "<tr>\n",
       "  <th>Sample:</th>                    <td>01-01-1949</td>            <th>  HQIC               </th>  <td>546.537</td>\n",
       "</tr>\n",
       "<tr>\n",
       "  <th></th>                          <td>- 12-01-1955</td>           <th>                     </th>     <td> </td>   \n",
       "</tr>\n",
       "<tr>\n",
       "  <th>Covariance Type:</th>               <td>opg</td>               <th>                     </th>     <td> </td>   \n",
       "</tr>\n",
       "</table>\n",
       "<table class=\"simpletable\">\n",
       "<tr>\n",
       "     <td></td>       <th>coef</th>     <th>std err</th>      <th>z</th>      <th>P>|z|</th>  <th>[0.025</th>    <th>0.975]</th>  \n",
       "</tr>\n",
       "<tr>\n",
       "  <th>ar.L1</th>  <td>   -0.5254</td> <td>    0.204</td> <td>   -2.571</td> <td> 0.010</td> <td>   -0.926</td> <td>   -0.125</td>\n",
       "</tr>\n",
       "<tr>\n",
       "  <th>ar.L2</th>  <td>   -0.6338</td> <td>    0.115</td> <td>   -5.527</td> <td> 0.000</td> <td>   -0.859</td> <td>   -0.409</td>\n",
       "</tr>\n",
       "<tr>\n",
       "  <th>ar.L3</th>  <td>   -0.8820</td> <td>    0.193</td> <td>   -4.580</td> <td> 0.000</td> <td>   -1.259</td> <td>   -0.505</td>\n",
       "</tr>\n",
       "<tr>\n",
       "  <th>ma.L1</th>  <td>    0.3097</td> <td>   31.312</td> <td>    0.010</td> <td> 0.992</td> <td>  -61.061</td> <td>   61.680</td>\n",
       "</tr>\n",
       "<tr>\n",
       "  <th>ma.L2</th>  <td>    0.5600</td> <td>   21.504</td> <td>    0.026</td> <td> 0.979</td> <td>  -41.586</td> <td>   42.706</td>\n",
       "</tr>\n",
       "<tr>\n",
       "  <th>ma.L3</th>  <td>    0.5805</td> <td>   39.130</td> <td>    0.015</td> <td> 0.988</td> <td>  -76.113</td> <td>   77.274</td>\n",
       "</tr>\n",
       "<tr>\n",
       "  <th>ma.L4</th>  <td>   -0.4147</td> <td>   20.869</td> <td>   -0.020</td> <td> 0.984</td> <td>  -41.318</td> <td>   40.489</td>\n",
       "</tr>\n",
       "<tr>\n",
       "  <th>ma.L5</th>  <td>    0.0103</td> <td>    7.922</td> <td>    0.001</td> <td> 0.999</td> <td>  -15.517</td> <td>   15.538</td>\n",
       "</tr>\n",
       "<tr>\n",
       "  <th>ma.L6</th>  <td>   -0.2445</td> <td>    7.581</td> <td>   -0.032</td> <td> 0.974</td> <td>  -15.103</td> <td>   14.614</td>\n",
       "</tr>\n",
       "<tr>\n",
       "  <th>sigma2</th> <td>   79.2293</td> <td> 2469.374</td> <td>    0.032</td> <td> 0.974</td> <td>-4760.654</td> <td> 4919.113</td>\n",
       "</tr>\n",
       "</table>\n",
       "<table class=\"simpletable\">\n",
       "<tr>\n",
       "  <th>Ljung-Box (L1) (Q):</th>     <td>0.03</td> <th>  Jarque-Bera (JB):  </th> <td>1.89</td>\n",
       "</tr>\n",
       "<tr>\n",
       "  <th>Prob(Q):</th>                <td>0.87</td> <th>  Prob(JB):          </th> <td>0.39</td>\n",
       "</tr>\n",
       "<tr>\n",
       "  <th>Heteroskedasticity (H):</th> <td>2.14</td> <th>  Skew:              </th> <td>0.38</td>\n",
       "</tr>\n",
       "<tr>\n",
       "  <th>Prob(H) (two-sided):</th>    <td>0.07</td> <th>  Kurtosis:          </th> <td>2.78</td>\n",
       "</tr>\n",
       "</table><br/><br/>Warnings:<br/>[1] Covariance matrix calculated using the outer product of gradients (complex-step)."
      ],
      "text/plain": [
       "<class 'statsmodels.iolib.summary.Summary'>\n",
       "\"\"\"\n",
       "                                      SARIMAX Results                                      \n",
       "===========================================================================================\n",
       "Dep. Variable:             Thousands of Passengers   No. Observations:                   84\n",
       "Model:             SARIMAX(3, 1, 6)x(0, 1, [], 12)   Log Likelihood                -258.769\n",
       "Date:                             Sun, 05 Jun 2022   AIC                            537.539\n",
       "Time:                                     15:47:23   BIC                            560.166\n",
       "Sample:                                 01-01-1949   HQIC                           546.537\n",
       "                                      - 12-01-1955                                         \n",
       "Covariance Type:                               opg                                         \n",
       "==============================================================================\n",
       "                 coef    std err          z      P>|z|      [0.025      0.975]\n",
       "------------------------------------------------------------------------------\n",
       "ar.L1         -0.5254      0.204     -2.571      0.010      -0.926      -0.125\n",
       "ar.L2         -0.6338      0.115     -5.527      0.000      -0.859      -0.409\n",
       "ar.L3         -0.8820      0.193     -4.580      0.000      -1.259      -0.505\n",
       "ma.L1          0.3097     31.312      0.010      0.992     -61.061      61.680\n",
       "ma.L2          0.5600     21.504      0.026      0.979     -41.586      42.706\n",
       "ma.L3          0.5805     39.130      0.015      0.988     -76.113      77.274\n",
       "ma.L4         -0.4147     20.869     -0.020      0.984     -41.318      40.489\n",
       "ma.L5          0.0103      7.922      0.001      0.999     -15.517      15.538\n",
       "ma.L6         -0.2445      7.581     -0.032      0.974     -15.103      14.614\n",
       "sigma2        79.2293   2469.374      0.032      0.974   -4760.654    4919.113\n",
       "===================================================================================\n",
       "Ljung-Box (L1) (Q):                   0.03   Jarque-Bera (JB):                 1.89\n",
       "Prob(Q):                              0.87   Prob(JB):                         0.39\n",
       "Heteroskedasticity (H):               2.14   Skew:                             0.38\n",
       "Prob(H) (two-sided):                  0.07   Kurtosis:                         2.78\n",
       "===================================================================================\n",
       "\n",
       "Warnings:\n",
       "[1] Covariance matrix calculated using the outer product of gradients (complex-step).\n",
       "\"\"\""
      ]
     },
     "execution_count": 127,
     "metadata": {},
     "output_type": "execute_result"
    }
   ],
   "source": [
    "model_SARIMA_fit.summary()"
   ]
  },
  {
   "cell_type": "code",
   "execution_count": 128,
   "id": "486efb69",
   "metadata": {},
   "outputs": [],
   "source": [
    "pred_start=test_data.index[0]\n",
    "\n",
    "pred_end=test_data.index[-1]"
   ]
  },
  {
   "cell_type": "code",
   "execution_count": 130,
   "id": "5af8b0cf",
   "metadata": {},
   "outputs": [],
   "source": [
    "pred_sarima=model_SARIMA_fit.predict(start=pred_start,end=pred_end)\n",
    "residuals=test_data['Thousands of Passengers']-pred_sarima"
   ]
  },
  {
   "cell_type": "code",
   "execution_count": 131,
   "id": "2270b4dd",
   "metadata": {},
   "outputs": [
    {
     "data": {
      "text/plain": [
       "<AxesSubplot:xlabel='Month_Dt'>"
      ]
     },
     "execution_count": 131,
     "metadata": {},
     "output_type": "execute_result"
    },
    {
     "data": {
      "image/png": "[encoded data removed]",
      "text/plain": [
       "<Figure size 432x288 with 1 Axes>"
      ]
     },
     "metadata": {
      "needs_background": "light"
     },
     "output_type": "display_data"
    }
   ],
   "source": [
    "model_SARIMA_fit.resid.plot()"
   ]
  },
  {
   "cell_type": "code",
   "execution_count": 132,
   "id": "80d0577e",
   "metadata": {},
   "outputs": [
    {
     "data": {
      "text/plain": [
       "<AxesSubplot:ylabel='Density'>"
      ]
     },
     "execution_count": 132,
     "metadata": {},
     "output_type": "execute_result"
    },
    {
     "data": {
      "image/png": "[encoded data removed]",
      "text/plain": [
       "<Figure size 432x288 with 1 Axes>"
      ]
     },
     "metadata": {
      "needs_background": "light"
     },
     "output_type": "display_data"
    }
   ],
   "source": [
    "model_SARIMA_fit.resid.plot(kind='kde')"
   ]
  },
  {
   "cell_type": "code",
   "execution_count": 134,
   "id": "17ce6350",
   "metadata": {},
   "outputs": [
    {
     "name": "stderr",
     "output_type": "stream",
     "text": [
      "<ipython-input-134-5a027fd2bf27>:1: SettingWithCopyWarning: \n",
      "A value is trying to be set on a copy of a slice from a DataFrame.\n",
      "Try using .loc[row_indexer,col_indexer] = value instead\n",
      "\n",
      "See the caveats in the documentation: https://pandas.pydata.org/pandas-docs/stable/user_guide/indexing.html#returning-a-view-versus-a-copy\n",
      "  test_data['Predicted_SARIMA']=pred_sarima\n"
     ]
    }
   ],
   "source": [
    "test_data['Predicted_SARIMA']=pred_sarima"
   ]
  },
  {
   "cell_type": "code",
   "execution_count": 135,
   "id": "607a6322",
   "metadata": {},
   "outputs": [
    {
     "data": {
      "text/plain": [
       "<AxesSubplot:xlabel='Month_Dt'>"
      ]
     },
     "execution_count": 135,
     "metadata": {},
     "output_type": "execute_result"
    },
    {
     "data": {
      "image/png": "[encoded data removed]",
      "text/plain": [
       "<Figure size 432x288 with 1 Axes>"
      ]
     },
     "metadata": {
      "needs_background": "light"
     },
     "output_type": "display_data"
    }
   ],
   "source": [
    "test_data[['Thousands of Passengers','Predicted_SARIMA','Predicted_ARIMA']].plot()"
   ]
  },
  {
   "cell_type": "code",
   "execution_count": null,
   "id": "3f7ed811",
   "metadata": {},
   "outputs": [],
   "source": []
  }
 ],
 "metadata": {
  "kernelspec": {
   "display_name": "Python 3",
   "language": "python",
   "name": "python3"
  },
  "language_info": {
   "codemirror_mode": {
    "name": "ipython",
    "version": 3
   },
   "file_extension": ".py",
   "mimetype": "text/x-python",
   "name": "python",
   "nbconvert_exporter": "python",
   "pygments_lexer": "ipython3",
   "version": "3.8.8"
  }
 },
 "nbformat": 4,
 "nbformat_minor": 5
}
